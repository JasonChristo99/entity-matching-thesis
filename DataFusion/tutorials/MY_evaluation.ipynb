{
 "cells": [
  {
   "cell_type": "code",
   "execution_count": 1,
   "outputs": [
    {
     "name": "stderr",
     "output_type": "stream",
     "text": [
      "C:\\Python38\\lib\\site-packages\\fuzzywuzzy\\fuzz.py:11: UserWarning: Using slow pure-python SequenceMatcher. Install python-Levenshtein to remove this warning\n",
      "  warnings.warn('Using slow pure-python SequenceMatcher. Install python-Levenshtein to remove this warning')\n",
      "C:\\Users\\Iasonas\\AppData\\Roaming\\Python\\Python38\\site-packages\\gensim\\utils.py:1212: UserWarning: detected Windows; aliasing chunkize to chunkize_serial\n",
      "  warnings.warn(\"detected Windows; aliasing chunkize to chunkize_serial\")\n",
      "INFO:summarizer.preprocessing.cleaner:'pattern' package not found; tag filters are not available for English\n",
      "INFO:gensim.models.utils_any2vec:loading projection weights from C:/Users/Iasonas/Downloads/GoogleNews-vectors-negative300.bin\n",
      "INFO:gensim.models.utils_any2vec:loaded (3000000, 300) matrix from C:/Users/Iasonas/Downloads/GoogleNews-vectors-negative300.bin\n",
      "INFO:global:Connection established to database.\n"
     ]
    }
   ],
   "source": [
    "%load_ext autoreload\n",
    "%autoreload 2\n",
    "\n",
    "import os\n",
    "os.chdir('C:/Users/Iasonas/PycharmProjects/EntityMatching_Thesis/DataFusion/tutorials')\n",
    "\n",
    "import fuse\n",
    "fuse_env = fuse.Fuse(verbose=True)\n",
    "fuse_session = fuse_env.get_session('test')\n",
    "\n",
    "MATCHER='DEDUPE'\n",
    "# MATCHER='AHC'"
   ],
   "metadata": {
    "collapsed": false,
    "pycharm": {
     "name": "#%%\n"
    }
   }
  },
  {
   "cell_type": "code",
   "execution_count": 2,
   "outputs": [
    {
     "name": "stderr",
     "output_type": "stream",
     "text": [
      "INFO:dedupe.api:Predicate set:\n",
      "INFO:dedupe.api:(TfidfTextCanopyPredicate: (0.6, year), LevenshteinCanopyPredicate: (3, university), LevenshteinCanopyPredicate: (4, university))\n",
      "INFO:dedupe.api:(TfidfNGramCanopyPredicate: (0.2, university), SimplePredicate: (sameFiveCharStartPredicate, degree))\n",
      "INFO:dedupe.api:(SimplePredicate: (commonFourGram, year), SimplePredicate: (sameThreeCharStartPredicate, degree), LevenshteinCanopyPredicate: (4, university))\n",
      "INFO:dedupe.api:(SimplePredicate: (nearIntegersPredicate, year), SimplePredicate: (suffixArray, university))\n",
      "INFO:dedupe.api:Predicate set:\n",
      "INFO:dedupe.api:Predicate set:\n",
      "INFO:dedupe.api:Predicate set:\n",
      "INFO:dedupe.api:(LevenshteinCanopyPredicate: (2, company), TfidfNGramCanopyPredicate: (0.4, year), SimplePredicate: (commonSixGram, company))\n",
      "INFO:dedupe.api:(SimplePredicate: (firstIntegerPredicate, year), TfidfTextCanopyPredicate: (0.6, title))\n"
     ]
    }
   ],
   "source": [
    "if MATCHER=='DEDUPE':\n",
    "    from matching.dedupe import DedupeMatcher\n",
    "    dataset = fuse_session.ingest('../../datasets/current/observed.json',\n",
    "                                  'fusion_test', matching_strategy=DedupeMatcher)\n",
    "\n",
    "if MATCHER=='AHC':\n",
    "    from matching.ahc_matcher import AgglomerativeHierarchicalClustering\n",
    "    dataset = fuse_session.ingest('../../datasets/current/observed.json',\n",
    "                               'fusion_test', matching_strategy=AgglomerativeHierarchicalClustering)\n"
   ],
   "metadata": {
    "collapsed": false,
    "pycharm": {
     "name": "#%%\n"
    }
   }
  },
  {
   "cell_type": "code",
   "execution_count": 3,
   "metadata": {},
   "outputs": [],
   "source": [
    "fuse_session.train_matchers('../../datasets/current/matched.json')"
   ]
  },
  {
   "cell_type": "code",
   "execution_count": 4,
   "outputs": [],
   "source": [
    "# x=dataset.entity_attribute_matchers['Education'].attribute_to_simrank_matcher['university'].cluster_simrank_buffer\n",
    "# {k: round(v, 3) for k, v in sorted(x.items(), key=lambda item: item[1], reverse=True)}\n",
    "# dataset.entity_attribute_matchers['Education'].attribute_to_simrank_matcher['university'].get_simrank_score_of_tokens('Bsc','undergraduate_degree')\n",
    "# dataset.entity_attribute_matchers['Education'].attribute_to_simrank_matcher['degree'].get_simrank_score_of_tokens('Bsc','undergraduate_degree')\n",
    "# dataset.entity_attribute_matchers['Education'].attribute_to_simrank_matcher['degree'].get_simrank_score_of_tokens('doctorate','doctoral_degree')\n",
    "# dataset.entity_attribute_matchers['Education'].attribute_to_simrank_matcher['degree'].get_simrank_score_of_tokens('doctorate','Bsc')\n",
    "# dataset.entity_attribute_matchers['Education'].attribute_to_simrank_matcher['degree'].get_simrank_score_of_tokens('Msc','Bsc')\n",
    "# x=dataset.entity_attribute_matchers['Working Experience'].attribute_to_simrank_matcher['title'].cluster_simrank_buffer\n",
    "# {k: round(v, 3) for k, v in sorted(x.items(), key=lambda item: item[1], reverse=True)}\n",
    "# dataset.entity_attribute_matchers['Working Experience'].attribute_to_simrank_matcher['title'].get_simrank_score_of_tokens('manager','developer')\n",
    "# dataset.entity_attribute_matchers['Working Experience'].attribute_to_simrank_matcher['title'].get_simrank_score_of_tokens('coder','developer')\n",
    "# dataset.entity_attribute_matchers['Working Experience'].attribute_to_simrank_matcher['title'].get_simrank_score_of_tokens('analyst','developer')\n",
    "# dataset.entity_attribute_matchers['Working Experience'].attribute_to_simrank_matcher['title'].get_simrank_score_of_tokens('analyst','manager')\n",
    "# dataset.entity_attribute_matchers['Working Experience'].attribute_to_simrank_matcher['title'].get_simrank_score_of_tokens('doctor','manager')\n",
    "# dataset.entity_attribute_matchers['Working Experience'].attribute_to_simrank_matcher['title'].get_simrank_score_of_tokens('clinician','doctor')"
   ],
   "metadata": {
    "collapsed": false,
    "pycharm": {
     "name": "#%%\n"
    }
   }
  },
  {
   "cell_type": "code",
   "execution_count": 5,
   "metadata": {
    "pycharm": {
     "name": "#%%\n"
    }
   },
   "outputs": [],
   "source": [
    "fuse_session.match_observations()"
   ]
  },
  {
   "cell_type": "code",
   "execution_count": 6,
   "metadata": {},
   "outputs": [
    {
     "name": "stderr",
     "output_type": "stream",
     "text": [
      "INFO:global:Running truth discovery for 10 iterations.\n",
      "INFO:global:Iteration = 0\n",
      "INFO:global:Source weights = {'Education': {'pipl.com': 1.0, 'find.jobs': 1.0, 'internsteps.com': 1.0, 'pro-profiles.com': 1.0}, 'Location': {'pipl.com': 1.0, 'find.jobs': 1.0, 'internsteps.com': 1.0, 'pro-profiles.com': 1.0}, 'Name': {'pipl.com': 1.0, 'find.jobs': 1.0, 'internsteps.com': 1.0, 'pro-profiles.com': 1.0}, 'Working Experience': {'pipl.com': 1.0, 'find.jobs': 1.0, 'internsteps.com': 1.0, 'pro-profiles.com': 1.0}}\n",
      "INFO:global:Iteration = 1\n",
      "INFO:global:Source weights = {'Education': {'pipl.com': 0.9123614537342654, 'find.jobs': 1.1440746627448668, 'internsteps.com': 1.1440746627448668, 'pro-profiles.com': 0.9400072584914709}, 'Location': {'pipl.com': 4.595119850134589, 'find.jobs': 4.595119850134589, 'internsteps.com': 4.595119850134589, 'pro-profiles.com': 4.595119850134589}, 'Name': {'pipl.com': 4.595119850134589, 'find.jobs': 4.595119850134589, 'internsteps.com': 4.595119850134589, 'pro-profiles.com': 4.595119850134589}, 'Working Experience': {'pipl.com': 4.595119850134589, 'find.jobs': 4.595119850134589, 'internsteps.com': 4.595119850134589, 'pro-profiles.com': 4.595119850134589}}\n",
      "INFO:global:Iteration = 2\n",
      "INFO:global:Source weights = {'Education': {'pipl.com': 0.7270487322356265, 'find.jobs': 1.2383742310432684, 'internsteps.com': 1.1749852674526835, 'pro-profiles.com': 1.0250497214910932}, 'Location': {'pipl.com': 4.595119850134589, 'find.jobs': 4.595119850134589, 'internsteps.com': 4.595119850134589, 'pro-profiles.com': 4.595119850134589}, 'Name': {'pipl.com': 4.595119850134589, 'find.jobs': 4.595119850134589, 'internsteps.com': 4.595119850134589, 'pro-profiles.com': 4.595119850134589}, 'Working Experience': {'pipl.com': 4.595119850134589, 'find.jobs': 4.595119850134589, 'internsteps.com': 4.595119850134589, 'pro-profiles.com': 4.595119850134589}}\n",
      "INFO:global:Iteration = 3\n",
      "INFO:global:Source weights = {'Education': {'pipl.com': 0.7270487322356265, 'find.jobs': 1.2383742310432684, 'internsteps.com': 1.1749852674526835, 'pro-profiles.com': 1.0250497214910932}, 'Location': {'pipl.com': 4.595119850134589, 'find.jobs': 4.595119850134589, 'internsteps.com': 4.595119850134589, 'pro-profiles.com': 4.595119850134589}, 'Name': {'pipl.com': 4.595119850134589, 'find.jobs': 4.595119850134589, 'internsteps.com': 4.595119850134589, 'pro-profiles.com': 4.595119850134589}, 'Working Experience': {'pipl.com': 4.595119850134589, 'find.jobs': 4.595119850134589, 'internsteps.com': 4.595119850134589, 'pro-profiles.com': 4.595119850134589}}\n",
      "INFO:global:Iteration = 4\n",
      "INFO:global:Source weights = {'Education': {'pipl.com': 0.7270487322356265, 'find.jobs': 1.2383742310432684, 'internsteps.com': 1.1749852674526835, 'pro-profiles.com': 1.0250497214910932}, 'Location': {'pipl.com': 4.595119850134589, 'find.jobs': 4.595119850134589, 'internsteps.com': 4.595119850134589, 'pro-profiles.com': 4.595119850134589}, 'Name': {'pipl.com': 4.595119850134589, 'find.jobs': 4.595119850134589, 'internsteps.com': 4.595119850134589, 'pro-profiles.com': 4.595119850134589}, 'Working Experience': {'pipl.com': 4.595119850134589, 'find.jobs': 4.595119850134589, 'internsteps.com': 4.595119850134589, 'pro-profiles.com': 4.595119850134589}}\n",
      "INFO:global:Iteration = 5\n",
      "INFO:global:Source weights = {'Education': {'pipl.com': 0.7270487322356265, 'find.jobs': 1.2383742310432684, 'internsteps.com': 1.1749852674526835, 'pro-profiles.com': 1.0250497214910932}, 'Location': {'pipl.com': 4.595119850134589, 'find.jobs': 4.595119850134589, 'internsteps.com': 4.595119850134589, 'pro-profiles.com': 4.595119850134589}, 'Name': {'pipl.com': 4.595119850134589, 'find.jobs': 4.595119850134589, 'internsteps.com': 4.595119850134589, 'pro-profiles.com': 4.595119850134589}, 'Working Experience': {'pipl.com': 4.595119850134589, 'find.jobs': 4.595119850134589, 'internsteps.com': 4.595119850134589, 'pro-profiles.com': 4.595119850134589}}\n",
      "INFO:global:Iteration = 6\n",
      "INFO:global:Source weights = {'Education': {'pipl.com': 0.7270487322356265, 'find.jobs': 1.2383742310432684, 'internsteps.com': 1.1749852674526835, 'pro-profiles.com': 1.0250497214910932}, 'Location': {'pipl.com': 4.595119850134589, 'find.jobs': 4.595119850134589, 'internsteps.com': 4.595119850134589, 'pro-profiles.com': 4.595119850134589}, 'Name': {'pipl.com': 4.595119850134589, 'find.jobs': 4.595119850134589, 'internsteps.com': 4.595119850134589, 'pro-profiles.com': 4.595119850134589}, 'Working Experience': {'pipl.com': 4.595119850134589, 'find.jobs': 4.595119850134589, 'internsteps.com': 4.595119850134589, 'pro-profiles.com': 4.595119850134589}}\n",
      "INFO:global:Iteration = 7\n",
      "INFO:global:Source weights = {'Education': {'pipl.com': 0.7270487322356265, 'find.jobs': 1.2383742310432684, 'internsteps.com': 1.1749852674526835, 'pro-profiles.com': 1.0250497214910932}, 'Location': {'pipl.com': 4.595119850134589, 'find.jobs': 4.595119850134589, 'internsteps.com': 4.595119850134589, 'pro-profiles.com': 4.595119850134589}, 'Name': {'pipl.com': 4.595119850134589, 'find.jobs': 4.595119850134589, 'internsteps.com': 4.595119850134589, 'pro-profiles.com': 4.595119850134589}, 'Working Experience': {'pipl.com': 4.595119850134589, 'find.jobs': 4.595119850134589, 'internsteps.com': 4.595119850134589, 'pro-profiles.com': 4.595119850134589}}\n",
      "INFO:global:Iteration = 8\n",
      "INFO:global:Source weights = {'Education': {'pipl.com': 0.7270487322356265, 'find.jobs': 1.2383742310432684, 'internsteps.com': 1.1749852674526835, 'pro-profiles.com': 1.0250497214910932}, 'Location': {'pipl.com': 4.595119850134589, 'find.jobs': 4.595119850134589, 'internsteps.com': 4.595119850134589, 'pro-profiles.com': 4.595119850134589}, 'Name': {'pipl.com': 4.595119850134589, 'find.jobs': 4.595119850134589, 'internsteps.com': 4.595119850134589, 'pro-profiles.com': 4.595119850134589}, 'Working Experience': {'pipl.com': 4.595119850134589, 'find.jobs': 4.595119850134589, 'internsteps.com': 4.595119850134589, 'pro-profiles.com': 4.595119850134589}}\n",
      "INFO:global:Iteration = 9\n",
      "INFO:global:Source weights = {'Education': {'pipl.com': 0.7270487322356265, 'find.jobs': 1.2383742310432684, 'internsteps.com': 1.1749852674526835, 'pro-profiles.com': 1.0250497214910932}, 'Location': {'pipl.com': 4.595119850134589, 'find.jobs': 4.595119850134589, 'internsteps.com': 4.595119850134589, 'pro-profiles.com': 4.595119850134589}, 'Name': {'pipl.com': 4.595119850134589, 'find.jobs': 4.595119850134589, 'internsteps.com': 4.595119850134589, 'pro-profiles.com': 4.595119850134589}, 'Working Experience': {'pipl.com': 4.595119850134589, 'find.jobs': 4.595119850134589, 'internsteps.com': 4.595119850134589, 'pro-profiles.com': 4.595119850134589}}\n"
     ]
    }
   ],
   "source": [
    "tr_clusters = fuse_session.find_true_clusters()\n"
   ]
  },
  {
   "cell_type": "code",
   "execution_count": 7,
   "outputs": [
    {
     "name": "stderr",
     "output_type": "stream",
     "text": [
      "INFO:global:Running fusion for 10 iterations.\n",
      "INFO:global:Iteration = 0\n",
      "INFO:global:Source weights = {'Education': {'pipl.com': 1.0, 'find.jobs': 1.0, 'internsteps.com': 1.0, 'pro-profiles.com': 1.0}, 'Location': {'pipl.com': 1.0, 'find.jobs': 1.0, 'internsteps.com': 1.0, 'pro-profiles.com': 1.0}, 'Name': {'pipl.com': 1.0, 'find.jobs': 1.0, 'internsteps.com': 1.0, 'pro-profiles.com': 1.0}, 'Working Experience': {'pipl.com': 1.0, 'find.jobs': 1.0, 'internsteps.com': 1.0, 'pro-profiles.com': 1.0}}\n",
      "INFO:global:Iteration = 1\n",
      "INFO:global:Source weights = {'Education': {'pipl.com': 4.595119850134589, 'find.jobs': 4.595119850134589, 'internsteps.com': 4.595119850134589, 'pro-profiles.com': 4.595119850134589}, 'Location': {'pipl.com': 4.595119850134589, 'find.jobs': 4.595119850134589, 'internsteps.com': 4.595119850134589, 'pro-profiles.com': 4.595119850134589}, 'Name': {'pipl.com': 4.595119850134589, 'find.jobs': 4.595119850134589, 'internsteps.com': 4.595119850134589, 'pro-profiles.com': 4.595119850134589}, 'Working Experience': {'pipl.com': 4.595119850134589, 'find.jobs': 4.595119850134589, 'internsteps.com': 4.595119850134589, 'pro-profiles.com': 4.595119850134589}}\n",
      "INFO:global:Iteration = 2\n",
      "INFO:global:Source weights = {'Education': {'pipl.com': 4.595119850134589, 'find.jobs': 4.595119850134589, 'internsteps.com': 4.595119850134589, 'pro-profiles.com': 4.595119850134589}, 'Location': {'pipl.com': 4.595119850134589, 'find.jobs': 4.595119850134589, 'internsteps.com': 4.595119850134589, 'pro-profiles.com': 4.595119850134589}, 'Name': {'pipl.com': 4.595119850134589, 'find.jobs': 4.595119850134589, 'internsteps.com': 4.595119850134589, 'pro-profiles.com': 4.595119850134589}, 'Working Experience': {'pipl.com': 4.595119850134589, 'find.jobs': 4.595119850134589, 'internsteps.com': 4.595119850134589, 'pro-profiles.com': 4.595119850134589}}\n",
      "INFO:global:Iteration = 3\n",
      "INFO:global:Source weights = {'Education': {'pipl.com': 4.595119850134589, 'find.jobs': 4.595119850134589, 'internsteps.com': 4.595119850134589, 'pro-profiles.com': 4.595119850134589}, 'Location': {'pipl.com': 4.595119850134589, 'find.jobs': 4.595119850134589, 'internsteps.com': 4.595119850134589, 'pro-profiles.com': 4.595119850134589}, 'Name': {'pipl.com': 4.595119850134589, 'find.jobs': 4.595119850134589, 'internsteps.com': 4.595119850134589, 'pro-profiles.com': 4.595119850134589}, 'Working Experience': {'pipl.com': 4.595119850134589, 'find.jobs': 4.595119850134589, 'internsteps.com': 4.595119850134589, 'pro-profiles.com': 4.595119850134589}}\n",
      "INFO:global:Iteration = 4\n",
      "INFO:global:Source weights = {'Education': {'pipl.com': 4.595119850134589, 'find.jobs': 4.595119850134589, 'internsteps.com': 4.595119850134589, 'pro-profiles.com': 4.595119850134589}, 'Location': {'pipl.com': 4.595119850134589, 'find.jobs': 4.595119850134589, 'internsteps.com': 4.595119850134589, 'pro-profiles.com': 4.595119850134589}, 'Name': {'pipl.com': 4.595119850134589, 'find.jobs': 4.595119850134589, 'internsteps.com': 4.595119850134589, 'pro-profiles.com': 4.595119850134589}, 'Working Experience': {'pipl.com': 4.595119850134589, 'find.jobs': 4.595119850134589, 'internsteps.com': 4.595119850134589, 'pro-profiles.com': 4.595119850134589}}\n",
      "INFO:global:Iteration = 5\n",
      "INFO:global:Source weights = {'Education': {'pipl.com': 4.595119850134589, 'find.jobs': 4.595119850134589, 'internsteps.com': 4.595119850134589, 'pro-profiles.com': 4.595119850134589}, 'Location': {'pipl.com': 4.595119850134589, 'find.jobs': 4.595119850134589, 'internsteps.com': 4.595119850134589, 'pro-profiles.com': 4.595119850134589}, 'Name': {'pipl.com': 4.595119850134589, 'find.jobs': 4.595119850134589, 'internsteps.com': 4.595119850134589, 'pro-profiles.com': 4.595119850134589}, 'Working Experience': {'pipl.com': 4.595119850134589, 'find.jobs': 4.595119850134589, 'internsteps.com': 4.595119850134589, 'pro-profiles.com': 4.595119850134589}}\n",
      "INFO:global:Iteration = 6\n",
      "INFO:global:Source weights = {'Education': {'pipl.com': 4.595119850134589, 'find.jobs': 4.595119850134589, 'internsteps.com': 4.595119850134589, 'pro-profiles.com': 4.595119850134589}, 'Location': {'pipl.com': 4.595119850134589, 'find.jobs': 4.595119850134589, 'internsteps.com': 4.595119850134589, 'pro-profiles.com': 4.595119850134589}, 'Name': {'pipl.com': 4.595119850134589, 'find.jobs': 4.595119850134589, 'internsteps.com': 4.595119850134589, 'pro-profiles.com': 4.595119850134589}, 'Working Experience': {'pipl.com': 4.595119850134589, 'find.jobs': 4.595119850134589, 'internsteps.com': 4.595119850134589, 'pro-profiles.com': 4.595119850134589}}\n",
      "INFO:global:Iteration = 7\n",
      "INFO:global:Source weights = {'Education': {'pipl.com': 4.595119850134589, 'find.jobs': 4.595119850134589, 'internsteps.com': 4.595119850134589, 'pro-profiles.com': 4.595119850134589}, 'Location': {'pipl.com': 4.595119850134589, 'find.jobs': 4.595119850134589, 'internsteps.com': 4.595119850134589, 'pro-profiles.com': 4.595119850134589}, 'Name': {'pipl.com': 4.595119850134589, 'find.jobs': 4.595119850134589, 'internsteps.com': 4.595119850134589, 'pro-profiles.com': 4.595119850134589}, 'Working Experience': {'pipl.com': 4.595119850134589, 'find.jobs': 4.595119850134589, 'internsteps.com': 4.595119850134589, 'pro-profiles.com': 4.595119850134589}}\n",
      "INFO:global:Iteration = 8\n",
      "INFO:global:Source weights = {'Education': {'pipl.com': 4.595119850134589, 'find.jobs': 4.595119850134589, 'internsteps.com': 4.595119850134589, 'pro-profiles.com': 4.595119850134589}, 'Location': {'pipl.com': 4.595119850134589, 'find.jobs': 4.595119850134589, 'internsteps.com': 4.595119850134589, 'pro-profiles.com': 4.595119850134589}, 'Name': {'pipl.com': 4.595119850134589, 'find.jobs': 4.595119850134589, 'internsteps.com': 4.595119850134589, 'pro-profiles.com': 4.595119850134589}, 'Working Experience': {'pipl.com': 4.595119850134589, 'find.jobs': 4.595119850134589, 'internsteps.com': 4.595119850134589, 'pro-profiles.com': 4.595119850134589}}\n",
      "INFO:global:Iteration = 9\n",
      "INFO:global:Source weights = {'Education': {'pipl.com': 4.595119850134589, 'find.jobs': 4.595119850134589, 'internsteps.com': 4.595119850134589, 'pro-profiles.com': 4.595119850134589}, 'Location': {'pipl.com': 4.595119850134589, 'find.jobs': 4.595119850134589, 'internsteps.com': 4.595119850134589, 'pro-profiles.com': 4.595119850134589}, 'Name': {'pipl.com': 4.595119850134589, 'find.jobs': 4.595119850134589, 'internsteps.com': 4.595119850134589, 'pro-profiles.com': 4.595119850134589}, 'Working Experience': {'pipl.com': 4.595119850134589, 'find.jobs': 4.595119850134589, 'internsteps.com': 4.595119850134589, 'pro-profiles.com': 4.595119850134589}}\n"
     ]
    }
   ],
   "source": [
    "true_facts = fuse_session.find_true_facts(persist=True, no_weights=False)"
   ],
   "metadata": {
    "collapsed": false,
    "pycharm": {
     "name": "#%%\n"
    }
   }
  },
  {
   "cell_type": "code",
   "execution_count": 8,
   "metadata": {
    "pycharm": {
     "name": "#%%\n"
    }
   },
   "outputs": [
    {
     "name": "stdout",
     "output_type": "stream",
     "text": [
      "0 Education {'year': '2010', 'degree': 'Msc', 'university': 'UC_Berkley'}\n",
      "0 Location {'location': 'Langtown'}\n",
      "0 Name {'name': 'Weslfy Wilsonn'}\n",
      "0 Working Experience {'company': 'Lopez-Smith', 'title': 'developer', 'years': '1995-1996'}\n",
      "1 Education {'year': '1997', 'degree': 'Msc', 'university': 'UMass'}\n",
      "1 Location {'location': 'BENNETTFURT'}\n",
      "1 Name {'name': 'Adam O.'}\n",
      "1 Working Experience {'company': 'Jones-Mckenzie', 'title': 'analyst', 'years': '1992-1995'}\n",
      "2 Education {'year': '2014', 'degree': 'Phd', 'university': 'UMass'}\n",
      "2 Location {'location': 'HORNFORT'}\n",
      "2 Name {'name': 'Sharo Martinez'}\n",
      "2 Working Experience {'company': 'Richards LLC', 'title': 'doctor', 'years': '2017-2020'}\n",
      "3 Education {'year': '1992', 'degree': 'Phd', 'university': 'UC_Berkley'}\n",
      "3 Location {'location': 'BAILEYFURT'}\n",
      "3 Name {'name': 'Richard Wright'}\n",
      "3 Working Experience {'company': 'Forbes and Sons', 'title': 'doctor', 'years': '1991-1995'}\n",
      "4 Education {'year': '2003', 'degree': 'Msc', 'university': 'UCSC'}\n",
      "4 Location {'location': 'Tammyburgh'}\n",
      "4 Name {'name': 'Rogers P.'}\n",
      "4 Working Experience {'company': 'Adams-Haynes', 'title': 'analyst', 'years': '2004-2008'}\n",
      "5 Education {'year': '2019', 'degree': 'Msc', 'university': 'UCSC'}\n",
      "5 Location {'location': 'Port Dustin'}\n",
      "5 Name {'name': 'Ryan Davis'}\n",
      "5 Working Experience {'company': 'Gonzales-Lopez', 'title': 'doctor', 'years': '1997-2018'}\n",
      "6 Education {'year': '2010', 'degree': 'Msc', 'university': 'UC_Berkley'}\n",
      "6 Location {'location': 'JULIAVIEW'}\n",
      "6 Name {'name': 'Campbell'}\n",
      "6 Working Experience {'company': 'Cochran Group', 'title': 'developer', 'years': '1997-2013'}\n",
      "7 Education {'year': '2007', 'degree': 'Msc', 'university': 'UMass'}\n",
      "7 Location {'location': 'West Veronica'}\n",
      "7 Name {'name': 'Jonathan Baker'}\n",
      "7 Working Experience {'company': 'Fuller Group', 'title': 'analyst', 'years': '1996-2000'}\n",
      "8 Location {'location': 'TROYBURY'}\n",
      "8 Name {'name': 'Chelsea Cook'}\n",
      "8 Working Experience {'company': 'Castaneda, Bruce and Wise', 'title': 'manager', 'years': '1998-2007'}\n",
      "9 Education {'year': '1997', 'degree': 'master', 'university': 'UC_Berkley'}\n",
      "9 Education {'year': '1997', 'degree': 'Bsc', 'university': 'UMass'}\n",
      "9 Location {'location': 'New L.'}\n",
      "9 Name {'name': 'C. C.'}\n",
      "9 Working Experience {'company': 'Mills Group', 'title': 'doctor', 'years': '1997-1998'}\n",
      "10 Location {'location': 'Josephtown'}\n",
      "10 Name {'name': 'SAMUEL FREEMAN'}\n",
      "10 Working Experience {'company': 'Gray and Sons', 'title': 'analyst', 'years': '1990-1997'}\n",
      "11 Education {'year': '2014', 'degree': 'Bsc', 'university': 'UMass'}\n",
      "11 Location {'location': 'North S.'}\n",
      "11 Name {'name': 'Michael Smith'}\n",
      "11 Working Experience {'company': 'Wallace-Brown', 'title': 'developer', 'years': '1991-2013'}\n",
      "12 Education {'year': '1999', 'degree': 'Msc', 'university': 'MIT'}\n",
      "12 Location {'location': 'North William'}\n",
      "12 Name {'name': 'Paul Thompson'}\n",
      "12 Working Experience {'company': 'Harding-Luna', 'title': 'doctor', 'years': '2008-2012'}\n",
      "13 Education {'year': '2004', 'degree': 'Msc', 'university': 'UC_Berkley'}\n",
      "13 Location {'location': 'Heatherberg'}\n",
      "13 Name {'name': 'Carol Ross'}\n",
      "13 Working Experience {'company': 'Kramer-Murphy', 'title': 'manager', 'years': '2005-2013'}\n",
      "14 Education {'year': '1995', 'degree': 'Bsc', 'university': 'UMass'}\n",
      "14 Location {'location': 'Lake Tammy'}\n",
      "14 Name {'name': 'KIMBESLZ'}\n",
      "14 Working Experience {'company': 'Knox, Holland and Lin', 'title': 'manager', 'years': '2001-2002'}\n",
      "15 Education {'year': '2003', 'degree': 'Msc', 'university': 'MIT'}\n",
      "15 Location {'location': 'South Andrew'}\n",
      "15 Name {'name': 'James Yates'}\n",
      "15 Working Experience {'company': 'Cantrell-Brown', 'title': 'developer', 'years': '1993-2015'}\n",
      "16 Education {'year': '2016', 'degree': 'Bsc', 'university': 'UMass'}\n",
      "16 Location {'location': 'NICOLEBURGH'}\n",
      "16 Name {'name': 'Stephanie Myers'}\n",
      "16 Working Experience {'company': 'Rodgers, Zavala and Johnson', 'title': 'doctor', 'years': '1990-2017'}\n",
      "17 Location {'location': 'Mitchellview'}\n",
      "17 Name {'name': 'Robesrt Horuton'}\n",
      "17 Working Experience {'company': 'Hooper-Barrett', 'title': 'doctor', 'years': '2004-2005'}\n",
      "18 Location {'location': 'Port Stephen'}\n",
      "18 Name {'name': 'Mills G'}\n",
      "18 Working Experience {'company': 'Stokes-Christian', 'title': 'analyst', 'years': '2014-2020'}\n",
      "19 Education {'year': '1995', 'degree': 'Msc', 'university': 'UCSC'}\n",
      "19 Location {'location': 'BAILEYBURGH'}\n",
      "19 Name {'name': 'Jason Miranda'}\n",
      "19 Working Experience {'company': 'Robinson, Nelson and Shannon', 'title': 'doctor', 'years': '2008-2010'}\n",
      "20 Education {'year': '1994', 'degree': 'Phd', 'university': 'UMass'}\n",
      "20 Location {'location': 'South Jameschester'}\n",
      "20 Name {'name': 'Joshua Gross'}\n",
      "20 Working Experience {'company': 'Lucas-Hernandez', 'title': 'manager', 'years': '1997-2002'}\n",
      "21 Education {'year': '2016', 'degree': 'Bsc', 'university': 'UMass'}\n",
      "21 Location {'location': 'West Fernandotown'}\n",
      "21 Name {'name': 'Kiberly Scott'}\n",
      "21 Working Experience {'company': 'Farrell, Bryant and Hart', 'title': 'manager', 'years': '1992-2007'}\n",
      "22 Education {'year': '1998', 'degree': 'Bsc', 'university': 'UC_Berkley'}\n",
      "22 Location {'location': 'H. New'}\n",
      "22 Name {'name': 'Mark Torres'}\n",
      "22 Working Experience {'company': 'Walton, Larson and Franklin', 'title': 'analyst', 'years': '1993-1994'}\n",
      "23 Education {'year': '1995', 'degree': 'Msc', 'university': 'UMass'}\n",
      "23 Location {'location': 'West Jorge'}\n",
      "23 Name {'name': 'Anthony Hart'}\n",
      "23 Working Experience {'company': 'Anderson-Lewis', 'title': 'analyst', 'years': '2002-2004'}\n",
      "24 Location {'location': 'RAMOSBERG'}\n",
      "24 Name {'name': 'Phillip Bradford'}\n",
      "24 Working Experience {'company': 'Mcmillan, Norman and Ramirez', 'title': 'manager', 'years': '2001-2011'}\n",
      "25 Education {'year': '2006', 'degree': 'Msc', 'university': 'UC_Berkley'}\n",
      "25 Location {'location': 'South Dianabury'}\n",
      "25 Name {'name': 'Harppr'}\n",
      "25 Working Experience {'company': 'Guzman-Smith', 'title': 'manager', 'years': '1991-1999'}\n",
      "26 Education {'year': '2006', 'degree': 'Msc', 'university': 'UCSC'}\n",
      "26 Location {'location': 'Hartville'}\n",
      "26 Name {'name': 'Barbara Burke'}\n",
      "26 Working Experience {'company': 'Taylor and Sons', 'title': 'doctor', 'years': '2001-2004'}\n",
      "27 Education {'year': '2020', 'degree': 'Phd', 'university': 'UC_Berkley'}\n",
      "27 Location {'location': 'New Michele'}\n",
      "27 Name {'name': 'Michelle Lee'}\n",
      "27 Working Experience {'company': 'Miller-Ramirez', 'title': 'analyst', 'years': '2011-2014'}\n",
      "28 Location {'location': 'Lake Carlosmouth'}\n",
      "28 Name {'name': 'Kathleen Cook'}\n",
      "28 Working Experience {'company': 'Gilbert-Hess', 'title': 'manager', 'years': '1997-2004'}\n",
      "29 Education {'year': '2004', 'degree': 'Phd', 'university': 'MIT'}\n",
      "29 Location {'location': 'COXTOWN'}\n",
      "29 Name {'name': 'Matthew Gilbert'}\n",
      "29 Working Experience {'company': 'Tyler, Hunt and Collins', 'title': 'developer', 'years': '1992-2008'}\n",
      "30 Education {'year': '2013', 'degree': 'Phd', 'university': 'UCSC'}\n",
      "30 Location {'location': 'ANGELATON'}\n",
      "30 Name {'name': 'Torres'}\n",
      "30 Working Experience {'company': 'Heath Ltd', 'title': 'doctor', 'years': '2019-2020'}\n",
      "31 Education {'year': '1998', 'degree': 'Msc', 'university': 'UC_Berkley'}\n",
      "31 Location {'location': 'North Scott'}\n",
      "31 Name {'name': 'Dawn Martiez'}\n",
      "31 Working Experience {'company': 'Pearson Ltd', 'title': 'developer', 'years': '1994-2016'}\n",
      "32 Education {'year': '2016', 'degree': 'Bsc', 'university': 'UC_Berkley'}\n",
      "32 Education {'year': '1995', 'degree': 'Phd', 'university': 'UC_Berkley'}\n",
      "32 Location {'location': 'New Christina'}\n",
      "32 Name {'name': 'Sabrina Vasqquez'}\n",
      "32 Working Experience {'company': 'Carter, Tucker and Luna', 'title': 'developer', 'years': '1998-2007'}\n",
      "33 Education {'year': '1991', 'degree': 'Msc', 'university': 'UMass'}\n",
      "33 Location {'location': 'West Karen'}\n",
      "33 Name {'name': 'TRAN'}\n",
      "33 Working Experience {'company': 'Cummings Group', 'title': 'developer', 'years': '1991-1993'}\n",
      "34 Education {'year': '2017', 'degree': 'Phd', 'university': 'UCSC'}\n",
      "34 Education {'year': '2007', 'degree': 'Phd', 'university': 'UMass'}\n",
      "34 Location {'location': 'Port Lucasview'}\n",
      "34 Name {'name': 'Marttin'}\n",
      "34 Working Experience {'company': 'Porter-Richardson', 'title': 'developer', 'years': '2007-2015'}\n",
      "35 Education {'year': '2008', 'degree': 'Msc', 'university': 'UMass'}\n",
      "35 Location {'location': 'West Stacey'}\n",
      "35 Name {'name': 'Ashley Tyler'}\n",
      "35 Working Experience {'company': 'Jordan, Lin and Sharp', 'title': 'manager', 'years': '2009-2011'}\n",
      "36 Education {'year': '2013', 'degree': 'Msc', 'university': 'MIT'}\n",
      "36 Location {'location': 'New Jasonborough'}\n",
      "36 Name {'name': 'L. Suewart'}\n",
      "36 Working Experience {'company': 'Howard, Rodriguez and Shaw', 'title': 'doctor', 'years': '2002-2007'}\n",
      "37 Education {'year': '2013', 'degree': 'Msc', 'university': 'UMass'}\n",
      "37 Location {'location': 'West Deborah'}\n",
      "37 Name {'name': 'Lee'}\n",
      "37 Working Experience {'company': 'Trujillo Inc', 'title': 'developer', 'years': '1999-2006'}\n",
      "38 Education {'year': '2018', 'degree': 'Msc', 'university': 'MIT'}\n",
      "38 Education {'year': '1999', 'degree': 'Msc', 'university': 'UC_Berkley'}\n",
      "38 Location {'location': 'Johnshjre'}\n",
      "38 Name {'name': 'Matthew Taylor'}\n",
      "38 Working Experience {'company': 'Smith PLC', 'title': 'developer', 'years': '2006-2020'}\n",
      "39 Education {'year': '2014', 'degree': 'Bsc', 'university': 'UMass'}\n",
      "39 Education {'year': '2004', 'degree': 'Bsc', 'university': 'MIT'}\n",
      "39 Location {'location': 'Hollybury'}\n",
      "39 Name {'name': 'Martin Torres'}\n",
      "39 Working Experience {'company': 'Harper, Jordan and Edwards', 'title': 'developer', 'years': '2003-2004'}\n",
      "40 Education {'year': '1998', 'degree': 'Phd', 'university': 'UCSC'}\n",
      "40 Education {'year': '1991', 'degree': 'Msc', 'university': 'UC_Berkley'}\n",
      "40 Location {'location': 'West A.'}\n",
      "40 Name {'name': 'Jessicaa Vega'}\n",
      "40 Working Experience {'company': 'Nelson-Jonson', 'title': 'developer', 'years': '2005-2007'}\n",
      "41 Education {'year': '1996', 'degree': 'Phd', 'university': 'MIT'}\n",
      "41 Education {'year': '2001', 'degree': 'Bsc', 'university': 'MIT'}\n",
      "41 Location {'location': 'ASHLEYHAVEN'}\n",
      "41 Name {'name': 'Juan Salas'}\n",
      "41 Working Experience {'company': 'Yates-Chavez', 'title': 'analyst', 'years': '1994-1995'}\n",
      "42 Location {'location': 'Piercetown'}\n",
      "42 Name {'name': 'Sandra Duriam'}\n",
      "42 Working Experience {'company': 'Williams, Cox and Moon', 'title': 'analyst', 'years': '2003-2009'}\n",
      "43 Location {'location': 'West S.'}\n",
      "43 Name {'name': 'Douglas Owen'}\n",
      "43 Working Experience {'company': 'Hanezy LLC', 'title': 'manager', 'years': '1992-2012'}\n",
      "44 Education {'year': '2003', 'degree': 'Bsc', 'university': 'UMass'}\n",
      "44 Location {'location': 'CLEMENTSVIEW'}\n",
      "44 Name {'name': 'KRISTIN ONEAL'}\n",
      "44 Working Experience {'company': 'Griffin-Vincent', 'title': 'manager', 'years': '2017-2018'}\n",
      "45 Education {'year': '2007', 'degree': 'Bsc', 'university': 'UCSC'}\n",
      "45 Location {'location': 'East Jennifer'}\n",
      "45 Name {'name': 'Isabella Davvis'}\n",
      "45 Working Experience {'company': 'Schwartz Ltd', 'title': 'developer', 'years': '1991-2006'}\n",
      "46 Education {'year': '2000', 'degree': 'Bsc', 'university': 'MIT'}\n",
      "46 Education {'year': '2004', 'degree': 'Msc', 'university': 'UCSC'}\n",
      "46 Location {'location': 'SONYATOWN'}\n",
      "46 Name {'name': 'Janet Medina'}\n",
      "46 Working Experience {'company': 'Alvarado-Mendoza', 'title': 'developer', 'years': '1992-2012'}\n",
      "47 Education {'year': '1992', 'degree': 'Bsc', 'university': 'Berkeley'}\n",
      "47 Location {'location': 'New Stephanie'}\n",
      "47 Name {'name': 'Adam Cruz'}\n",
      "47 Working Experience {'company': 'Guzman-Fernandez', 'title': 'doctor', 'years': '2003-2005'}\n",
      "48 Education {'year': '2014', 'degree': 'Bsc', 'university': 'MIT'}\n",
      "48 Education {'year': '2009', 'degree': 'Phd', 'university': 'UCSC'}\n",
      "48 Location {'location': 'PERKINSTON'}\n",
      "48 Name {'name': 'Randy Foley'}\n",
      "48 Working Experience {'company': 'Young Group', 'title': 'manager', 'years': '1993-2001'}\n",
      "49 Education {'year': '2013', 'degree': 'Msc', 'university': 'UC_Berkley'}\n",
      "49 Location {'location': 'CHARLESMOUTH'}\n",
      "49 Name {'name': 'M. T.'}\n",
      "49 Working Experience {'company': 'Lyons PLC', 'title': 'doctor', 'years': '2011-2014'}\n"
     ]
    }
   ],
   "source": [
    "true_facts_sort = sorted(true_facts, key=lambda tf: (tf.ent_id, tf.ent_attr), reverse=False)\n",
    "for f in true_facts_sort:\n",
    "    print(f.ent_id, f.ent_attr, f.canonicalTuple)\n",
    "\n",
    "# for f in true_facts:\n",
    "#     print(f.canonicalTuple)"
   ]
  },
  {
   "cell_type": "code",
   "execution_count": 12,
   "metadata": {
    "pycharm": {
     "name": "#%%\n"
    }
   },
   "outputs": [
    {
     "name": "stdout",
     "output_type": "stream",
     "text": [
      "Matched = 201.00, Unmatched true = 30.00, Unmatched inferred = 0.00, Total = 231.00\n",
      "Unmatched true facts:\n",
      "[(0, 'Education', {'degree': 'Msc', 'university': 'UMass', 'year': '2019'}),\n",
      " (2,\n",
      "  'Working Experience',\n",
      "  {'company': 'Garcia, Ross and Leonard',\n",
      "   'title': 'doctor',\n",
      "   'years': '2017-2020'}),\n",
      " (8, 'Education', {'degree': 'Bsc', 'university': 'UMass', 'year': '1997'}),\n",
      " (10, 'Education', {'degree': 'Phd', 'university': 'UMass', 'year': '1995'}),\n",
      " (15, 'Education', {'degree': 'Msc', 'university': 'UMass', 'year': '2001'}),\n",
      " (15,\n",
      "  'Working Experience',\n",
      "  {'company': 'Mejia, Morgan and Olsen',\n",
      "   'title': 'doctor',\n",
      "   'years': '1993-2015'}),\n",
      " (16, 'Education', {'degree': 'Bsc', 'university': 'UMass', 'year': '2016'}),\n",
      " (17,\n",
      "  'Education',\n",
      "  {'degree': 'Phd', 'university': 'UC_Berkley', 'year': '2005'}),\n",
      " (17,\n",
      "  'Working Experience',\n",
      "  {'company': 'Hancock Ltd', 'title': 'analyst', 'years': '1994-2015'}),\n",
      " (17,\n",
      "  'Working Experience',\n",
      "  {'company': 'Porter-Todd', 'title': 'doctor', 'years': '2004-2005'}),\n",
      " (18, 'Education', {'degree': 'Msc', 'university': 'UCSC', 'year': '2006'}),\n",
      " (24, 'Education', {'degree': 'Bsc', 'university': 'UCSC', 'year': '1999'}),\n",
      " (24,\n",
      "  'Working Experience',\n",
      "  {'company': 'Mcmillan, Norman and Ramirez',\n",
      "   'title': 'manager',\n",
      "   'years': '2001-2011'}),\n",
      " (28, 'Education', {'degree': 'Phd', 'university': 'UMass', 'year': '2011'}),\n",
      " (28,\n",
      "  'Education',\n",
      "  {'degree': 'Phd', 'university': 'UC_Berkley', 'year': '1996'}),\n",
      " (28, 'Education', {'degree': 'Msc', 'university': 'UMass', 'year': '2006'}),\n",
      " (30,\n",
      "  'Working Experience',\n",
      "  {'company': 'Heath Ltd', 'title': 'doctor', 'years': '1992-2013'}),\n",
      " (35, 'Education', {'degree': 'Bsc', 'university': 'UMass', 'year': '1991'}),\n",
      " (35,\n",
      "  'Education',\n",
      "  {'degree': 'Phd', 'university': 'UC_Berkley', 'year': '2011'}),\n",
      " (39, 'Education', {'degree': 'Bsc', 'university': 'MIT', 'year': '2004'}),\n",
      " (39,\n",
      "  'Working Experience',\n",
      "  {'company': 'Harper, Jordan and Edwards',\n",
      "   'title': 'developer',\n",
      "   'years': '2003-2004'}),\n",
      " (39,\n",
      "  'Working Experience',\n",
      "  {'company': 'Harris-Johnson', 'title': 'developer', 'years': '1991-1996'}),\n",
      " (41, 'Education', {'degree': 'Bsc', 'university': 'MIT', 'year': '2001'}),\n",
      " (42, 'Education', {'degree': 'Bsc', 'university': 'MIT', 'year': '2015'}),\n",
      " (42,\n",
      "  'Working Experience',\n",
      "  {'company': 'Novak-Martin', 'title': 'analyst', 'years': '2006-2017'}),\n",
      " (43, 'Education', {'degree': 'Bsc', 'university': 'UCSC', 'year': '2019'}),\n",
      " (44,\n",
      "  'Working Experience',\n",
      "  {'company': 'Riddle and Sons', 'title': 'manager', 'years': '1993-2020'}),\n",
      " (44,\n",
      "  'Working Experience',\n",
      "  {'company': 'Griffin-Vincent', 'title': 'manager', 'years': '2000-2018'}),\n",
      " (47,\n",
      "  'Working Experience',\n",
      "  {'company': 'Guzman-Fernandez', 'title': 'doctor', 'years': '2006-2009'}),\n",
      " (49,\n",
      "  'Education',\n",
      "  {'degree': 'Msc', 'university': 'UC_Berkley', 'year': '2013'})]\n",
      "Unmatched inferred facts:\n",
      "[]\n",
      "Recall= 0.87\n",
      "Precision = 1.00\n",
      "Accuracy = 0.87\n",
      "f1score = 0.93\n",
      "{'recall': 0.8701298701298701, 'precision': 1.0, 'accuracy': 0.8701298701298701, 'f1score': 0.9305555555555556}\n"
     ]
    }
   ],
   "source": [
    "eval = fuse_session.evaluate(inferred_facts=true_facts, grd_path='../../datasets/current/eval.json')\n",
    "print(eval)"
   ]
  }
 ],
 "metadata": {
  "kernelspec": {
   "display_name": "PyCharm (EntityMatching_Thesis)",
   "language": "python",
   "name": "pycharm-a8ea7e6e"
  },
  "language_info": {
   "codemirror_mode": {
    "name": "ipython",
    "version": 3
   },
   "file_extension": ".py",
   "mimetype": "text/x-python",
   "name": "python",
   "nbconvert_exporter": "python",
   "pygments_lexer": "ipython3",
   "version": "3.8.5"
  }
 },
 "nbformat": 4,
 "nbformat_minor": 2
}
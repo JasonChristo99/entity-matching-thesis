{
 "cells": [
  {
   "cell_type": "code",
   "execution_count": 1,
   "outputs": [
    {
     "name": "stderr",
     "output_type": "stream",
     "text": [
      "C:\\Python38\\lib\\site-packages\\fuzzywuzzy\\fuzz.py:11: UserWarning: Using slow pure-python SequenceMatcher. Install python-Levenshtein to remove this warning\n",
      "  warnings.warn('Using slow pure-python SequenceMatcher. Install python-Levenshtein to remove this warning')\n",
      "C:\\Users\\Iasonas\\AppData\\Roaming\\Python\\Python38\\site-packages\\gensim\\utils.py:1212: UserWarning: detected Windows; aliasing chunkize to chunkize_serial\n",
      "  warnings.warn(\"detected Windows; aliasing chunkize to chunkize_serial\")\n",
      "INFO:summarizer.preprocessing.cleaner:'pattern' package not found; tag filters are not available for English\n",
      "INFO:gensim.models.utils_any2vec:loading projection weights from C:/Users/Iasonas/Downloads/GoogleNews-vectors-negative300.bin\n",
      "INFO:gensim.models.utils_any2vec:loaded (3000000, 300) matrix from C:/Users/Iasonas/Downloads/GoogleNews-vectors-negative300.bin\n",
      "INFO:global:Connection established to database.\n"
     ]
    }
   ],
   "source": [
    "%load_ext autoreload\n",
    "%autoreload 2\n",
    "\n",
    "import os\n",
    "os.chdir('C:/Users/Iasonas/PycharmProjects/EntityMatching_Thesis/DataFusion/tutorials')\n",
    "\n",
    "import fuse\n",
    "fuse_env = fuse.Fuse(verbose=True)\n",
    "fuse_session = fuse_env.get_session('test')\n",
    "\n",
    "MATCHER='DEDUPE'\n",
    "# MATCHER='AHC'"
   ],
   "metadata": {
    "collapsed": false,
    "pycharm": {
     "name": "#%%\n"
    }
   }
  },
  {
   "cell_type": "code",
   "execution_count": 2,
   "outputs": [
    {
     "name": "stderr",
     "output_type": "stream",
     "text": [
      "INFO:dedupe.api:Predicate set:\n",
      "INFO:dedupe.api:Predicate set:\n",
      "INFO:dedupe.api:(TfidfTextCanopyPredicate: (0.6, year), LevenshteinCanopyPredicate: (3, university), LevenshteinCanopyPredicate: (4, university))\n",
      "INFO:dedupe.api:(TfidfNGramCanopyPredicate: (0.2, university), SimplePredicate: (sameFiveCharStartPredicate, degree))\n",
      "INFO:dedupe.api:(SimplePredicate: (commonFourGram, year), SimplePredicate: (sameThreeCharStartPredicate, degree), LevenshteinCanopyPredicate: (4, university))\n",
      "INFO:dedupe.api:(SimplePredicate: (nearIntegersPredicate, year), SimplePredicate: (suffixArray, university))\n",
      "INFO:dedupe.api:Predicate set:\n",
      "INFO:dedupe.api:(LevenshteinCanopyPredicate: (2, company), TfidfNGramCanopyPredicate: (0.4, year), SimplePredicate: (commonSixGram, company))\n",
      "INFO:dedupe.api:(SimplePredicate: (firstIntegerPredicate, year), TfidfTextCanopyPredicate: (0.6, title))\n",
      "INFO:dedupe.api:Predicate set:\n"
     ]
    }
   ],
   "source": [
    "if MATCHER=='DEDUPE':\n",
    "    from matching.dedupe import DedupeMatcher\n",
    "    dataset = fuse_session.ingest('../../datasets/current/observed.json',\n",
    "                                  'fusion_test', matching_strategy=DedupeMatcher)\n",
    "\n",
    "if MATCHER=='AHC':\n",
    "    from matching.ahc_matcher import AgglomerativeHierarchicalClustering\n",
    "    dataset = fuse_session.ingest('../../datasets/current/observed.json',\n",
    "                               'fusion_test', matching_strategy=AgglomerativeHierarchicalClustering)\n"
   ],
   "metadata": {
    "collapsed": false,
    "pycharm": {
     "name": "#%%\n"
    }
   }
  },
  {
   "cell_type": "code",
   "execution_count": 3,
   "metadata": {},
   "outputs": [],
   "source": [
    "fuse_session.train_matchers('../../datasets/current/matched.json')"
   ]
  },
  {
   "cell_type": "code",
   "execution_count": 4,
   "outputs": [],
   "source": [
    "# x=dataset.entity_attribute_matchers['Education'].attribute_to_simrank_matcher['university'].cluster_simrank_buffer\n",
    "# {k: round(v, 3) for k, v in sorted(x.items(), key=lambda item: item[1], reverse=True)}\n",
    "# dataset.entity_attribute_matchers['Education'].attribute_to_simrank_matcher['university'].get_simrank_score_of_tokens('Bsc','undergraduate_degree')\n",
    "# dataset.entity_attribute_matchers['Education'].attribute_to_simrank_matcher['degree'].get_simrank_score_of_tokens('Bsc','undergraduate_degree')\n",
    "# dataset.entity_attribute_matchers['Education'].attribute_to_simrank_matcher['degree'].get_simrank_score_of_tokens('doctorate','doctoral_degree')\n",
    "# dataset.entity_attribute_matchers['Education'].attribute_to_simrank_matcher['degree'].get_simrank_score_of_tokens('doctorate','Bsc')\n",
    "# dataset.entity_attribute_matchers['Education'].attribute_to_simrank_matcher['degree'].get_simrank_score_of_tokens('Msc','Bsc')\n",
    "# x=dataset.entity_attribute_matchers['Working Experience'].attribute_to_simrank_matcher['title'].cluster_simrank_buffer\n",
    "# {k: round(v, 3) for k, v in sorted(x.items(), key=lambda item: item[1], reverse=True)}\n",
    "# dataset.entity_attribute_matchers['Working Experience'].attribute_to_simrank_matcher['title'].get_simrank_score_of_tokens('manager','developer')\n",
    "# dataset.entity_attribute_matchers['Working Experience'].attribute_to_simrank_matcher['title'].get_simrank_score_of_tokens('coder','developer')\n",
    "# dataset.entity_attribute_matchers['Working Experience'].attribute_to_simrank_matcher['title'].get_simrank_score_of_tokens('analyst','developer')\n",
    "# dataset.entity_attribute_matchers['Working Experience'].attribute_to_simrank_matcher['title'].get_simrank_score_of_tokens('analyst','manager')\n",
    "# dataset.entity_attribute_matchers['Working Experience'].attribute_to_simrank_matcher['title'].get_simrank_score_of_tokens('doctor','manager')\n",
    "# dataset.entity_attribute_matchers['Working Experience'].attribute_to_simrank_matcher['title'].get_simrank_score_of_tokens('clinician','doctor')"
   ],
   "metadata": {
    "collapsed": false,
    "pycharm": {
     "name": "#%%\n"
    }
   }
  },
  {
   "cell_type": "code",
   "execution_count": 5,
   "metadata": {
    "pycharm": {
     "name": "#%%\n"
    }
   },
   "outputs": [],
   "source": [
    "fuse_session.match_observations()"
   ]
  },
  {
   "cell_type": "code",
   "execution_count": 6,
   "metadata": {},
   "outputs": [
    {
     "name": "stderr",
     "output_type": "stream",
     "text": [
      "INFO:global:Running truth discovery for 10 iterations.\n",
      "INFO:global:Iteration = 0\n",
      "INFO:global:Source weights = {'Name': {'pipl.com': 1.0, 'find.jobs': 1.0, 'pro-profiles.com': 1.0, 'internsteps.com': 1.0}, 'Education': {'pipl.com': 1.0, 'find.jobs': 1.0, 'pro-profiles.com': 1.0, 'internsteps.com': 1.0}, 'Working Experience': {'pipl.com': 1.0, 'find.jobs': 1.0, 'pro-profiles.com': 1.0, 'internsteps.com': 1.0}, 'Location': {'pipl.com': 1.0, 'find.jobs': 1.0, 'pro-profiles.com': 1.0, 'internsteps.com': 1.0}}\n",
      "INFO:global:Iteration = 1\n",
      "INFO:global:Source weights = {'Name': {'pipl.com': 4.595119850134589, 'find.jobs': 4.595119850134589, 'pro-profiles.com': 4.595119850134589, 'internsteps.com': 4.595119850134589}, 'Education': {'pipl.com': 1.2058315409205616, 'find.jobs': 1.1907827484677669, 'pro-profiles.com': 0.9483992502825729, 'internsteps.com': 0.7987667300231314}, 'Working Experience': {'pipl.com': 4.595119850134589, 'find.jobs': 4.595119850134589, 'pro-profiles.com': 4.595119850134589, 'internsteps.com': 4.595119850134589}, 'Location': {'pipl.com': 4.595119850134589, 'find.jobs': 4.595119850134589, 'pro-profiles.com': 4.595119850134589, 'internsteps.com': 4.595119850134589}}\n",
      "INFO:global:Iteration = 2\n",
      "INFO:global:Source weights = {'Name': {'pipl.com': 4.595119850134589, 'find.jobs': 4.595119850134589, 'pro-profiles.com': 4.595119850134589, 'internsteps.com': 4.595119850134589}, 'Education': {'pipl.com': 1.5304990130107132, 'find.jobs': 1.3277057087885542, 'pro-profiles.com': 0.9698037830000183, 'internsteps.com': 0.44447476174187794}, 'Working Experience': {'pipl.com': 4.595119850134589, 'find.jobs': 4.595119850134589, 'pro-profiles.com': 4.595119850134589, 'internsteps.com': 4.595119850134589}, 'Location': {'pipl.com': 4.595119850134589, 'find.jobs': 4.595119850134589, 'pro-profiles.com': 4.595119850134589, 'internsteps.com': 4.595119850134589}}\n",
      "INFO:global:Iteration = 3\n",
      "INFO:global:Source weights = {'Name': {'pipl.com': 4.595119850134589, 'find.jobs': 4.595119850134589, 'pro-profiles.com': 4.595119850134589, 'internsteps.com': 4.595119850134589}, 'Education': {'pipl.com': 1.5304990130107132, 'find.jobs': 1.3277057087885542, 'pro-profiles.com': 0.9698037830000183, 'internsteps.com': 0.44447476174187794}, 'Working Experience': {'pipl.com': 4.595119850134589, 'find.jobs': 4.595119850134589, 'pro-profiles.com': 4.595119850134589, 'internsteps.com': 4.595119850134589}, 'Location': {'pipl.com': 4.595119850134589, 'find.jobs': 4.595119850134589, 'pro-profiles.com': 4.595119850134589, 'internsteps.com': 4.595119850134589}}\n",
      "INFO:global:Iteration = 4\n",
      "INFO:global:Source weights = {'Name': {'pipl.com': 4.595119850134589, 'find.jobs': 4.595119850134589, 'pro-profiles.com': 4.595119850134589, 'internsteps.com': 4.595119850134589}, 'Education': {'pipl.com': 1.5304990130107132, 'find.jobs': 1.3277057087885542, 'pro-profiles.com': 0.9698037830000183, 'internsteps.com': 0.44447476174187794}, 'Working Experience': {'pipl.com': 4.595119850134589, 'find.jobs': 4.595119850134589, 'pro-profiles.com': 4.595119850134589, 'internsteps.com': 4.595119850134589}, 'Location': {'pipl.com': 4.595119850134589, 'find.jobs': 4.595119850134589, 'pro-profiles.com': 4.595119850134589, 'internsteps.com': 4.595119850134589}}\n",
      "INFO:global:Iteration = 5\n",
      "INFO:global:Source weights = {'Name': {'pipl.com': 4.595119850134589, 'find.jobs': 4.595119850134589, 'pro-profiles.com': 4.595119850134589, 'internsteps.com': 4.595119850134589}, 'Education': {'pipl.com': 1.5304990130107132, 'find.jobs': 1.3277057087885542, 'pro-profiles.com': 0.9698037830000183, 'internsteps.com': 0.44447476174187794}, 'Working Experience': {'pipl.com': 4.595119850134589, 'find.jobs': 4.595119850134589, 'pro-profiles.com': 4.595119850134589, 'internsteps.com': 4.595119850134589}, 'Location': {'pipl.com': 4.595119850134589, 'find.jobs': 4.595119850134589, 'pro-profiles.com': 4.595119850134589, 'internsteps.com': 4.595119850134589}}\n",
      "INFO:global:Iteration = 6\n",
      "INFO:global:Source weights = {'Name': {'pipl.com': 4.595119850134589, 'find.jobs': 4.595119850134589, 'pro-profiles.com': 4.595119850134589, 'internsteps.com': 4.595119850134589}, 'Education': {'pipl.com': 1.5304990130107132, 'find.jobs': 1.3277057087885542, 'pro-profiles.com': 0.9698037830000183, 'internsteps.com': 0.44447476174187794}, 'Working Experience': {'pipl.com': 4.595119850134589, 'find.jobs': 4.595119850134589, 'pro-profiles.com': 4.595119850134589, 'internsteps.com': 4.595119850134589}, 'Location': {'pipl.com': 4.595119850134589, 'find.jobs': 4.595119850134589, 'pro-profiles.com': 4.595119850134589, 'internsteps.com': 4.595119850134589}}\n",
      "INFO:global:Iteration = 7\n",
      "INFO:global:Source weights = {'Name': {'pipl.com': 4.595119850134589, 'find.jobs': 4.595119850134589, 'pro-profiles.com': 4.595119850134589, 'internsteps.com': 4.595119850134589}, 'Education': {'pipl.com': 1.5304990130107132, 'find.jobs': 1.3277057087885542, 'pro-profiles.com': 0.9698037830000183, 'internsteps.com': 0.44447476174187794}, 'Working Experience': {'pipl.com': 4.595119850134589, 'find.jobs': 4.595119850134589, 'pro-profiles.com': 4.595119850134589, 'internsteps.com': 4.595119850134589}, 'Location': {'pipl.com': 4.595119850134589, 'find.jobs': 4.595119850134589, 'pro-profiles.com': 4.595119850134589, 'internsteps.com': 4.595119850134589}}\n",
      "INFO:global:Iteration = 8\n",
      "INFO:global:Source weights = {'Name': {'pipl.com': 4.595119850134589, 'find.jobs': 4.595119850134589, 'pro-profiles.com': 4.595119850134589, 'internsteps.com': 4.595119850134589}, 'Education': {'pipl.com': 1.5304990130107132, 'find.jobs': 1.3277057087885542, 'pro-profiles.com': 0.9698037830000183, 'internsteps.com': 0.44447476174187794}, 'Working Experience': {'pipl.com': 4.595119850134589, 'find.jobs': 4.595119850134589, 'pro-profiles.com': 4.595119850134589, 'internsteps.com': 4.595119850134589}, 'Location': {'pipl.com': 4.595119850134589, 'find.jobs': 4.595119850134589, 'pro-profiles.com': 4.595119850134589, 'internsteps.com': 4.595119850134589}}\n",
      "INFO:global:Iteration = 9\n",
      "INFO:global:Source weights = {'Name': {'pipl.com': 4.595119850134589, 'find.jobs': 4.595119850134589, 'pro-profiles.com': 4.595119850134589, 'internsteps.com': 4.595119850134589}, 'Education': {'pipl.com': 1.5304990130107132, 'find.jobs': 1.3277057087885542, 'pro-profiles.com': 0.9698037830000183, 'internsteps.com': 0.44447476174187794}, 'Working Experience': {'pipl.com': 4.595119850134589, 'find.jobs': 4.595119850134589, 'pro-profiles.com': 4.595119850134589, 'internsteps.com': 4.595119850134589}, 'Location': {'pipl.com': 4.595119850134589, 'find.jobs': 4.595119850134589, 'pro-profiles.com': 4.595119850134589, 'internsteps.com': 4.595119850134589}}\n"
     ]
    }
   ],
   "source": [
    "tr_clusters = fuse_session.find_true_clusters()\n"
   ]
  },
  {
   "cell_type": "code",
   "execution_count": 7,
   "outputs": [
    {
     "name": "stderr",
     "output_type": "stream",
     "text": [
      "INFO:global:Running fusion for 10 iterations.\n",
      "INFO:global:Iteration = 0\n",
      "INFO:global:Source weights = {'Name': {'pipl.com': 1.0, 'find.jobs': 1.0, 'pro-profiles.com': 1.0, 'internsteps.com': 1.0}, 'Education': {'pipl.com': 1.0, 'find.jobs': 1.0, 'pro-profiles.com': 1.0, 'internsteps.com': 1.0}, 'Working Experience': {'pipl.com': 1.0, 'find.jobs': 1.0, 'pro-profiles.com': 1.0, 'internsteps.com': 1.0}, 'Location': {'pipl.com': 1.0, 'find.jobs': 1.0, 'pro-profiles.com': 1.0, 'internsteps.com': 1.0}}\n",
      "INFO:global:Iteration = 1\n",
      "INFO:global:Source weights = {'Name': {'pipl.com': 6.212606095751518, 'find.jobs': 6.212606095751518, 'pro-profiles.com': 4.595119850134589, 'internsteps.com': 4.595119850134589}, 'Education': {'pipl.com': 5.7942323775783, 'find.jobs': 4.595119850134589, 'pro-profiles.com': 5.245519180981081, 'internsteps.com': 6.865891074883281}, 'Working Experience': {'pipl.com': 6.021993752142752, 'find.jobs': 6.228017785332058, 'pro-profiles.com': 4.595119850134589, 'internsteps.com': 6.527957917622521}, 'Location': {'pipl.com': 4.595119850134589, 'find.jobs': 4.595119850134589, 'pro-profiles.com': 4.595119850134589, 'internsteps.com': 4.595119850134589}}\n",
      "INFO:global:Iteration = 2\n",
      "INFO:global:Source weights = {'Name': {'pipl.com': 6.212606095751518, 'find.jobs': 4.595119850134589, 'pro-profiles.com': 4.595119850134589, 'internsteps.com': 4.595119850134589}, 'Education': {'pipl.com': 6.017984756917432, 'find.jobs': 7.296413268773956, 'pro-profiles.com': 4.992697593409613, 'internsteps.com': 6.865891074883281}, 'Working Experience': {'pipl.com': 6.245622151951251, 'find.jobs': 6.228017785332058, 'pro-profiles.com': 4.595119850134589, 'internsteps.com': 6.527957917622521}, 'Location': {'pipl.com': 4.595119850134589, 'find.jobs': 4.595119850134589, 'pro-profiles.com': 4.595119850134589, 'internsteps.com': 4.595119850134589}}\n",
      "INFO:global:Iteration = 3\n",
      "INFO:global:Source weights = {'Name': {'pipl.com': 4.595119850134589, 'find.jobs': 6.212606095751518, 'pro-profiles.com': 4.595119850134589, 'internsteps.com': 4.595119850134589}, 'Education': {'pipl.com': 6.017984756917341, 'find.jobs': 4.595119850134589, 'pro-profiles.com': 5.111234492652391, 'internsteps.com': 6.865891074883281}, 'Working Experience': {'pipl.com': 6.245622151951251, 'find.jobs': 6.228017785332058, 'pro-profiles.com': 4.595119850134589, 'internsteps.com': 6.527957917622521}, 'Location': {'pipl.com': 4.595119850134589, 'find.jobs': 4.595119850134589, 'pro-profiles.com': 4.595119850134589, 'internsteps.com': 4.595119850134589}}\n",
      "INFO:global:Iteration = 4\n",
      "INFO:global:Source weights = {'Name': {'pipl.com': 6.212606095751518, 'find.jobs': 4.595119850134589, 'pro-profiles.com': 4.595119850134589, 'internsteps.com': 6.212606095751518}, 'Education': {'pipl.com': 6.017984756917432, 'find.jobs': 7.296413268773956, 'pro-profiles.com': 4.992697593409613, 'internsteps.com': 6.865891074883281}, 'Working Experience': {'pipl.com': 6.245622151951251, 'find.jobs': 6.228017785332058, 'pro-profiles.com': 4.595119850134589, 'internsteps.com': 6.527957917622521}, 'Location': {'pipl.com': 4.595119850134589, 'find.jobs': 4.595119850134589, 'pro-profiles.com': 4.595119850134589, 'internsteps.com': 4.595119850134589}}\n",
      "INFO:global:Iteration = 5\n",
      "INFO:global:Source weights = {'Name': {'pipl.com': 4.595119850134589, 'find.jobs': 6.212606095751518, 'pro-profiles.com': 6.212606095751518, 'internsteps.com': 4.595119850134589}, 'Education': {'pipl.com': 6.017984756917341, 'find.jobs': 4.595119850134589, 'pro-profiles.com': 5.111234492652391, 'internsteps.com': 6.865891074883281}, 'Working Experience': {'pipl.com': 6.245622151951251, 'find.jobs': 6.228017785332058, 'pro-profiles.com': 4.595119850134589, 'internsteps.com': 6.527957917622521}, 'Location': {'pipl.com': 4.595119850134589, 'find.jobs': 4.595119850134589, 'pro-profiles.com': 4.595119850134589, 'internsteps.com': 4.595119850134589}}\n",
      "INFO:global:Iteration = 6\n",
      "INFO:global:Source weights = {'Name': {'pipl.com': 6.212606095751518, 'find.jobs': 4.595119850134589, 'pro-profiles.com': 4.595119850134589, 'internsteps.com': 4.595119850134589}, 'Education': {'pipl.com': 6.017984756917432, 'find.jobs': 7.296413268773956, 'pro-profiles.com': 4.992697593409613, 'internsteps.com': 6.865891074883281}, 'Working Experience': {'pipl.com': 6.245622151951251, 'find.jobs': 6.228017785332058, 'pro-profiles.com': 4.595119850134589, 'internsteps.com': 6.527957917622521}, 'Location': {'pipl.com': 4.595119850134589, 'find.jobs': 4.595119850134589, 'pro-profiles.com': 4.595119850134589, 'internsteps.com': 4.595119850134589}}\n",
      "INFO:global:Iteration = 7\n",
      "INFO:global:Source weights = {'Name': {'pipl.com': 4.595119850134589, 'find.jobs': 6.212606095751518, 'pro-profiles.com': 4.595119850134589, 'internsteps.com': 4.595119850134589}, 'Education': {'pipl.com': 6.017984756917341, 'find.jobs': 4.595119850134589, 'pro-profiles.com': 5.111234492652391, 'internsteps.com': 6.865891074883281}, 'Working Experience': {'pipl.com': 6.245622151951251, 'find.jobs': 6.228017785332058, 'pro-profiles.com': 4.595119850134589, 'internsteps.com': 6.527957917622521}, 'Location': {'pipl.com': 4.595119850134589, 'find.jobs': 4.595119850134589, 'pro-profiles.com': 4.595119850134589, 'internsteps.com': 4.595119850134589}}\n",
      "INFO:global:Iteration = 8\n",
      "INFO:global:Source weights = {'Name': {'pipl.com': 6.212606095751518, 'find.jobs': 4.595119850134589, 'pro-profiles.com': 4.595119850134589, 'internsteps.com': 6.212606095751518}, 'Education': {'pipl.com': 6.017984756917432, 'find.jobs': 7.296413268773956, 'pro-profiles.com': 4.992697593409613, 'internsteps.com': 6.865891074883281}, 'Working Experience': {'pipl.com': 6.245622151951251, 'find.jobs': 6.228017785332058, 'pro-profiles.com': 4.595119850134589, 'internsteps.com': 6.527957917622521}, 'Location': {'pipl.com': 4.595119850134589, 'find.jobs': 4.595119850134589, 'pro-profiles.com': 4.595119850134589, 'internsteps.com': 4.595119850134589}}\n",
      "INFO:global:Iteration = 9\n",
      "INFO:global:Source weights = {'Name': {'pipl.com': 4.595119850134589, 'find.jobs': 6.212606095751518, 'pro-profiles.com': 6.212606095751518, 'internsteps.com': 4.595119850134589}, 'Education': {'pipl.com': 6.017984756917341, 'find.jobs': 4.595119850134589, 'pro-profiles.com': 5.111234492652391, 'internsteps.com': 6.865891074883281}, 'Working Experience': {'pipl.com': 6.245622151951251, 'find.jobs': 6.228017785332058, 'pro-profiles.com': 4.595119850134589, 'internsteps.com': 6.527957917622521}, 'Location': {'pipl.com': 4.595119850134589, 'find.jobs': 4.595119850134589, 'pro-profiles.com': 4.595119850134589, 'internsteps.com': 4.595119850134589}}\n"
     ]
    }
   ],
   "source": [
    "true_facts = fuse_session.find_true_facts(persist=True, no_weights=False)"
   ],
   "metadata": {
    "collapsed": false,
    "pycharm": {
     "name": "#%%\n"
    }
   }
  },
  {
   "cell_type": "code",
   "execution_count": 8,
   "metadata": {
    "pycharm": {
     "name": "#%%\n"
    }
   },
   "outputs": [],
   "source": [
    "# true_facts_sort = sorted(true_facts, key=lambda tf: (tf.ent_id, tf.ent_attr), reverse=False)\n",
    "# for f in true_facts_sort:\n",
    "#     print(f.ent_id, f.ent_attr, f.canonicalTuple)\n",
    "\n",
    "# for f in true_facts:\n",
    "#     print(f.canonicalTuple)"
   ]
  },
  {
   "cell_type": "code",
   "execution_count": 9,
   "metadata": {
    "pycharm": {
     "name": "#%%\n"
    }
   },
   "outputs": [
    {
     "name": "stdout",
     "output_type": "stream",
     "text": [
      "Matched = 2104, Unmatched true = 277, Unmatched inferred = 0, Total = 2381\n",
      "Recall= 0.8837\n",
      "Precision = 1.0000\n",
      "Accuracy = 0.8837\n",
      "f1score = 0.9382\n"
     ]
    }
   ],
   "source": [
    "from pprint import pprint\n",
    "\n",
    "eval = fuse_session.evaluate(inferred_facts=true_facts, grd_path='../../datasets/current/eval.json')\n",
    "# pprint(eval)"
   ]
  }
 ],
 "metadata": {
  "kernelspec": {
   "display_name": "PyCharm (EntityMatching_Thesis)",
   "language": "python",
   "name": "pycharm-a8ea7e6e"
  },
  "language_info": {
   "codemirror_mode": {
    "name": "ipython",
    "version": 3
   },
   "file_extension": ".py",
   "mimetype": "text/x-python",
   "name": "python",
   "nbconvert_exporter": "python",
   "pygments_lexer": "ipython3",
   "version": "3.8.5"
  }
 },
 "nbformat": 4,
 "nbformat_minor": 2
}
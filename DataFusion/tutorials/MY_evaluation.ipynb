{
 "cells": [
  {
   "cell_type": "code",
   "execution_count": 1,
   "outputs": [
    {
     "name": "stderr",
     "output_type": "stream",
     "text": [
      "C:\\Python38\\lib\\site-packages\\fuzzywuzzy\\fuzz.py:11: UserWarning: Using slow pure-python SequenceMatcher. Install python-Levenshtein to remove this warning\n",
      "  warnings.warn('Using slow pure-python SequenceMatcher. Install python-Levenshtein to remove this warning')\n",
      "C:\\Users\\Iasonas\\AppData\\Roaming\\Python\\Python38\\site-packages\\gensim\\utils.py:1212: UserWarning: detected Windows; aliasing chunkize to chunkize_serial\n",
      "  warnings.warn(\"detected Windows; aliasing chunkize to chunkize_serial\")\n",
      "INFO:summarizer.preprocessing.cleaner:'pattern' package not found; tag filters are not available for English\n",
      "C:\\Python38\\lib\\site-packages\\sklearn\\base.py:310: UserWarning: Trying to unpickle estimator LogisticRegression from version 0.23.2 when using version 0.24.2. This might lead to breaking code or invalid results. Use at your own risk.\n",
      "  warnings.warn(\n",
      "INFO:gensim.models.utils_any2vec:loading projection weights from C:/Users/Iasonas/Downloads/GoogleNews-vectors-negative300.bin\n",
      "INFO:gensim.models.utils_any2vec:loaded (3000000, 300) matrix from C:/Users/Iasonas/Downloads/GoogleNews-vectors-negative300.bin\n",
      "INFO:global:Connection established to database.\n"
     ]
    }
   ],
   "source": [
    "%load_ext autoreload\n",
    "%autoreload 2\n",
    "\n",
    "import os\n",
    "os.chdir('C:/Users/Iasonas/PycharmProjects/EntityMatching_Thesis/DataFusion/tutorials')\n",
    "\n",
    "import fuse\n",
    "fuse_env = fuse.Fuse(verbose=True)\n",
    "fuse_session = fuse_env.get_session('test')\n",
    "\n",
    "# MATCHER='DEDUPE'\n",
    "MATCHER='AHC'"
   ],
   "metadata": {
    "collapsed": false,
    "pycharm": {
     "name": "#%%\n"
    }
   }
  },
  {
   "cell_type": "code",
   "execution_count": 2,
   "outputs": [],
   "source": [
    "if MATCHER=='DEDUPE':\n",
    "    from matching.dedupe import DedupeMatcher\n",
    "    dataset = fuse_session.ingest('../../datasets/current/observed.json',\n",
    "                                  'fusion_test', matching_strategy=DedupeMatcher)\n",
    "\n",
    "if MATCHER=='AHC':\n",
    "    from matching.ahc_matcher import AgglomerativeHierarchicalClustering\n",
    "    dataset = fuse_session.ingest('../../datasets/current/observed.json',\n",
    "                               'fusion_test', matching_strategy=AgglomerativeHierarchicalClustering)\n"
   ],
   "metadata": {
    "collapsed": false,
    "pycharm": {
     "name": "#%%\n"
    }
   }
  },
  {
   "cell_type": "code",
   "execution_count": 3,
   "metadata": {},
   "outputs": [],
   "source": [
    "fuse_session.train_matchers('../../datasets/current/matched.json')"
   ]
  },
  {
   "cell_type": "code",
   "execution_count": 4,
   "outputs": [],
   "source": [
    "# x=dataset.entity_attribute_matchers['Education'].attribute_to_simrank_matcher['university'].cluster_simrank_buffer\n",
    "# {k: round(v, 3) for k, v in sorted(x.items(), key=lambda item: item[1], reverse=True)}\n",
    "# dataset.entity_attribute_matchers['Education'].attribute_to_simrank_matcher['university'].get_simrank_score_of_tokens('Bsc','undergraduate_degree')\n",
    "# dataset.entity_attribute_matchers['Education'].attribute_to_simrank_matcher['degree'].get_simrank_score_of_tokens('Bsc','undergraduate_degree')\n",
    "# dataset.entity_attribute_matchers['Education'].attribute_to_simrank_matcher['degree'].get_simrank_score_of_tokens('doctorate','doctoral_degree')\n",
    "# dataset.entity_attribute_matchers['Education'].attribute_to_simrank_matcher['degree'].get_simrank_score_of_tokens('doctorate','Bsc')\n",
    "# dataset.entity_attribute_matchers['Education'].attribute_to_simrank_matcher['degree'].get_simrank_score_of_tokens('Msc','Bsc')\n",
    "# x=dataset.entity_attribute_matchers['Working Experience'].attribute_to_simrank_matcher['title'].cluster_simrank_buffer\n",
    "# {k: round(v, 3) for k, v in sorted(x.items(), key=lambda item: item[1], reverse=True)}\n",
    "# dataset.entity_attribute_matchers['Working Experience'].attribute_to_simrank_matcher['title'].get_simrank_score_of_tokens('manager','developer')\n",
    "# dataset.entity_attribute_matchers['Working Experience'].attribute_to_simrank_matcher['title'].get_simrank_score_of_tokens('coder','developer')\n",
    "# dataset.entity_attribute_matchers['Working Experience'].attribute_to_simrank_matcher['title'].get_simrank_score_of_tokens('analyst','developer')\n",
    "# dataset.entity_attribute_matchers['Working Experience'].attribute_to_simrank_matcher['title'].get_simrank_score_of_tokens('analyst','manager')\n",
    "# dataset.entity_attribute_matchers['Working Experience'].attribute_to_simrank_matcher['title'].get_simrank_score_of_tokens('doctor','manager')\n",
    "# dataset.entity_attribute_matchers['Working Experience'].attribute_to_simrank_matcher['title'].get_simrank_score_of_tokens('clinician','doctor')"
   ],
   "metadata": {
    "collapsed": false,
    "pycharm": {
     "name": "#%%\n"
    }
   }
  },
  {
   "cell_type": "code",
   "execution_count": 5,
   "metadata": {
    "pycharm": {
     "name": "#%%\n"
    }
   },
   "outputs": [],
   "source": [
    "fuse_session.match_observations()"
   ]
  },
  {
   "cell_type": "code",
   "execution_count": 6,
   "metadata": {},
   "outputs": [
    {
     "name": "stderr",
     "output_type": "stream",
     "text": [
      "INFO:global:Running truth discovery for 10 iterations.\n",
      "INFO:global:Iteration = 0\n",
      "INFO:global:Source weights = {'Education': {'internsteps.com': 1.0, 'find.jobs': 1.0, 'pro-profiles.com': 1.0, 'pipl.com': 1.0}, 'Location': {'internsteps.com': 1.0, 'find.jobs': 1.0, 'pro-profiles.com': 1.0, 'pipl.com': 1.0}, 'Working Experience': {'internsteps.com': 1.0, 'find.jobs': 1.0, 'pro-profiles.com': 1.0, 'pipl.com': 1.0}, 'Name': {'internsteps.com': 1.0, 'find.jobs': 1.0, 'pro-profiles.com': 1.0, 'pipl.com': 1.0}}\n",
      "INFO:global:Iteration = 1\n",
      "INFO:global:Source weights = {'Education': {'internsteps.com': 1.817077277212345, 'find.jobs': 2.674148649426528, 'pro-profiles.com': 1.730390522851763, 'pipl.com': 2.867898902044107}, 'Location': {'internsteps.com': 1.7117167615545186, 'find.jobs': 1.2452157628599851, 'pro-profiles.com': 1.7117167615545186, 'pipl.com': 1.1143606456362487}, 'Working Experience': {'internsteps.com': 1.6094379124341007, 'find.jobs': 1.285198244248522, 'pro-profiles.com': 1.4392167625742331, 'pipl.com': 1.493925025312256}, 'Name': {'internsteps.com': 1.4240346891027376, 'find.jobs': 0.9267620317414502, 'pro-profiles.com': 2.517696472610991, 'pipl.com': 2.517696472610991}}\n",
      "INFO:global:Iteration = 2\n",
      "INFO:global:Source weights = {'Education': {'internsteps.com': 1.817077277212345, 'find.jobs': 2.674148649426528, 'pro-profiles.com': 1.730390522851763, 'pipl.com': 2.867898902044107}, 'Location': {'internsteps.com': 2.0149030205422647, 'find.jobs': 1.3143208614948012, 'pro-profiles.com': 1.8055527913603904, 'pipl.com': 0.8194409058842373}, 'Working Experience': {'internsteps.com': 1.8015156441734193, 'find.jobs': 1.0546491652469938, 'pro-profiles.com': 1.493925025312256, 'pipl.com': 1.5505974124111666}, 'Name': {'internsteps.com': 1.2431935174792175, 'find.jobs': 0.6486954179891115, 'pro-profiles.com': 3.060270794691562, 'pipl.com': 4.1896547420264225}}\n",
      "INFO:global:Iteration = 3\n",
      "INFO:global:Source weights = {'Education': {'internsteps.com': 1.817077277212345, 'find.jobs': 2.674148649426528, 'pro-profiles.com': 1.730390522851763, 'pipl.com': 2.867898902044107}, 'Location': {'internsteps.com': 2.0149030205422647, 'find.jobs': 1.3143208614948012, 'pro-profiles.com': 1.8055527913603904, 'pipl.com': 0.8194409058842373}, 'Working Experience': {'internsteps.com': 1.8015156441734193, 'find.jobs': 1.0546491652469938, 'pro-profiles.com': 1.493925025312256, 'pipl.com': 1.5505974124111666}, 'Name': {'internsteps.com': 1.1592369104845444, 'find.jobs': 0.7156200364120041, 'pro-profiles.com': 2.756840365271643, 'pipl.com': 4.595119850134589}}\n",
      "INFO:global:Iteration = 4\n",
      "INFO:global:Source weights = {'Education': {'internsteps.com': 1.817077277212345, 'find.jobs': 2.674148649426528, 'pro-profiles.com': 1.730390522851763, 'pipl.com': 2.867898902044107}, 'Location': {'internsteps.com': 2.0149030205422647, 'find.jobs': 1.3143208614948012, 'pro-profiles.com': 1.8055527913603904, 'pipl.com': 0.8194409058842373}, 'Working Experience': {'internsteps.com': 1.8015156441734193, 'find.jobs': 1.0546491652469938, 'pro-profiles.com': 1.493925025312256, 'pipl.com': 1.5505974124111666}, 'Name': {'internsteps.com': 1.1592369104845444, 'find.jobs': 0.7156200364120041, 'pro-profiles.com': 2.756840365271643, 'pipl.com': 4.595119850134589}}\n",
      "INFO:global:Iteration = 5\n",
      "INFO:global:Source weights = {'Education': {'internsteps.com': 1.817077277212345, 'find.jobs': 2.674148649426528, 'pro-profiles.com': 1.730390522851763, 'pipl.com': 2.867898902044107}, 'Location': {'internsteps.com': 2.0149030205422647, 'find.jobs': 1.3143208614948012, 'pro-profiles.com': 1.8055527913603904, 'pipl.com': 0.8194409058842373}, 'Working Experience': {'internsteps.com': 1.8015156441734193, 'find.jobs': 1.0546491652469938, 'pro-profiles.com': 1.493925025312256, 'pipl.com': 1.5505974124111666}, 'Name': {'internsteps.com': 1.1592369104845444, 'find.jobs': 0.7156200364120041, 'pro-profiles.com': 2.756840365271643, 'pipl.com': 4.595119850134589}}\n",
      "INFO:global:Iteration = 6\n",
      "INFO:global:Source weights = {'Education': {'internsteps.com': 1.817077277212345, 'find.jobs': 2.674148649426528, 'pro-profiles.com': 1.730390522851763, 'pipl.com': 2.867898902044107}, 'Location': {'internsteps.com': 2.0149030205422647, 'find.jobs': 1.3143208614948012, 'pro-profiles.com': 1.8055527913603904, 'pipl.com': 0.8194409058842373}, 'Working Experience': {'internsteps.com': 1.8015156441734193, 'find.jobs': 1.0546491652469938, 'pro-profiles.com': 1.493925025312256, 'pipl.com': 1.5505974124111666}, 'Name': {'internsteps.com': 1.1592369104845444, 'find.jobs': 0.7156200364120041, 'pro-profiles.com': 2.756840365271643, 'pipl.com': 4.595119850134589}}\n",
      "INFO:global:Iteration = 7\n",
      "INFO:global:Source weights = {'Education': {'internsteps.com': 1.817077277212345, 'find.jobs': 2.674148649426528, 'pro-profiles.com': 1.730390522851763, 'pipl.com': 2.867898902044107}, 'Location': {'internsteps.com': 2.0149030205422647, 'find.jobs': 1.3143208614948012, 'pro-profiles.com': 1.8055527913603904, 'pipl.com': 0.8194409058842373}, 'Working Experience': {'internsteps.com': 1.8015156441734193, 'find.jobs': 1.0546491652469938, 'pro-profiles.com': 1.493925025312256, 'pipl.com': 1.5505974124111666}, 'Name': {'internsteps.com': 1.1592369104845444, 'find.jobs': 0.7156200364120041, 'pro-profiles.com': 2.756840365271643, 'pipl.com': 4.595119850134589}}\n",
      "INFO:global:Iteration = 8\n",
      "INFO:global:Source weights = {'Education': {'internsteps.com': 1.817077277212345, 'find.jobs': 2.674148649426528, 'pro-profiles.com': 1.730390522851763, 'pipl.com': 2.867898902044107}, 'Location': {'internsteps.com': 2.0149030205422647, 'find.jobs': 1.3143208614948012, 'pro-profiles.com': 1.8055527913603904, 'pipl.com': 0.8194409058842373}, 'Working Experience': {'internsteps.com': 1.8015156441734193, 'find.jobs': 1.0546491652469938, 'pro-profiles.com': 1.493925025312256, 'pipl.com': 1.5505974124111666}, 'Name': {'internsteps.com': 1.1592369104845444, 'find.jobs': 0.7156200364120041, 'pro-profiles.com': 2.756840365271643, 'pipl.com': 4.595119850134589}}\n",
      "INFO:global:Iteration = 9\n",
      "INFO:global:Source weights = {'Education': {'internsteps.com': 1.817077277212345, 'find.jobs': 2.674148649426528, 'pro-profiles.com': 1.730390522851763, 'pipl.com': 2.867898902044107}, 'Location': {'internsteps.com': 2.0149030205422647, 'find.jobs': 1.3143208614948012, 'pro-profiles.com': 1.8055527913603904, 'pipl.com': 0.8194409058842373}, 'Working Experience': {'internsteps.com': 1.8015156441734193, 'find.jobs': 1.0546491652469938, 'pro-profiles.com': 1.493925025312256, 'pipl.com': 1.5505974124111666}, 'Name': {'internsteps.com': 1.1592369104845444, 'find.jobs': 0.7156200364120041, 'pro-profiles.com': 2.756840365271643, 'pipl.com': 4.595119850134589}}\n"
     ]
    }
   ],
   "source": [
    "tr_clusters = fuse_session.find_true_clusters()\n"
   ]
  },
  {
   "cell_type": "code",
   "execution_count": 7,
   "outputs": [
    {
     "name": "stderr",
     "output_type": "stream",
     "text": [
      "INFO:global:Running fusion for 10 iterations.\n",
      "INFO:global:Iteration = 0\n",
      "INFO:global:Source weights = {'Education': {'internsteps.com': 1.0, 'find.jobs': 1.0, 'pro-profiles.com': 1.0, 'pipl.com': 1.0}, 'Location': {'internsteps.com': 1.0, 'find.jobs': 1.0, 'pro-profiles.com': 1.0, 'pipl.com': 1.0}, 'Working Experience': {'internsteps.com': 1.0, 'find.jobs': 1.0, 'pro-profiles.com': 1.0, 'pipl.com': 1.0}, 'Name': {'internsteps.com': 1.0, 'find.jobs': 1.0, 'pro-profiles.com': 1.0, 'pipl.com': 1.0}}\n",
      "INFO:global:Iteration = 1\n",
      "INFO:global:Source weights = {'Education': {'internsteps.com': 3.801091444720858, 'find.jobs': 3.637586159726385, 'pro-profiles.com': 3.135494215929148, 'pipl.com': 3.896909367618091}, 'Location': {'internsteps.com': 4.595119850134589, 'find.jobs': 4.595119850134589, 'pro-profiles.com': 4.595119850134589, 'pipl.com': 4.595119850134589}, 'Working Experience': {'internsteps.com': 4.595119850134589, 'find.jobs': 4.595119850134589, 'pro-profiles.com': 4.595119850134589, 'pipl.com': 4.595119850134589}, 'Name': {'internsteps.com': 4.595119850134589, 'find.jobs': 4.595119850134589, 'pro-profiles.com': 3.8501476017100567, 'pipl.com': 4.595119850134589}}\n",
      "INFO:global:Iteration = 2\n",
      "INFO:global:Source weights = {'Education': {'internsteps.com': 3.801091444720858, 'find.jobs': 3.637586159726385, 'pro-profiles.com': 3.135494215929148, 'pipl.com': 3.896909367618091}, 'Location': {'internsteps.com': 4.595119850134589, 'find.jobs': 4.595119850134589, 'pro-profiles.com': 4.595119850134589, 'pipl.com': 4.595119850134589}, 'Working Experience': {'internsteps.com': 4.595119850134589, 'find.jobs': 4.595119850134589, 'pro-profiles.com': 4.595119850134589, 'pipl.com': 4.595119850134589}, 'Name': {'internsteps.com': 4.595119850134589, 'find.jobs': 4.595119850134589, 'pro-profiles.com': 3.8501476017100567, 'pipl.com': 4.595119850134589}}\n",
      "INFO:global:Iteration = 3\n",
      "INFO:global:Source weights = {'Education': {'internsteps.com': 3.801091444720858, 'find.jobs': 3.637586159726385, 'pro-profiles.com': 3.135494215929148, 'pipl.com': 3.896909367618091}, 'Location': {'internsteps.com': 4.595119850134589, 'find.jobs': 4.595119850134589, 'pro-profiles.com': 4.595119850134589, 'pipl.com': 4.595119850134589}, 'Working Experience': {'internsteps.com': 4.595119850134589, 'find.jobs': 4.595119850134589, 'pro-profiles.com': 4.595119850134589, 'pipl.com': 4.595119850134589}, 'Name': {'internsteps.com': 4.595119850134589, 'find.jobs': 4.595119850134589, 'pro-profiles.com': 3.8501476017100567, 'pipl.com': 4.595119850134589}}\n",
      "INFO:global:Iteration = 4\n",
      "INFO:global:Source weights = {'Education': {'internsteps.com': 3.801091444720858, 'find.jobs': 3.637586159726385, 'pro-profiles.com': 3.135494215929148, 'pipl.com': 3.896909367618091}, 'Location': {'internsteps.com': 4.595119850134589, 'find.jobs': 4.595119850134589, 'pro-profiles.com': 4.595119850134589, 'pipl.com': 4.595119850134589}, 'Working Experience': {'internsteps.com': 4.595119850134589, 'find.jobs': 4.595119850134589, 'pro-profiles.com': 4.595119850134589, 'pipl.com': 4.595119850134589}, 'Name': {'internsteps.com': 4.595119850134589, 'find.jobs': 4.595119850134589, 'pro-profiles.com': 3.8501476017100567, 'pipl.com': 4.595119850134589}}\n",
      "INFO:global:Iteration = 5\n",
      "INFO:global:Source weights = {'Education': {'internsteps.com': 3.801091444720858, 'find.jobs': 3.637586159726385, 'pro-profiles.com': 3.135494215929148, 'pipl.com': 3.896909367618091}, 'Location': {'internsteps.com': 4.595119850134589, 'find.jobs': 4.595119850134589, 'pro-profiles.com': 4.595119850134589, 'pipl.com': 4.595119850134589}, 'Working Experience': {'internsteps.com': 4.595119850134589, 'find.jobs': 4.595119850134589, 'pro-profiles.com': 4.595119850134589, 'pipl.com': 4.595119850134589}, 'Name': {'internsteps.com': 4.595119850134589, 'find.jobs': 4.595119850134589, 'pro-profiles.com': 3.8501476017100567, 'pipl.com': 4.595119850134589}}\n",
      "INFO:global:Iteration = 6\n",
      "INFO:global:Source weights = {'Education': {'internsteps.com': 3.801091444720858, 'find.jobs': 3.637586159726385, 'pro-profiles.com': 3.135494215929148, 'pipl.com': 3.896909367618091}, 'Location': {'internsteps.com': 4.595119850134589, 'find.jobs': 4.595119850134589, 'pro-profiles.com': 4.595119850134589, 'pipl.com': 4.595119850134589}, 'Working Experience': {'internsteps.com': 4.595119850134589, 'find.jobs': 4.595119850134589, 'pro-profiles.com': 4.595119850134589, 'pipl.com': 4.595119850134589}, 'Name': {'internsteps.com': 4.595119850134589, 'find.jobs': 4.595119850134589, 'pro-profiles.com': 3.8501476017100567, 'pipl.com': 4.595119850134589}}\n",
      "INFO:global:Iteration = 7\n",
      "INFO:global:Source weights = {'Education': {'internsteps.com': 3.801091444720858, 'find.jobs': 3.637586159726385, 'pro-profiles.com': 3.135494215929148, 'pipl.com': 3.896909367618091}, 'Location': {'internsteps.com': 4.595119850134589, 'find.jobs': 4.595119850134589, 'pro-profiles.com': 4.595119850134589, 'pipl.com': 4.595119850134589}, 'Working Experience': {'internsteps.com': 4.595119850134589, 'find.jobs': 4.595119850134589, 'pro-profiles.com': 4.595119850134589, 'pipl.com': 4.595119850134589}, 'Name': {'internsteps.com': 4.595119850134589, 'find.jobs': 4.595119850134589, 'pro-profiles.com': 3.8501476017100567, 'pipl.com': 4.595119850134589}}\n",
      "INFO:global:Iteration = 8\n",
      "INFO:global:Source weights = {'Education': {'internsteps.com': 3.801091444720858, 'find.jobs': 3.637586159726385, 'pro-profiles.com': 3.135494215929148, 'pipl.com': 3.896909367618091}, 'Location': {'internsteps.com': 4.595119850134589, 'find.jobs': 4.595119850134589, 'pro-profiles.com': 4.595119850134589, 'pipl.com': 4.595119850134589}, 'Working Experience': {'internsteps.com': 4.595119850134589, 'find.jobs': 4.595119850134589, 'pro-profiles.com': 4.595119850134589, 'pipl.com': 4.595119850134589}, 'Name': {'internsteps.com': 4.595119850134589, 'find.jobs': 4.595119850134589, 'pro-profiles.com': 3.8501476017100567, 'pipl.com': 4.595119850134589}}\n",
      "INFO:global:Iteration = 9\n",
      "INFO:global:Source weights = {'Education': {'internsteps.com': 3.801091444720858, 'find.jobs': 3.637586159726385, 'pro-profiles.com': 3.135494215929148, 'pipl.com': 3.896909367618091}, 'Location': {'internsteps.com': 4.595119850134589, 'find.jobs': 4.595119850134589, 'pro-profiles.com': 4.595119850134589, 'pipl.com': 4.595119850134589}, 'Working Experience': {'internsteps.com': 4.595119850134589, 'find.jobs': 4.595119850134589, 'pro-profiles.com': 4.595119850134589, 'pipl.com': 4.595119850134589}, 'Name': {'internsteps.com': 4.595119850134589, 'find.jobs': 4.595119850134589, 'pro-profiles.com': 3.8501476017100567, 'pipl.com': 4.595119850134589}}\n"
     ]
    }
   ],
   "source": [
    "true_facts = fuse_session.find_true_facts(persist=True, no_weights=False)"
   ],
   "metadata": {
    "collapsed": false,
    "pycharm": {
     "name": "#%%\n"
    }
   }
  },
  {
   "cell_type": "code",
   "execution_count": 10,
   "metadata": {
    "pycharm": {
     "name": "#%%\n"
    }
   },
   "outputs": [
    {
     "name": "stdout",
     "output_type": "stream",
     "text": [
      "0 Education {'university': 'UC_Berkley', 'year': '1995', 'degree': 'Msc'}\n",
      "0 Education {'university': 'MIT', 'year': '1997', 'degree': 'Msc'}\n",
      "0 Location {'location': 'East P.'}\n",
      "0 Name {'name': 'Melisa Johnson'}\n",
      "0 Working Experience {'years': '1992-2006', 'company': 'Banks, Reynolds and Goodwin', 'title': 'doctor'}\n",
      "1 Education {'university': 'MIT', 'year': '2017', 'degree': 'Bsc'}\n",
      "1 Location {'location': 'Tylersiee'}\n",
      "1 Name {'name': 'ALLEN BRANDY'}\n",
      "1 Working Experience {'years': '1991-2005', 'company': 'Hoover-Gonzalez', 'title': 'developer'}\n",
      "2 Education {'university': 'UC_Berkley', 'year': '2003', 'degree': 'Bsc'}\n",
      "2 Location {'location': 'Matthewsmouth'}\n",
      "2 Name {'name': 'Reginald Jaclkson'}\n",
      "2 Working Experience {'years': '1993-2005', 'company': 'Simpson, Mendoza and Carlson', 'title': 'analyst'}\n",
      "3 Education {'university': 'MIT', 'year': '1993', 'degree': 'Msc'}\n",
      "3 Education {'university': 'UC_Berkley', 'year': '2000', 'degree': 'Bsc'}\n",
      "3 Location {'location': 'Dicksonburgh'}\n",
      "3 Name {'name': 'GONZALEZ'}\n",
      "3 Working Experience {'years': '2006-2016', 'company': 'Pearson LLC', 'title': 'developer'}\n",
      "4 Education {'university': 'UMass', 'year': '2020', 'degree': 'Bsc'}\n",
      "4 Location {'location': 'Jimenezmouth'}\n",
      "4 Name {'name': 'Kimberly Cameron'}\n",
      "4 Working Experience {'years': '1991-1995', 'company': 'Sanchez PLC', 'title': 'doctor'}\n",
      "5 Education {'university': 'UMass', 'year': '2018', 'degree': 'Bsc'}\n",
      "5 Location {'location': 'Mattiewhaven'}\n",
      "5 Name {'name': 'Joseph PPerez'}\n",
      "5 Working Experience {'years': '1991-1998', 'company': 'Blackburn Group', 'title': 'manager'}\n",
      "6 Education {'university': 'UMass', 'year': '2011', 'degree': 'Phd'}\n",
      "6 Location {'location': 'West Brittany'}\n",
      "6 Name {'name': 'R. T.'}\n",
      "6 Working Experience {'years': '1999-2017', 'company': 'Williamson-Jennings', 'title': 'analyst'}\n",
      "7 Education {'university': 'UMass', 'year': '2013', 'degree': 'Bsc'}\n",
      "7 Location {'location': 'DOUGLASMOUTH'}\n",
      "7 Name {'name': 'John Williams'}\n",
      "7 Working Experience {'years': '1994-2008', 'company': 'Reyes-Golden', 'title': 'manager'}\n",
      "8 Education {'university': 'UCSC', 'year': '2014', 'degree': 'Msc'}\n",
      "8 Location {'location': 'South Aaron'}\n",
      "8 Name {'name': 'Garza'}\n",
      "9 Education {'university': 'UMass', 'year': '2010', 'degree': 'Msc'}\n",
      "9 Education {'university': 'UC_Berkley', 'year': '2014', 'degree': 'Bsc'}\n",
      "9 Location {'location': 'East Linda'}\n",
      "9 Name {'name': 'Angelica Jpones'}\n",
      "9 Working Experience {'years': '1992-1999', 'company': 'Rivera LLC', 'title': 'analyst'}\n",
      "10 Education {'university': 'MIT', 'year': '2019', 'degree': 'Phd'}\n",
      "10 Location {'location': 'Garciaville'}\n",
      "10 Name {'name': 'Steven Wood'}\n",
      "10 Working Experience {'years': '1995-2004', 'company': 'Beard-Evans', 'title': 'doctor'}\n",
      "11 Education {'university': 'MIT', 'year': '2015', 'degree': 'Phd'}\n",
      "11 Location {'location': 'North Tylermouth'}\n",
      "11 Name {'name': 'Casey Woods'}\n",
      "11 Working Experience {'years': '2011-2020', 'company': 'Hughes-Fitzgerald', 'title': 'developer'}\n",
      "12 Education {'university': 'MIT', 'year': '2019', 'degree': 'Bsc'}\n",
      "12 Location {'location': 'M. North'}\n",
      "12 Name {'name': 'Amanda Ryan'}\n",
      "12 Working Experience {'years': '1993-1996', 'company': 'Martinez-Duran', 'title': 'manager'}\n",
      "13 Education {'university': 'MIT', 'year': '1998', 'degree': 'Bsc'}\n",
      "13 Education {'university': 'UC_Berkley', 'year': '2020', 'degree': 'Bsc'}\n",
      "13 Education {'university': 'MIT', 'year': '2013', 'degree': 'Bsc'}\n",
      "13 Location {'location': 'Michaelstad'}\n",
      "13 Name {'name': 'Shannon Clark'}\n",
      "13 Working Experience {'years': '1991-2016', 'company': 'Brooks, Waters and Kelley', 'title': 'analyst'}\n",
      "13 Working Experience {'years': '1997-2012', 'company': 'Flores LLC', 'title': 'developer'}\n",
      "14 Education {'university': 'MIT', 'year': '2005', 'degree': 'Phd'}\n",
      "14 Education {'university': 'UCSC', 'year': '2010', 'degree': 'Phd'}\n",
      "14 Name {'name': 'Crystal Rocinson'}\n",
      "14 Working Experience {'years': '2012-2019', 'company': 'Collins, Ortega and Perry', 'title': 'developer'}\n",
      "15 Education {'university': 'MIT', 'year': '2016', 'degree': 'Phd'}\n",
      "15 Location {'location': 'Ramirezton'}\n",
      "15 Name {'name': 'S. Juan'}\n",
      "15 Working Experience {'years': '1996-2012', 'company': 'Johns-Montoya', 'title': 'doctor'}\n",
      "16 Education {'university': 'UCSC', 'year': '2009', 'degree': 'Phd'}\n",
      "16 Location {'location': 'Brownton'}\n",
      "16 Name {'name': 'Reyes'}\n",
      "16 Working Experience {'years': '2008-2009', 'company': 'Rogers, Brown and Holmes', 'title': 'doctor'}\n",
      "17 Education {'university': 'MIT', 'year': '2013', 'degree': 'Msc'}\n",
      "17 Location {'location': 'Lake Julie'}\n",
      "17 Name {'name': 'Jessica Kelmly'}\n",
      "17 Working Experience {'years': '1991-1997', 'company': 'Mendoza LLC', 'title': 'manager'}\n",
      "18 Education {'university': 'MIT', 'year': '1999', 'degree': 'Bsc'}\n",
      "18 Location {'location': 'Lake Courtney'}\n",
      "18 Name {'name': 'Andrew Knapp'}\n",
      "18 Working Experience {'years': '1990-1999', 'company': 'Nelson-Martin', 'title': 'manager'}\n",
      "19 Education {'university': 'UCSC', 'year': '2018', 'degree': 'Bsc'}\n",
      "19 Location {'location': 'North M.'}\n",
      "19 Name {'name': 'Ryan T.'}\n",
      "19 Working Experience {'years': '2016-2017', 'company': 'Alvarez, Horton and Roach', 'title': 'analyst'}\n",
      "20 Education {'university': 'UC_Berkley', 'year': '2018', 'degree': 'Msc'}\n",
      "20 Location {'location': 'E. Port'}\n",
      "20 Name {'name': 'Sichard Campbell'}\n",
      "20 Working Experience {'years': '2015-2017', 'company': 'Smith-Flores', 'title': 'manager'}\n",
      "21 Education {'university': 'MIT', 'year': '1994', 'degree': 'Phd'}\n",
      "21 Education {'university': 'MIT', 'year': '2003', 'degree': 'Phd'}\n",
      "21 Location {'location': 'Christinaberg'}\n",
      "21 Name {'name': 'Anthpony iaz'}\n",
      "21 Working Experience {'years': '2004-2018', 'company': 'Moon, Hamilton and Berry', 'title': 'analyst'}\n",
      "22 Education {'university': 'UMass', 'year': '2007', 'degree': 'Phd'}\n",
      "22 Education {'university': 'UC_Berkley', 'year': '2006', 'degree': 'Bsc'}\n",
      "22 Education {'university': 'MIT', 'year': '2003', 'degree': 'Bsc'}\n",
      "22 Education {'university': 'MIT', 'year': '1994', 'degree': 'Bsc'}\n",
      "22 Location {'location': 'West Anthony'}\n",
      "22 Name {'name': 'Alert Guerrero'}\n",
      "22 Working Experience {'years': '1999-2012', 'company': 'Atkinson, Nguyen and Robbins', 'title': 'developer'}\n",
      "23 Education {'university': 'UCSC', 'year': '2012', 'degree': 'Phd'}\n",
      "23 Education {'university': 'UC_Berkley', 'year': '2020', 'degree': 'Phd'}\n",
      "23 Location {'location': 'Lake Michael'}\n",
      "23 Name {'name': 'E. Michael'}\n",
      "23 Working Experience {'years': '2007-2020', 'company': 'Horn Ltd', 'title': 'doctor'}\n",
      "24 Education {'university': 'MIT', 'year': '2002', 'degree': 'Bsc'}\n",
      "24 Education {'university': 'UC_Berkley', 'year': '1992', 'degree': 'Bsc'}\n",
      "24 Education {'university': 'UMass', 'year': '2009', 'degree': 'Msc'}\n",
      "24 Location {'location': 'East Robert'}\n",
      "24 Name {'name': 'Christopher Mathis'}\n",
      "24 Working Experience {'years': '1999-2009', 'company': 'Williams, Jackson and Castaneda', 'title': 'manager'}\n",
      "25 Education {'university': 'UCSC', 'year': '1990', 'degree': 'Bsc'}\n",
      "25 Location {'location': 'Murraystad'}\n",
      "25 Name {'name': 'VALENTJINE'}\n",
      "25 Working Experience {'years': '1994-2003', 'company': 'Walker Inc', 'title': 'manager'}\n",
      "26 Education {'university': 'UMass', 'year': '1992', 'degree': 'Bsc'}\n",
      "26 Location {'location': 'ONew Erinstad'}\n",
      "26 Name {'name': 'Stewart'}\n",
      "26 Working Experience {'years': '2004-2014', 'company': 'Gross-Morgan', 'title': 'analyst'}\n",
      "26 Working Experience {'years': '1995-2009', 'company': 'Johnson-Robinson', 'title': 'analyst'}\n",
      "26 Working Experience {'years': '2000-2009', 'company': 'Morgan LLC', 'title': 'doctor'}\n",
      "27 Education {'university': 'MIT', 'year': '2017', 'degree': 'Msc'}\n",
      "27 Location {'location': 'West Allenport'}\n",
      "27 Name {'name': 'Benjamin Moreno'}\n",
      "27 Working Experience {'years': '2001-2005', 'company': 'Gutierrez-Bennett', 'title': 'manager'}\n",
      "27 Working Experience {'years': '1998-2013', 'company': 'Henderson Ltd', 'title': 'manager'}\n",
      "28 Education {'university': 'UCSC', 'year': '2013', 'degree': 'Msc'}\n",
      "28 Location {'location': 'Crystalport P.'}\n",
      "28 Name {'name': 'PFNNINGTON'}\n",
      "28 Working Experience {'years': '1991-2007', 'company': 'Campbell, Cruz and Walker', 'title': 'doctor'}\n",
      "29 Education {'university': 'UC_Berkley', 'year': '1996', 'degree': 'Bsc'}\n",
      "29 Location {'location': 'DANIELSBURY'}\n",
      "29 Name {'name': 'MATTHEW'}\n",
      "29 Working Experience {'years': '1993-2003', 'company': 'Hernandez Inc', 'title': 'doctor'}\n",
      "30 Education {'university': 'UC_Berkley', 'year': '2010', 'degree': 'Msc'}\n",
      "30 Location {'location': 'SCOTTTON'}\n",
      "30 Name {'name': 'Logan'}\n",
      "30 Working Experience {'years': '1997-2007', 'company': 'Brewer and Sons', 'title': 'doctor'}\n",
      "30 Working Experience {'years': '2008-213', 'company': 'Byrd Group', 'title': 'developer'}\n",
      "31 Education {'university': 'UC_Berkley', 'year': '1993', 'degree': 'Msc'}\n",
      "31 Location {'location': 'Adkinsmouth'}\n",
      "31 Name {'name': 'LUA ROGER'}\n",
      "31 Working Experience {'years': '1999-2014', 'company': 'Henderson PLC', 'title': 'doctor'}\n",
      "31 Working Experience {'years': '1997-2008', 'company': 'Hansen Ltd', 'title': 'analyst'}\n",
      "32 Education {'university': 'UCSC', 'year': '1993', 'degree': 'Bsc'}\n",
      "32 Location {'location': 'Brandonshire'}\n",
      "32 Name {'name': 'R/ Kim'}\n",
      "32 Working Experience {'years': '19955-2017', 'company': 'Luna-Mcneil', 'title': 'developer'}\n",
      "33 Education {'university': 'MIT', 'year': '2018', 'degree': 'Phd'}\n",
      "33 Location {'location': 'Larryberg'}\n",
      "33 Name {'name': 'KJason Vargas'}\n",
      "33 Working Experience {'years': '1997-2018', 'company': 'Collins-Alvarado', 'title': 'manager'}\n",
      "34 Education {'university': 'UCSC', 'year': '1996', 'degree': 'Bsc'}\n",
      "34 Location {'location': 'Lake Latoyaland'}\n",
      "34 Name {'name': 'Lisa Cunningham'}\n",
      "34 Working Experience {'years': '1995-2019', 'company': 'Sullivan-Hammond', 'title': 'developer'}\n",
      "35 Education {'university': 'UC_Berkley', 'year': '2004', 'degree': 'Bsc'}\n",
      "35 Location {'location': 'North Jacqeline'}\n",
      "35 Name {'name': 'Jason S.'}\n",
      "35 Working Experience {'years': '1997-2011', 'company': 'Smith-Case', 'title': 'analyst'}\n",
      "36 Education {'university': 'UMass', 'year': '2008', 'degree': 'Phd'}\n",
      "36 Location {'location': 'ROSSTON'}\n",
      "36 Name {'name': 'Courtnney Marrtinez'}\n",
      "36 Working Experience {'years': '2008-2016', 'company': 'Griffin, Davis and Alvarado', 'title': 'developer'}\n",
      "37 Education {'university': 'UCSC', 'year': '2006', 'degree': 'Bsc'}\n",
      "37 Location {'location': 'Paynehaven'}\n",
      "37 Name {'name': 'W. Rebecca'}\n",
      "37 Working Experience {'years': '1992-2012', 'company': 'Evans Group', 'title': 'analyst'}\n",
      "37 Working Experience {'years': '1996-2004', 'company': 'Obrien-Jarvis', 'title': 'analyst'}\n",
      "37 Working Experience {'years': '1991-1992', 'company': 'Rodriguez PLC', 'title': 'manager'}\n",
      "38 Education {'university': 'MIT', 'year': '1997', 'degree': 'Phd'}\n",
      "38 Location {'location': 'New Melissastad'}\n",
      "38 Name {'name': 'Joshua D.'}\n",
      "38 Working Experience {'years': '1994-2006', 'company': 'Wolf Hunter aand Mays', 'title': 'doctor'}\n",
      "39 Education {'university': 'UMass', 'year': '2019', 'degree': 'Msc'}\n",
      "39 Location {'location': 'C. West'}\n",
      "39 Name {'name': 'Patricia Krueheer'}\n",
      "39 Working Experience {'years': '1995-1999', 'company': 'Russell, Hoffman and Wallace', 'title': 'analyst'}\n",
      "39 Working Experience {'years': '2003-2017', 'company': 'Bker and Sons', 'title': 'doctor'}\n",
      "40 Education {'university': 'UMass', 'year': '1995', 'degree': 'Phd'}\n",
      "40 Location {'location': 'JESSICAMOUTH'}\n",
      "40 Name {'name': 'Thomas Francis'}\n",
      "40 Working Experience {'years': '2004-2018', 'company': 'Smith, Ferrell and Thompson', 'title': 'analyst'}\n",
      "41 Education {'university': 'UMass', 'year': '2008', 'degree': 'Phd'}\n",
      "41 Education {'university': 'UC_Berkley', 'year': '2003', 'degree': 'Phd'}\n",
      "41 Education {'university': 'MIT', 'year': '2017', 'degree': 'Bsc'}\n",
      "41 Name {'name': 'Richard Jordan'}\n",
      "41 Working Experience {'years': '2003-2004', 'company': 'Grant, Allen and Heath', 'title': 'manager'}\n",
      "42 Education {'university': 'MIT', 'year': '2016', 'degree': 'Msc'}\n",
      "42 Name {'name': 'TAYLOR'}\n",
      "42 Working Experience {'years': '2004-2019', 'company': 'Garrison-Morton', 'title': 'developer'}\n",
      "43 Education {'university': 'UC_Berkley', 'year': '2011', 'degree': 'Phd'}\n",
      "43 Location {'location': 'South Chase'}\n",
      "43 Name {'name': 'Ryan Mcclure'}\n",
      "43 Working Experience {'years': '1990-2014', 'company': 'Ross, Holloway and Rosario', 'title': 'doctor'}\n",
      "44 Education {'university': 'UC_Berkley', 'year': '2016', 'degree': 'Phd'}\n",
      "44 Location {'location': 'East Mariah'}\n",
      "44 Name {'name': 'April Ross'}\n",
      "44 Working Experience {'years': '1996-2008', 'company': 'Turner-Robinson', 'title': 'analyst'}\n",
      "44 Working Experience {'years': '1991-2010', 'company': 'Prince LLC', 'title': 'developer'}\n",
      "44 Working Experience {'years': '2007-2018', 'company': 'Roberts, Wilson and Middleton', 'title': 'developer'}\n",
      "45 Education {'university': 'UC_Berkley', 'year': '2019', 'degree': 'Bsc'}\n",
      "45 Location {'location': 'Chentown'}\n",
      "45 Name {'name': 'Zahary Lozano'}\n",
      "45 Working Experience {'years': '2018-2020', 'company': 'Scott, Martin and Quinn', 'title': 'developer'}\n",
      "45 Working Experience {'years': '1993-1996', 'company': 'Powers and Sons', 'title': 'manager'}\n",
      "46 Education {'university': 'UC_Berkley', 'year': '1996', 'degree': 'Msc'}\n",
      "46 Location {'location': 'WILLISTON'}\n",
      "46 Name {'name': 'Dave West'}\n",
      "46 Working Experience {'years': '2010-2013', 'company': 'Valentine, Novak and Sanchez', 'title': 'manager'}\n",
      "47 Education {'university': 'UCSC', 'year': '2015', 'degree': 'Bsc'}\n",
      "47 Education {'university': 'UCSC', 'year': '1990', 'degree': 'Bsc'}\n",
      "47 Name {'name': 'Kimberly Delacruz'}\n",
      "47 Working Experience {'years': '2003-2020', 'company': 'Olson, Rogers and Brown', 'title': 'doctor'}\n",
      "48 Education {'university': 'UC_Berkley', 'year': '1998', 'degree': 'Bsc'}\n",
      "48 Location {'location': 'DALTONVIEW'}\n",
      "48 Name {'name': 'SIMMONS'}\n",
      "48 Working Experience {'years': '2005-2008', 'company': 'Anderson Group', 'title': 'analyst'}\n",
      "49 Education {'university': 'UC_Berkley', 'year': '1992', 'degree': 'Phd'}\n",
      "49 Education {'university': 'MIT', 'year': '1996', 'degree': 'Msc'}\n",
      "49 Location {'location': 'East Michael'}\n",
      "49 Name {'name': 'Tyler Anderson'}\n",
      "49 Working Experience {'years': '2013-2015', 'company': 'Collins, Diaz and Wagner', 'title': 'analyst'}\n"
     ]
    }
   ],
   "source": [
    "true_facts_sort = sorted(true_facts, key=lambda f: (f.ent_id, f.ent_attr), reverse=False)\n",
    "for f in true_facts_sort:\n",
    "    print(f.ent_id, f.ent_attr, f.canonicalTuple)\n",
    "\n",
    "# for f in true_facts:\n",
    "#     print(f.canonicalTuple)"
   ]
  },
  {
   "cell_type": "code",
   "execution_count": 13,
   "metadata": {
    "pycharm": {
     "name": "#%%\n"
    }
   },
   "outputs": [],
   "source": [
    "eval = fuse_session.evaluate(inferred_facts=true_facts,grd_path='../../datasets/current/eval.json')\n",
    "print(eval)"
   ]
  }
 ],
 "metadata": {
  "kernelspec": {
   "display_name": "PyCharm (EntityMatching_Thesis)",
   "language": "python",
   "name": "pycharm-a8ea7e6e"
  },
  "language_info": {
   "codemirror_mode": {
    "name": "ipython",
    "version": 3
   },
   "file_extension": ".py",
   "mimetype": "text/x-python",
   "name": "python",
   "nbconvert_exporter": "python",
   "pygments_lexer": "ipython3",
   "version": "3.8.5"
  }
 },
 "nbformat": 4,
 "nbformat_minor": 2
}
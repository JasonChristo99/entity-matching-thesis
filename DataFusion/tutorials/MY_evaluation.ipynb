{
 "cells": [
  {
   "cell_type": "code",
   "execution_count": 1,
   "outputs": [
    {
     "name": "stderr",
     "output_type": "stream",
     "text": [
      "C:\\Python38\\lib\\site-packages\\fuzzywuzzy\\fuzz.py:11: UserWarning: Using slow pure-python SequenceMatcher. Install python-Levenshtein to remove this warning\n",
      "  warnings.warn('Using slow pure-python SequenceMatcher. Install python-Levenshtein to remove this warning')\n",
      "C:\\Python38\\lib\\site-packages\\sklearn\\base.py:310: UserWarning: Trying to unpickle estimator LogisticRegression from version 0.23.2 when using version 0.24.2. This might lead to breaking code or invalid results. Use at your own risk.\n",
      "  warnings.warn(\n",
      "C:\\Users\\Iasonas\\AppData\\Roaming\\Python\\Python38\\site-packages\\gensim\\utils.py:1212: UserWarning: detected Windows; aliasing chunkize to chunkize_serial\n",
      "  warnings.warn(\"detected Windows; aliasing chunkize to chunkize_serial\")\n",
      "INFO:summarizer.preprocessing.cleaner:'pattern' package not found; tag filters are not available for English\n",
      "C:\\Python38\\lib\\site-packages\\sklearn\\base.py:310: UserWarning: Trying to unpickle estimator LogisticRegression from version 0.23.2 when using version 0.24.2. This might lead to breaking code or invalid results. Use at your own risk.\n",
      "  warnings.warn(\n",
      "INFO:gensim.models.utils_any2vec:loading projection weights from C:/Users/Iasonas/Downloads/GoogleNews-vectors-negative300.bin\n",
      "INFO:gensim.models.utils_any2vec:loaded (3000000, 300) matrix from C:/Users/Iasonas/Downloads/GoogleNews-vectors-negative300.bin\n",
      "INFO:global:Connection established to database.\n"
     ]
    }
   ],
   "source": [
    "%load_ext autoreload\n",
    "%autoreload 2\n",
    "\n",
    "import os\n",
    "os.chdir('C:/Users/Iasonas/PycharmProjects/EntityMatching_Thesis/DataFusion/tutorials')\n",
    "\n",
    "import fuse\n",
    "fuse_env = fuse.Fuse(verbose=True)\n",
    "fuse_session = fuse_env.get_session('test')\n",
    "\n",
    "MATCHER='DEDUPE'\n",
    "# MATCHER='AHC'"
   ],
   "metadata": {
    "collapsed": false,
    "pycharm": {
     "name": "#%%\n"
    }
   }
  },
  {
   "cell_type": "code",
   "execution_count": 2,
   "outputs": [
    {
     "name": "stderr",
     "output_type": "stream",
     "text": [
      "INFO:dedupe.api:Predicate set:\n",
      "INFO:dedupe.api:(LevenshteinCanopyPredicate: (2, company), TfidfNGramCanopyPredicate: (0.4, year), SimplePredicate: (commonSixGram, company))\n",
      "INFO:dedupe.api:(SimplePredicate: (firstIntegerPredicate, year), TfidfTextCanopyPredicate: (0.6, title))\n",
      "INFO:dedupe.api:Predicate set:\n",
      "INFO:dedupe.api:Predicate set:\n",
      "INFO:dedupe.api:Predicate set:\n",
      "INFO:dedupe.api:(TfidfTextCanopyPredicate: (0.6, year), LevenshteinCanopyPredicate: (3, university), LevenshteinCanopyPredicate: (4, university))\n",
      "INFO:dedupe.api:(TfidfNGramCanopyPredicate: (0.2, university), SimplePredicate: (sameFiveCharStartPredicate, degree))\n",
      "INFO:dedupe.api:(SimplePredicate: (commonFourGram, year), SimplePredicate: (sameThreeCharStartPredicate, degree), LevenshteinCanopyPredicate: (4, university))\n",
      "INFO:dedupe.api:(SimplePredicate: (nearIntegersPredicate, year), SimplePredicate: (suffixArray, university))\n"
     ]
    }
   ],
   "source": [
    "if MATCHER=='DEDUPE':\n",
    "    from matching.dedupe import DedupeMatcher\n",
    "    dataset = fuse_session.ingest('../../datasets/current/observed.json',\n",
    "                                  'fusion_test', matching_strategy=DedupeMatcher)\n",
    "\n",
    "if MATCHER=='AHC':\n",
    "    from matching.collective_matching_ahc import AgglomerativeHierarchicalClustering\n",
    "    dataset = fuse_session.ingest('../../datasets/current/observed.json',\n",
    "                               'fusion_test', matching_strategy=AgglomerativeHierarchicalClustering)\n"
   ],
   "metadata": {
    "collapsed": false,
    "pycharm": {
     "name": "#%%\n"
    }
   }
  },
  {
   "cell_type": "code",
   "execution_count": 3,
   "metadata": {},
   "outputs": [],
   "source": [
    "fuse_session.train_matchers('../../datasets/current/matched.json')"
   ]
  },
  {
   "cell_type": "code",
   "execution_count": 5,
   "outputs": [],
   "source": [
    "# x=dataset.entity_attribute_matchers['Education'].attribute_to_simrank_matcher['university'].cluster_simrank_buffer\n",
    "# {k: round(v, 3) for k, v in sorted(x.items(), key=lambda item: item[1], reverse=True)}\n",
    "# dataset.entity_attribute_matchers['Education'].attribute_to_simrank_matcher['university'].get_simrank_score_of_tokens('Bsc','undergraduate_degree')\n",
    "# dataset.entity_attribute_matchers['Education'].attribute_to_simrank_matcher['degree'].get_simrank_score_of_tokens('Bsc','undergraduate_degree')\n",
    "# dataset.entity_attribute_matchers['Education'].attribute_to_simrank_matcher['degree'].get_simrank_score_of_tokens('doctorate','doctoral_degree')\n",
    "# dataset.entity_attribute_matchers['Education'].attribute_to_simrank_matcher['degree'].get_simrank_score_of_tokens('doctorate','Bsc')\n",
    "# dataset.entity_attribute_matchers['Education'].attribute_to_simrank_matcher['degree'].get_simrank_score_of_tokens('Msc','Bsc')\n",
    "# x=dataset.entity_attribute_matchers['Working Experience'].attribute_to_simrank_matcher['title'].cluster_simrank_buffer\n",
    "# {k: round(v, 3) for k, v in sorted(x.items(), key=lambda item: item[1], reverse=True)}\n",
    "# dataset.entity_attribute_matchers['Working Experience'].attribute_to_simrank_matcher['title'].get_simrank_score_of_tokens('manager','developer')\n",
    "# dataset.entity_attribute_matchers['Working Experience'].attribute_to_simrank_matcher['title'].get_simrank_score_of_tokens('coder','developer')\n",
    "# dataset.entity_attribute_matchers['Working Experience'].attribute_to_simrank_matcher['title'].get_simrank_score_of_tokens('analyst','developer')\n",
    "# dataset.entity_attribute_matchers['Working Experience'].attribute_to_simrank_matcher['title'].get_simrank_score_of_tokens('analyst','manager')\n",
    "# dataset.entity_attribute_matchers['Working Experience'].attribute_to_simrank_matcher['title'].get_simrank_score_of_tokens('doctor','manager')\n",
    "# dataset.entity_attribute_matchers['Working Experience'].attribute_to_simrank_matcher['title'].get_simrank_score_of_tokens('clinician','doctor')"
   ],
   "metadata": {
    "collapsed": false,
    "pycharm": {
     "name": "#%%\n"
    }
   }
  },
  {
   "cell_type": "code",
   "execution_count": 6,
   "metadata": {
    "pycharm": {
     "name": "#%%\n"
    }
   },
   "outputs": [],
   "source": [
    "fuse_session.match_observations()"
   ]
  },
  {
   "cell_type": "code",
   "execution_count": 7,
   "metadata": {},
   "outputs": [
    {
     "name": "stderr",
     "output_type": "stream",
     "text": [
      "INFO:global:Running truth discovery for 10 iterations.\n",
      "INFO:global:Iteration = 0\n",
      "INFO:global:Source weights = {'Working Experience': {'pipl.com': 1.0, 'pro-profiles.com': 1.0, 'internsteps.com': 1.0, 'find.jobs': 1.0}, 'Location': {'pipl.com': 1.0, 'pro-profiles.com': 1.0, 'internsteps.com': 1.0, 'find.jobs': 1.0}, 'Name': {'pipl.com': 1.0, 'pro-profiles.com': 1.0, 'internsteps.com': 1.0, 'find.jobs': 1.0}, 'Education': {'pipl.com': 1.0, 'pro-profiles.com': 1.0, 'internsteps.com': 1.0, 'find.jobs': 1.0}}\n",
      "INFO:global:Iteration = 1\n",
      "INFO:global:Source weights = {'Working Experience': {'pipl.com': 4.595119850134589, 'pro-profiles.com': 4.595119850134589, 'internsteps.com': 4.595119850134589, 'find.jobs': 4.595119850134589}, 'Location': {'pipl.com': 4.595119850134589, 'pro-profiles.com': 4.595119850134589, 'internsteps.com': 4.595119850134589, 'find.jobs': 4.595119850134589}, 'Name': {'pipl.com': 4.595119850134589, 'pro-profiles.com': 4.595119850134589, 'internsteps.com': 4.595119850134589, 'find.jobs': 4.595119850134589}, 'Education': {'pipl.com': 1.4109869737102623, 'pro-profiles.com': 0.7525706010307461, 'internsteps.com': 0.9718605830289656, 'find.jobs': 1.452985735618563}}\n",
      "INFO:global:Iteration = 2\n",
      "INFO:global:Source weights = {'Working Experience': {'pipl.com': 4.595119850134589, 'pro-profiles.com': 4.595119850134589, 'internsteps.com': 4.595119850134589, 'find.jobs': 4.595119850134589}, 'Location': {'pipl.com': 4.595119850134589, 'pro-profiles.com': 4.595119850134589, 'internsteps.com': 4.595119850134589, 'find.jobs': 4.595119850134589}, 'Name': {'pipl.com': 4.595119850134589, 'pro-profiles.com': 4.595119850134589, 'internsteps.com': 4.595119850134589, 'find.jobs': 4.595119850134589}, 'Education': {'pipl.com': 1.6817585740137264, 'pro-profiles.com': 0.5212969236332861, 'internsteps.com': 0.7827593392496325, 'find.jobs': 1.8382794848629482}}\n",
      "INFO:global:Iteration = 3\n",
      "INFO:global:Source weights = {'Working Experience': {'pipl.com': 4.595119850134589, 'pro-profiles.com': 4.595119850134589, 'internsteps.com': 4.595119850134589, 'find.jobs': 4.595119850134589}, 'Location': {'pipl.com': 4.595119850134589, 'pro-profiles.com': 4.595119850134589, 'internsteps.com': 4.595119850134589, 'find.jobs': 4.595119850134589}, 'Name': {'pipl.com': 4.595119850134589, 'pro-profiles.com': 4.595119850134589, 'internsteps.com': 4.595119850134589, 'find.jobs': 4.595119850134589}, 'Education': {'pipl.com': 1.6817585740137264, 'pro-profiles.com': 0.5212969236332861, 'internsteps.com': 0.7827593392496325, 'find.jobs': 1.8382794848629482}}\n",
      "INFO:global:Iteration = 4\n",
      "INFO:global:Source weights = {'Working Experience': {'pipl.com': 4.595119850134589, 'pro-profiles.com': 4.595119850134589, 'internsteps.com': 4.595119850134589, 'find.jobs': 4.595119850134589}, 'Location': {'pipl.com': 4.595119850134589, 'pro-profiles.com': 4.595119850134589, 'internsteps.com': 4.595119850134589, 'find.jobs': 4.595119850134589}, 'Name': {'pipl.com': 4.595119850134589, 'pro-profiles.com': 4.595119850134589, 'internsteps.com': 4.595119850134589, 'find.jobs': 4.595119850134589}, 'Education': {'pipl.com': 1.6817585740137264, 'pro-profiles.com': 0.5212969236332861, 'internsteps.com': 0.7827593392496325, 'find.jobs': 1.8382794848629482}}\n",
      "INFO:global:Iteration = 5\n",
      "INFO:global:Source weights = {'Working Experience': {'pipl.com': 4.595119850134589, 'pro-profiles.com': 4.595119850134589, 'internsteps.com': 4.595119850134589, 'find.jobs': 4.595119850134589}, 'Location': {'pipl.com': 4.595119850134589, 'pro-profiles.com': 4.595119850134589, 'internsteps.com': 4.595119850134589, 'find.jobs': 4.595119850134589}, 'Name': {'pipl.com': 4.595119850134589, 'pro-profiles.com': 4.595119850134589, 'internsteps.com': 4.595119850134589, 'find.jobs': 4.595119850134589}, 'Education': {'pipl.com': 1.6817585740137264, 'pro-profiles.com': 0.5212969236332861, 'internsteps.com': 0.7827593392496325, 'find.jobs': 1.8382794848629482}}\n",
      "INFO:global:Iteration = 6\n",
      "INFO:global:Source weights = {'Working Experience': {'pipl.com': 4.595119850134589, 'pro-profiles.com': 4.595119850134589, 'internsteps.com': 4.595119850134589, 'find.jobs': 4.595119850134589}, 'Location': {'pipl.com': 4.595119850134589, 'pro-profiles.com': 4.595119850134589, 'internsteps.com': 4.595119850134589, 'find.jobs': 4.595119850134589}, 'Name': {'pipl.com': 4.595119850134589, 'pro-profiles.com': 4.595119850134589, 'internsteps.com': 4.595119850134589, 'find.jobs': 4.595119850134589}, 'Education': {'pipl.com': 1.6817585740137264, 'pro-profiles.com': 0.5212969236332861, 'internsteps.com': 0.7827593392496325, 'find.jobs': 1.8382794848629482}}\n",
      "INFO:global:Iteration = 7\n",
      "INFO:global:Source weights = {'Working Experience': {'pipl.com': 4.595119850134589, 'pro-profiles.com': 4.595119850134589, 'internsteps.com': 4.595119850134589, 'find.jobs': 4.595119850134589}, 'Location': {'pipl.com': 4.595119850134589, 'pro-profiles.com': 4.595119850134589, 'internsteps.com': 4.595119850134589, 'find.jobs': 4.595119850134589}, 'Name': {'pipl.com': 4.595119850134589, 'pro-profiles.com': 4.595119850134589, 'internsteps.com': 4.595119850134589, 'find.jobs': 4.595119850134589}, 'Education': {'pipl.com': 1.6817585740137264, 'pro-profiles.com': 0.5212969236332861, 'internsteps.com': 0.7827593392496325, 'find.jobs': 1.8382794848629482}}\n",
      "INFO:global:Iteration = 8\n",
      "INFO:global:Source weights = {'Working Experience': {'pipl.com': 4.595119850134589, 'pro-profiles.com': 4.595119850134589, 'internsteps.com': 4.595119850134589, 'find.jobs': 4.595119850134589}, 'Location': {'pipl.com': 4.595119850134589, 'pro-profiles.com': 4.595119850134589, 'internsteps.com': 4.595119850134589, 'find.jobs': 4.595119850134589}, 'Name': {'pipl.com': 4.595119850134589, 'pro-profiles.com': 4.595119850134589, 'internsteps.com': 4.595119850134589, 'find.jobs': 4.595119850134589}, 'Education': {'pipl.com': 1.6817585740137264, 'pro-profiles.com': 0.5212969236332861, 'internsteps.com': 0.7827593392496325, 'find.jobs': 1.8382794848629482}}\n",
      "INFO:global:Iteration = 9\n",
      "INFO:global:Source weights = {'Working Experience': {'pipl.com': 4.595119850134589, 'pro-profiles.com': 4.595119850134589, 'internsteps.com': 4.595119850134589, 'find.jobs': 4.595119850134589}, 'Location': {'pipl.com': 4.595119850134589, 'pro-profiles.com': 4.595119850134589, 'internsteps.com': 4.595119850134589, 'find.jobs': 4.595119850134589}, 'Name': {'pipl.com': 4.595119850134589, 'pro-profiles.com': 4.595119850134589, 'internsteps.com': 4.595119850134589, 'find.jobs': 4.595119850134589}, 'Education': {'pipl.com': 1.6817585740137264, 'pro-profiles.com': 0.5212969236332861, 'internsteps.com': 0.7827593392496325, 'find.jobs': 1.8382794848629482}}\n"
     ]
    }
   ],
   "source": [
    "tr_clusters = fuse_session.find_true_clusters()"
   ]
  },
  {
   "cell_type": "code",
   "execution_count": 8,
   "metadata": {
    "pycharm": {
     "name": "#%%\n"
    }
   },
   "outputs": [
    {
     "name": "stderr",
     "output_type": "stream",
     "text": [
      "INFO:gensim.models.utils_any2vec:loading projection weights from C:/Users/Iasonas/Downloads/GoogleNews-vectors-negative300.bin\n",
      "INFO:gensim.models.utils_any2vec:loaded (3000000, 300) matrix from C:/Users/Iasonas/Downloads/GoogleNews-vectors-negative300.bin\n",
      "INFO:global:Running fusion for 10 iterations.\n",
      "INFO:global:Iteration = 0\n",
      "INFO:global:Source weights = {'Working Experience': {'pipl.com': 1.0, 'pro-profiles.com': 1.0, 'internsteps.com': 1.0, 'find.jobs': 1.0}, 'Location': {'pipl.com': 1.0, 'pro-profiles.com': 1.0, 'internsteps.com': 1.0, 'find.jobs': 1.0}, 'Name': {'pipl.com': 1.0, 'pro-profiles.com': 1.0, 'internsteps.com': 1.0, 'find.jobs': 1.0}, 'Education': {'pipl.com': 1.0, 'pro-profiles.com': 1.0, 'internsteps.com': 1.0, 'find.jobs': 1.0}}\n",
      "INFO:global:Iteration = 1\n",
      "INFO:global:Source weights = {'Working Experience': {'pipl.com': 4.595119850134589, 'pro-profiles.com': 5.411646051855058, 'internsteps.com': 4.595119850134589, 'find.jobs': 4.595119850134589}, 'Location': {'pipl.com': 3.8918202981106256, 'pro-profiles.com': 4.595119850134589, 'internsteps.com': 4.595119850134589, 'find.jobs': 4.595119850134589}, 'Name': {'pipl.com': 4.595119850134589, 'pro-profiles.com': 3.8918202981106256, 'internsteps.com': 4.595119850134589, 'find.jobs': 4.595119850134589}, 'Education': {'pipl.com': 4.595119850134589, 'pro-profiles.com': 4.595119850134589, 'internsteps.com': 4.595119850134589, 'find.jobs': 4.595119850134589}}\n",
      "INFO:global:Iteration = 2\n",
      "INFO:global:Source weights = {'Working Experience': {'pipl.com': 4.595119850134589, 'pro-profiles.com': 5.411646051855058, 'internsteps.com': 4.595119850134589, 'find.jobs': 4.595119850134589}, 'Location': {'pipl.com': 3.8918202981106256, 'pro-profiles.com': 4.595119850134589, 'internsteps.com': 4.595119850134589, 'find.jobs': 4.595119850134589}, 'Name': {'pipl.com': 4.595119850134589, 'pro-profiles.com': 3.8918202981106256, 'internsteps.com': 4.595119850134589, 'find.jobs': 4.595119850134589}, 'Education': {'pipl.com': 4.595119850134589, 'pro-profiles.com': 4.595119850134589, 'internsteps.com': 4.595119850134589, 'find.jobs': 4.595119850134589}}\n",
      "INFO:global:Iteration = 3\n",
      "INFO:global:Source weights = {'Working Experience': {'pipl.com': 4.595119850134589, 'pro-profiles.com': 5.411646051855058, 'internsteps.com': 4.595119850134589, 'find.jobs': 4.595119850134589}, 'Location': {'pipl.com': 3.8918202981106256, 'pro-profiles.com': 4.595119850134589, 'internsteps.com': 4.595119850134589, 'find.jobs': 4.595119850134589}, 'Name': {'pipl.com': 4.595119850134589, 'pro-profiles.com': 3.8918202981106256, 'internsteps.com': 4.595119850134589, 'find.jobs': 4.595119850134589}, 'Education': {'pipl.com': 4.595119850134589, 'pro-profiles.com': 4.595119850134589, 'internsteps.com': 4.595119850134589, 'find.jobs': 4.595119850134589}}\n",
      "INFO:global:Iteration = 4\n",
      "INFO:global:Source weights = {'Working Experience': {'pipl.com': 4.595119850134589, 'pro-profiles.com': 5.411646051855058, 'internsteps.com': 4.595119850134589, 'find.jobs': 4.595119850134589}, 'Location': {'pipl.com': 3.8918202981106256, 'pro-profiles.com': 4.595119850134589, 'internsteps.com': 4.595119850134589, 'find.jobs': 4.595119850134589}, 'Name': {'pipl.com': 4.595119850134589, 'pro-profiles.com': 3.8918202981106256, 'internsteps.com': 4.595119850134589, 'find.jobs': 4.595119850134589}, 'Education': {'pipl.com': 4.595119850134589, 'pro-profiles.com': 4.595119850134589, 'internsteps.com': 4.595119850134589, 'find.jobs': 4.595119850134589}}\n",
      "INFO:global:Iteration = 5\n",
      "INFO:global:Source weights = {'Working Experience': {'pipl.com': 4.595119850134589, 'pro-profiles.com': 5.411646051855058, 'internsteps.com': 4.595119850134589, 'find.jobs': 4.595119850134589}, 'Location': {'pipl.com': 3.8918202981106256, 'pro-profiles.com': 4.595119850134589, 'internsteps.com': 4.595119850134589, 'find.jobs': 4.595119850134589}, 'Name': {'pipl.com': 4.595119850134589, 'pro-profiles.com': 3.8918202981106256, 'internsteps.com': 4.595119850134589, 'find.jobs': 4.595119850134589}, 'Education': {'pipl.com': 4.595119850134589, 'pro-profiles.com': 4.595119850134589, 'internsteps.com': 4.595119850134589, 'find.jobs': 4.595119850134589}}\n",
      "INFO:global:Iteration = 6\n",
      "INFO:global:Source weights = {'Working Experience': {'pipl.com': 4.595119850134589, 'pro-profiles.com': 5.411646051855058, 'internsteps.com': 4.595119850134589, 'find.jobs': 4.595119850134589}, 'Location': {'pipl.com': 3.8918202981106256, 'pro-profiles.com': 4.595119850134589, 'internsteps.com': 4.595119850134589, 'find.jobs': 4.595119850134589}, 'Name': {'pipl.com': 4.595119850134589, 'pro-profiles.com': 3.8918202981106256, 'internsteps.com': 4.595119850134589, 'find.jobs': 4.595119850134589}, 'Education': {'pipl.com': 4.595119850134589, 'pro-profiles.com': 4.595119850134589, 'internsteps.com': 4.595119850134589, 'find.jobs': 4.595119850134589}}\n",
      "INFO:global:Iteration = 7\n",
      "INFO:global:Source weights = {'Working Experience': {'pipl.com': 4.595119850134589, 'pro-profiles.com': 5.411646051855058, 'internsteps.com': 4.595119850134589, 'find.jobs': 4.595119850134589}, 'Location': {'pipl.com': 3.8918202981106256, 'pro-profiles.com': 4.595119850134589, 'internsteps.com': 4.595119850134589, 'find.jobs': 4.595119850134589}, 'Name': {'pipl.com': 4.595119850134589, 'pro-profiles.com': 3.8918202981106256, 'internsteps.com': 4.595119850134589, 'find.jobs': 4.595119850134589}, 'Education': {'pipl.com': 4.595119850134589, 'pro-profiles.com': 4.595119850134589, 'internsteps.com': 4.595119850134589, 'find.jobs': 4.595119850134589}}\n",
      "INFO:global:Iteration = 8\n",
      "INFO:global:Source weights = {'Working Experience': {'pipl.com': 4.595119850134589, 'pro-profiles.com': 5.411646051855058, 'internsteps.com': 4.595119850134589, 'find.jobs': 4.595119850134589}, 'Location': {'pipl.com': 3.8918202981106256, 'pro-profiles.com': 4.595119850134589, 'internsteps.com': 4.595119850134589, 'find.jobs': 4.595119850134589}, 'Name': {'pipl.com': 4.595119850134589, 'pro-profiles.com': 3.8918202981106256, 'internsteps.com': 4.595119850134589, 'find.jobs': 4.595119850134589}, 'Education': {'pipl.com': 4.595119850134589, 'pro-profiles.com': 4.595119850134589, 'internsteps.com': 4.595119850134589, 'find.jobs': 4.595119850134589}}\n",
      "INFO:global:Iteration = 9\n",
      "INFO:global:Source weights = {'Working Experience': {'pipl.com': 4.595119850134589, 'pro-profiles.com': 5.411646051855058, 'internsteps.com': 4.595119850134589, 'find.jobs': 4.595119850134589}, 'Location': {'pipl.com': 3.8918202981106256, 'pro-profiles.com': 4.595119850134589, 'internsteps.com': 4.595119850134589, 'find.jobs': 4.595119850134589}, 'Name': {'pipl.com': 4.595119850134589, 'pro-profiles.com': 3.8918202981106256, 'internsteps.com': 4.595119850134589, 'find.jobs': 4.595119850134589}, 'Education': {'pipl.com': 4.595119850134589, 'pro-profiles.com': 4.595119850134589, 'internsteps.com': 4.595119850134589, 'find.jobs': 4.595119850134589}}\n"
     ]
    },
    {
     "name": "stdout",
     "output_type": "stream",
     "text": [
      "{'name': 'Andrew Knapp'}\n",
      "{'name': 'Christopher Logan'}\n",
      "{'name': 'S. Juan'}\n",
      "{'name': 'Tyler Anderson'}\n",
      "{'name': 'MMauthis'}\n",
      "{'location': 'Brownton'}\n",
      "{'location': 'CHRISTINABERG'}\n",
      "{'name': 'Richard Jordan'}\n",
      "{'years': '2003-2020', 'title': 'doctor', 'company': 'Olson, Rogers and Brown'}\n",
      "{'location': 'Elizabethfurt P.'}\n",
      "{'years': '1993-1996', 'title': 'manager', 'company': 'Martinez-Duran'}\n",
      "{'name': 'Jaton Smith'}\n",
      "{'years': '2018-2020', 'title': 'developer', 'company': 'Powers and Sons'}\n",
      "{'name': 'Anthony Diaaz'}\n",
      "{'university': 'MIT', 'degree': 'Phd', 'year': '1997'}\n",
      "{'location': 'GARCIAVILLE'}\n",
      "{'location': 'M. North'}\n",
      "{'years': '1996-2008', 'title': 'developer', 'company': 'Roberts, Wilson and Middleton'}\n",
      "{'location': 'Lake Michael'}\n",
      "{'name': 'Kimerly EDelacruz'}\n",
      "{'name': 'DAVE WEST'}\n",
      "{'name': 'Michael Edxardds'}\n",
      "{'location': 'Russohaven'}\n",
      "{'years': '2004-2019', 'title': 'developer', 'company': 'Garrison-Morton'}\n",
      "{'university': 'UCSC', 'degree': 'Phd', 'year': '2010'}\n",
      "{'location': 'West Anthony'}\n",
      "{'location': 'South Aaron'}\n",
      "{'years': '2003-2004', 'title': 'manager', 'company': 'Jimenez and Sons'}\n",
      "{'name': 'PFNNINGTON'}\n",
      "{'name': 'Zahary Lozano'}\n",
      "{'name': 'Taylor'}\n",
      "{'name': 'Benjamin Mporenno'}\n",
      "{'years': '1995-2004', 'title': 'doctor', 'company': 'Beard-Evans'}\n",
      "{'university': 'UC_Berkley', 'degree': 'Bsc', 'year': '2000'}\n",
      "{'location': 'East L.'}\n",
      "{'name': 'Jessica Kelmly'}\n",
      "{'name': 'Lisa Cunningham'}\n",
      "{'years': '1990-2014', 'title': 'doctor', 'company': 'Ross, Holloway and Rosario'}\n",
      "{'location': 'Jimenezmouth'}\n",
      "{'years': '2008-2009', 'title': 'doctor', 'company': 'Rogers, Brown and Holmes'}\n",
      "{'location': 'West Brittany'}\n",
      "{'name': 'April Ross'}\n",
      "{'location': 'East P.'}\n",
      "{'name': 'Pbatricia Krueger'}\n",
      "{'name': 'Reyes'}\n",
      "{'name': 'Jason'}\n",
      "{'name': 'K. Raymond'}\n",
      "{'location': 'Dicksonburgh'}\n",
      "{'years': '2013-2015', 'title': 'analyst', 'company': 'Collins, Diaz and Wagner'}\n",
      "{'location': 'North Matthewmouth'}\n",
      "{'years': '1994-2008', 'title': 'manager', 'company': 'Reyes-Golden'}\n",
      "{'name': 'Stewart'}\n",
      "{'name': 'F. Tiomas'}\n",
      "{'location': 'DOUGLASMOUTH'}\n",
      "{'years': '2005-2008', 'title': 'analyst', 'company': 'Anderson Group'}\n",
      "{'location': 'North T.'}\n",
      "{'name': 'Joshua D.'}\n",
      "{'years': '2010-2013', 'title': 'manager', 'company': 'Valentine, Novak and Sanchez'}\n",
      "{'university': 'UMass', 'degree': 'Msc', 'year': '2010'}\n",
      "{'name': 'Brewer M.'}\n",
      "{'years': '1992-2012', 'title': 'analyst', 'company': 'Obrien-Jarvis'}\n",
      "{'location': 'Michaelstad'}\n",
      "{'name': 'Roger Luna'}\n",
      "{'name': 'Rebecca  Whefler'}\n",
      "{'location': 'Matthewsmouth'}\n",
      "{'name': 'Courttney Martinez'}\n",
      "{'name': 'Ryan Mcclure'}\n",
      "{'name': 'Lausenn Valfentine'}\n",
      "{'location': 'Ramirezton'}\n",
      "{'years': '2011-2020', 'title': 'manager', 'company': 'Schwartz PLC'}\n",
      "{'location': 'Lake Julie'}\n",
      "{'location': 'Lake Courtney'}\n",
      "{'years': '2012-2019', 'title': 'developer', 'company': 'Collins, Ortega and Perry'}\n",
      "{'location': 'MAXWELLFORT'}\n",
      "{'name': 'SIMMONS'}\n",
      "{'location': 'East Robert'}\n",
      "{'location': 'Murraystad'}\n",
      "{'university': 'MIT', 'degree': 'Phd', 'year': '2019'}\n",
      "{'location': 'ONew Erinstad'}\n",
      "{'location': 'West Allenport'}\n",
      "{'location': 'Port Crystalport'}\n",
      "{'university': 'UMass', 'degree': 'Pid', 'year': '2013'}\n",
      "{'years': '2005-2013', 'title': 'developer', 'company': 'Hughes-Fitzgerald'}\n",
      "{'years': '2004-2018', 'title': 'analyst', 'company': 'Smith, Ferrell and Thompson'}\n",
      "{'location': 'DANIELSBURY'}\n",
      "{'university': 'UCSC', 'degree': 'Bsc', 'year': '1990'}\n",
      "{'location': 'SCOTTTON'}\n",
      "{'university': 'MIT', 'degree': 'Msc', 'year': '2013'}\n",
      "{'university': 'MIT', 'degree': 'Msc', 'year': '1993'}\n",
      "{'university': 'UMass', 'degree': 'Phd', 'year': '2007'}\n",
      "{'years': '1997-2012', 'title': 'developer', 'company': 'Flores LLC'}\n",
      "{'university': 'UCSC', 'degree': 'Bsc', 'year': '2006'}\n",
      "{'location': 'Adkinsmouth'}\n",
      "{'university': 'MIT', 'degree': 'Bsc', 'year': '2017'}\n",
      "{'location': 'Brandonshire'}\n",
      "{'university': 'UCSC', 'degree': 'Bsc', 'year': '1990'}\n",
      "{'university': 'UC_Berkley', 'degree': 'Bsc', 'year': '2003'}\n",
      "{'university': 'UMass', 'degree': 'Phd', 'year': '2008'}\n",
      "{'years': '2015-2017', 'title': 'manager', 'company': 'Smith-Flores'}\n",
      "{'university': 'UCSC', 'degree': 'Bsc', 'year': '2018'}\n",
      "{'location': 'Larryberg'}\n",
      "{'university': 'UC_Berkley', 'degree': 'Bsc', 'year': '2006'}\n",
      "{'location': 'Lake Latoyaland'}\n",
      "{'university': 'MIT', 'degree': 'Phd', 'year': '2018'}\n",
      "{'university': 'MIT', 'degree': 'Bsc', 'year': '1998'}\n",
      "{'university': 'UMass', 'degree': 'Bsc', 'year': '1992'}\n",
      "{'location': 'Amyhaven'}\n",
      "{'university': 'UC_Berkley', 'degree': 'Phd', 'year': '2011'}\n",
      "{'university': 'MIT', 'degree': 'Bsc', 'year': '2017'}\n",
      "{'university': 'UMass', 'degree': 'Phd', 'year': '2008'}\n",
      "{'location': 'ROSSTON'}\n",
      "{'university': 'UC_Berkley', 'degree': 'Msc', 'year': '2010'}\n",
      "{'university': 'UMass', 'degree': 'Bsc', 'year': '2020'}\n",
      "{'university': 'UC_Berkley', 'degree': 'Phd', 'year': '2003'}\n",
      "{'years': '1992-1999', 'title': 'analyst', 'company': 'Rivera LLC'}\n",
      "{'university': 'MIT', 'degree': 'Bsc', 'year': '2003'}\n",
      "{'name': 'Ryan T.'}\n",
      "{'location': 'Paynehaven'}\n",
      "{'university': 'UMass', 'degree': 'Msc', 'year': '2019'}\n",
      "{'location': 'New Melissastad'}\n",
      "{'university': 'UC_Berkley', 'degree': 'Msc', 'year': '1993'}\n",
      "{'years': '1991-1998', 'title': 'manager', 'company': 'Blackburn Group'}\n",
      "{'university': 'UCSC', 'degree': 'Phd', 'year': '2009'}\n",
      "{'name': 'Richarrd Campbell'}\n",
      "{'location': 'C. West'}\n",
      "{'university': 'UC_Berkley', 'degree': 'Msc', 'year': '1996'}\n",
      "{'years': '1990-1999', 'title': 'manager', 'company': 'Larson-Welch'}\n",
      "{'university': 'MIT', 'degree': 'Bsc', 'year': '2002'}\n",
      "{'location': 'JESSICAMOUTH'}\n",
      "{'university': 'UC_Berkley', 'degree': 'Bsc', 'year': '2019'}\n",
      "{'years': '1997-2011', 'title': 'analyst', 'company': 'Smith-Case'}\n",
      "{'university': 'UMass', 'degree': 'Msc', 'year': '2009'}\n",
      "{'location': 'Wendyland'}\n",
      "{'university': 'MIT', 'degree': 'Phd', 'year': '2005'}\n",
      "{'university': 'MIT', 'degree': 'Bsc', 'year': '2019'}\n",
      "{'years': '2006-2016', 'title': 'developer', 'company': 'Pearson LLC'}\n",
      "{'location': 'N. Alexander'}\n",
      "{'university': 'UCSC', 'degree': 'Bsc', 'year': '1996'}\n",
      "{'university': 'UCSC', 'degree': 'Msc', 'year': '2014'}\n",
      "{'university': 'MIT', 'degree': 'Msc', 'year': '1996'}\n",
      "{'years': '1991-2007', 'title': 'doctor', 'company': 'Campbell, Cruz and Walker'}\n",
      "{'university': 'MIT', 'degree': 'Msc', 'year': '2017'}\n",
      "{'location': 'South Chase'}\n",
      "{'university': 'UC_Berkley', 'degree': 'Phd', 'year': '2016'}\n",
      "{'location': 'East Mariah'}\n",
      "{'university': 'MIT', 'degree': 'Bsc', 'year': '1994'}\n",
      "{'university': 'MIT', 'degree': 'Bsc', 'year': '2013'}\n",
      "{'years': '1991-1995', 'title': 'doctor', 'company': 'Sanchez PLC'}\n",
      "{'location': 'CHENTOWN'}\n",
      "{'university': 'UC_Berkley', 'degree': 'Bsc', 'year': '1992'}\n",
      "{'years': '2016-2017', 'title': 'analyst', 'company': 'Alvarez, Horton and Roach'}\n",
      "{'university': 'MIT', 'degree': 'Phd', 'year': '2003'}\n",
      "{'location': 'WILLISTON'}\n",
      "{'university': 'UMass', 'degree': 'Phd', 'year': '1995'}\n",
      "{'years': '1996-2012', 'title': 'doctor', 'company': 'Johns-Montoya'}\n",
      "{'university': 'MIT', 'degree': 'Bsc', 'year': '1999'}\n",
      "{'location': 'Beckyfort L.'}\n",
      "{'location': 'DAVJDTOWN'}\n",
      "{'university': 'UC_Berkley', 'degree': 'Bsc', 'year': '2020'}\n",
      "{'years': '1991-1997', 'title': 'manager', 'company': 'Mendoza LLC'}\n",
      "{'location': 'East Michael'}\n",
      "{'university': 'MIT', 'degree': 'Phd', 'year': '2015'}\n",
      "{'name': 'Meljssb Johnson'}\n",
      "{'years': '1994-2003', 'title': 'manager', 'company': 'Walker Inc'}\n",
      "{'name': 'BRANEY'}\n",
      "{'years': '2004-2018', 'title': 'analyst', 'company': 'Moon, Hamilton and Berry'}\n",
      "{'name': 'Reginald Jaclkson'}\n",
      "{'years': '1999-2012', 'title': 'developer', 'company': 'Atkinson, Nguyyen and Robbins'}\n",
      "{'name': 'Lavura Gonzlez'}\n",
      "{'years': '1999-2009', 'title': 'manager', 'company': 'Williams, Jackson and Castaneda'}\n",
      "{'name': 'Kimberly Cameron'}\n",
      "{'location': 'Aguirreport'}\n",
      "{'years': '2007-2020', 'title': 'doctor', 'company': 'Horn Ltd'}\n",
      "{'name': 'P. J.'}\n",
      "{'years': '2008-2016', 'title': 'developer', 'company': 'Griffin, Davis and Alvarado'}\n",
      "{'name': 'R. T.'}\n",
      "{'university': 'UC_Berkley', 'degree': 'Bsc', 'year': '2014'}\n",
      "{'years': '2000-2009', 'title': 'analyst', 'company': 'Johnson-Robinson'}\n",
      "{'name': 'A. G.'}\n",
      "{'name': 'John Williams'}\n",
      "{'years': '1997-2018', 'title': 'manager', 'company': 'Collins-Alvarado'}\n",
      "{'name': 'GARZA'}\n",
      "{'years': '1999-2017', 'title': 'analyst', 'company': 'Williamson-Jennings'}\n",
      "{'years': '1998-2013', 'title': 'manager', 'company': 'Henderson Ltd'}\n",
      "{'name': 'Angelica Jones'}\n",
      "{'years': '1995-2019', 'title': 'developer', 'company': 'Sullivan-Hammond'}\n",
      "{'name': 'Steven Wood'}\n",
      "{'years': '1993-2003', 'title': 'doctor', 'company': 'Hernandez Inc'}\n",
      "{'name': 'Casey Woods'}\n",
      "{'years': '1997-2007', 'title': 'doctor', 'company': 'Brewer and Sons'}\n",
      "{'name': 'Amanda Ryan'}\n",
      "{'years': '1997-2008', 'title': 'analyst', 'company': 'Hansen Ltd'}\n",
      "{'name': 'Shannon Clark'}\n",
      "{'years': '1995-2017', 'title': 'analyst', 'company': 'Luna-Mcneil'}\n",
      "{'name': 'Robinson'}\n",
      "{'university': 'UMass', 'degree': 'Phd', 'year': '2011'}\n",
      "{'university': 'UCSC', 'degree': 'Phd', 'year': '2012'}\n",
      "{'university': 'UC_Berkley', 'degree': 'Phd', 'year': '1992'}\n",
      "{'university': 'MIT', 'degree': 'Phd', 'year': '2016'}\n",
      "{'university': 'UCSC', 'degree': 'Bsc', 'year': '2015'}\n",
      "{'university': 'UC_Berkley', 'degree': 'Msc', 'year': '2018'}\n",
      "{'years': '1995-1999', 'title': 'analyst', 'company': 'Russell, Hoffman and Wallace'}\n",
      "{'university': 'UC_Berkley', 'degree': 'Bsc', 'year': '1996'}\n",
      "{'years': '1992-2006', 'title': 'doctor', 'company': 'Banks, Reynolds and Goodwin'}\n",
      "{'university': 'UC_Berkley', 'degree': 'Bsc', 'year': '2004'}\n",
      "{'years': '1993-2005', 'title': 'analyst', 'company': 'Simpson, Mendoza and Carlson'}\n",
      "{'years': '1991-2005', 'title': 'developer', 'company': 'Hoover-Gonzalez'}\n",
      "{'years': '1994-2006', 'title': 'doctor', 'company': 'Wol, Hunter and Mays'}\n"
     ]
    }
   ],
   "source": [
    "true_facts = fuse_session.find_true_facts(persist=True, no_weights=False)\n",
    "for f in true_facts:\n",
    "    print(f.canonicalTuple)"
   ]
  },
  {
   "cell_type": "code",
   "execution_count": 9,
   "metadata": {
    "pycharm": {
     "name": "#%%\n"
    }
   },
   "outputs": [
    {
     "name": "stderr",
     "output_type": "stream",
     "text": [
      "INFO:gensim.models.utils_any2vec:loading projection weights from C:/Users/Iasonas/Downloads/GoogleNews-vectors-negative300.bin\n",
      "INFO:gensim.models.utils_any2vec:loaded (3000000, 300) matrix from C:/Users/Iasonas/Downloads/GoogleNews-vectors-negative300.bin\n"
     ]
    },
    {
     "name": "stdout",
     "output_type": "stream",
     "text": [
      "Matched = 194.00, Unmatched true = 6.00, Unmatched inferred = 14.00, Total = 200.00\n",
      "recall= 0.97\n",
      "Precision = 0.93\n",
      "Accuracy = 0.91\n",
      "f1score = 0.95\n",
      "{'recall': 0.97, 'precision': 0.9326923076923077, 'f1score': 0.9509803921568627}\n"
     ]
    }
   ],
   "source": [
    "eval = fuse_session.evaluate(inferred_facts=true_facts,grd_path='../../datasets/current/eval.json')\n",
    "print(eval)"
   ]
  }
 ],
 "metadata": {
  "kernelspec": {
   "display_name": "PyCharm (EntityMatching_Thesis)",
   "language": "python",
   "name": "pycharm-a8ea7e6e"
  },
  "language_info": {
   "codemirror_mode": {
    "name": "ipython",
    "version": 3
   },
   "file_extension": ".py",
   "mimetype": "text/x-python",
   "name": "python",
   "nbconvert_exporter": "python",
   "pygments_lexer": "ipython3",
   "version": "3.8.5"
  }
 },
 "nbformat": 4,
 "nbformat_minor": 2
}
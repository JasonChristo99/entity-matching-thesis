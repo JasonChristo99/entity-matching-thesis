{
 "cells": [
  {
   "cell_type": "code",
   "execution_count": 1,
   "outputs": [
    {
     "name": "stderr",
     "output_type": "stream",
     "text": [
      "C:\\Python38\\lib\\site-packages\\fuzzywuzzy\\fuzz.py:11: UserWarning: Using slow pure-python SequenceMatcher. Install python-Levenshtein to remove this warning\n",
      "  warnings.warn('Using slow pure-python SequenceMatcher. Install python-Levenshtein to remove this warning')\n",
      "C:\\Users\\Iasonas\\AppData\\Roaming\\Python\\Python38\\site-packages\\gensim\\utils.py:1212: UserWarning: detected Windows; aliasing chunkize to chunkize_serial\n",
      "  warnings.warn(\"detected Windows; aliasing chunkize to chunkize_serial\")\n",
      "INFO:summarizer.preprocessing.cleaner:'pattern' package not found; tag filters are not available for English\n",
      "C:\\Python38\\lib\\site-packages\\sklearn\\base.py:310: UserWarning: Trying to unpickle estimator LogisticRegression from version 0.23.2 when using version 0.24.2. This might lead to breaking code or invalid results. Use at your own risk.\n",
      "  warnings.warn(\n",
      "INFO:gensim.models.utils_any2vec:loading projection weights from C:/Users/Iasonas/Downloads/GoogleNews-vectors-negative300.bin\n",
      "INFO:gensim.models.utils_any2vec:loaded (3000000, 300) matrix from C:/Users/Iasonas/Downloads/GoogleNews-vectors-negative300.bin\n",
      "INFO:global:Connection established to database.\n"
     ]
    }
   ],
   "source": [
    "%load_ext autoreload\n",
    "%autoreload 2\n",
    "\n",
    "import os\n",
    "os.chdir('C:/Users/Iasonas/PycharmProjects/EntityMatching_Thesis/DataFusion/tutorials')\n",
    "\n",
    "import fuse\n",
    "fuse_env = fuse.Fuse(verbose=True)\n",
    "fuse_session = fuse_env.get_session('test')\n",
    "\n",
    "MATCHER='DEDUPE'\n",
    "# MATCHER='AHC'"
   ],
   "metadata": {
    "collapsed": false,
    "pycharm": {
     "name": "#%%\n"
    }
   }
  },
  {
   "cell_type": "code",
   "execution_count": 2,
   "outputs": [
    {
     "name": "stderr",
     "output_type": "stream",
     "text": [
      "INFO:dedupe.api:Predicate set:\n",
      "INFO:dedupe.api:Predicate set:\n",
      "INFO:dedupe.api:(TfidfTextCanopyPredicate: (0.6, year), LevenshteinCanopyPredicate: (3, university), LevenshteinCanopyPredicate: (4, university))\n",
      "INFO:dedupe.api:(TfidfNGramCanopyPredicate: (0.2, university), SimplePredicate: (sameFiveCharStartPredicate, degree))\n",
      "INFO:dedupe.api:(SimplePredicate: (commonFourGram, year), SimplePredicate: (sameThreeCharStartPredicate, degree), LevenshteinCanopyPredicate: (4, university))\n",
      "INFO:dedupe.api:(SimplePredicate: (nearIntegersPredicate, year), SimplePredicate: (suffixArray, university))\n",
      "INFO:dedupe.api:Predicate set:\n",
      "INFO:dedupe.api:(LevenshteinCanopyPredicate: (2, company), TfidfNGramCanopyPredicate: (0.4, year), SimplePredicate: (commonSixGram, company))\n",
      "INFO:dedupe.api:(SimplePredicate: (firstIntegerPredicate, year), TfidfTextCanopyPredicate: (0.6, title))\n",
      "INFO:dedupe.api:Predicate set:\n"
     ]
    }
   ],
   "source": [
    "if MATCHER=='DEDUPE':\n",
    "    from matching.dedupe import DedupeMatcher\n",
    "    dataset = fuse_session.ingest('../../datasets/current/observed.json',\n",
    "                                  'fusion_test', matching_strategy=DedupeMatcher)\n",
    "\n",
    "if MATCHER=='AHC':\n",
    "    from matching.ahc_matcher import AgglomerativeHierarchicalClustering\n",
    "    dataset = fuse_session.ingest('../../datasets/current/observed.json',\n",
    "                               'fusion_test', matching_strategy=AgglomerativeHierarchicalClustering)\n"
   ],
   "metadata": {
    "collapsed": false,
    "pycharm": {
     "name": "#%%\n"
    }
   }
  },
  {
   "cell_type": "code",
   "execution_count": 3,
   "metadata": {},
   "outputs": [],
   "source": [
    "fuse_session.train_matchers('../../datasets/current/matched.json')"
   ]
  },
  {
   "cell_type": "code",
   "execution_count": 4,
   "outputs": [],
   "source": [
    "# x=dataset.entity_attribute_matchers['Education'].attribute_to_simrank_matcher['university'].cluster_simrank_buffer\n",
    "# {k: round(v, 3) for k, v in sorted(x.items(), key=lambda item: item[1], reverse=True)}\n",
    "# dataset.entity_attribute_matchers['Education'].attribute_to_simrank_matcher['university'].get_simrank_score_of_tokens('Bsc','undergraduate_degree')\n",
    "# dataset.entity_attribute_matchers['Education'].attribute_to_simrank_matcher['degree'].get_simrank_score_of_tokens('Bsc','undergraduate_degree')\n",
    "# dataset.entity_attribute_matchers['Education'].attribute_to_simrank_matcher['degree'].get_simrank_score_of_tokens('doctorate','doctoral_degree')\n",
    "# dataset.entity_attribute_matchers['Education'].attribute_to_simrank_matcher['degree'].get_simrank_score_of_tokens('doctorate','Bsc')\n",
    "# dataset.entity_attribute_matchers['Education'].attribute_to_simrank_matcher['degree'].get_simrank_score_of_tokens('Msc','Bsc')\n",
    "# x=dataset.entity_attribute_matchers['Working Experience'].attribute_to_simrank_matcher['title'].cluster_simrank_buffer\n",
    "# {k: round(v, 3) for k, v in sorted(x.items(), key=lambda item: item[1], reverse=True)}\n",
    "# dataset.entity_attribute_matchers['Working Experience'].attribute_to_simrank_matcher['title'].get_simrank_score_of_tokens('manager','developer')\n",
    "# dataset.entity_attribute_matchers['Working Experience'].attribute_to_simrank_matcher['title'].get_simrank_score_of_tokens('coder','developer')\n",
    "# dataset.entity_attribute_matchers['Working Experience'].attribute_to_simrank_matcher['title'].get_simrank_score_of_tokens('analyst','developer')\n",
    "# dataset.entity_attribute_matchers['Working Experience'].attribute_to_simrank_matcher['title'].get_simrank_score_of_tokens('analyst','manager')\n",
    "# dataset.entity_attribute_matchers['Working Experience'].attribute_to_simrank_matcher['title'].get_simrank_score_of_tokens('doctor','manager')\n",
    "# dataset.entity_attribute_matchers['Working Experience'].attribute_to_simrank_matcher['title'].get_simrank_score_of_tokens('clinician','doctor')"
   ],
   "metadata": {
    "collapsed": false,
    "pycharm": {
     "name": "#%%\n"
    }
   }
  },
  {
   "cell_type": "code",
   "execution_count": 5,
   "metadata": {
    "pycharm": {
     "name": "#%%\n"
    }
   },
   "outputs": [],
   "source": [
    "fuse_session.match_observations()"
   ]
  },
  {
   "cell_type": "code",
   "execution_count": 6,
   "metadata": {},
   "outputs": [
    {
     "name": "stderr",
     "output_type": "stream",
     "text": [
      "INFO:global:Running truth discovery for 10 iterations.\n",
      "INFO:global:Iteration = 0\n",
      "INFO:global:Source weights = {'Name': {'find.jobs': 1.0, 'pro-profiles.com': 1.0, 'internsteps.com': 1.0, 'pipl.com': 1.0}, 'Education': {'find.jobs': 1.0, 'pro-profiles.com': 1.0, 'internsteps.com': 1.0, 'pipl.com': 1.0}, 'Working Experience': {'find.jobs': 1.0, 'pro-profiles.com': 1.0, 'internsteps.com': 1.0, 'pipl.com': 1.0}, 'Location': {'find.jobs': 1.0, 'pro-profiles.com': 1.0, 'internsteps.com': 1.0, 'pipl.com': 1.0}}\n",
      "INFO:global:Iteration = 1\n",
      "INFO:global:Source weights = {'Name': {'find.jobs': 4.595119850134589, 'pro-profiles.com': 4.595119850134589, 'internsteps.com': 4.595119850134589, 'pipl.com': 4.595119850134589}, 'Education': {'find.jobs': 1.452985735618563, 'pro-profiles.com': 0.7525706010307461, 'internsteps.com': 0.9718605830289656, 'pipl.com': 1.4109869737102623}, 'Working Experience': {'find.jobs': 4.595119850134589, 'pro-profiles.com': 4.595119850134589, 'internsteps.com': 4.595119850134589, 'pipl.com': 4.595119850134589}, 'Location': {'find.jobs': 4.595119850134589, 'pro-profiles.com': 4.595119850134589, 'internsteps.com': 4.595119850134589, 'pipl.com': 4.595119850134589}}\n",
      "INFO:global:Iteration = 2\n",
      "INFO:global:Source weights = {'Name': {'find.jobs': 4.595119850134589, 'pro-profiles.com': 4.595119850134589, 'internsteps.com': 4.595119850134589, 'pipl.com': 4.595119850134589}, 'Education': {'find.jobs': 1.8382794848629482, 'pro-profiles.com': 0.5212969236332861, 'internsteps.com': 0.7827593392496325, 'pipl.com': 1.6817585740137264}, 'Working Experience': {'find.jobs': 4.595119850134589, 'pro-profiles.com': 4.595119850134589, 'internsteps.com': 4.595119850134589, 'pipl.com': 4.595119850134589}, 'Location': {'find.jobs': 4.595119850134589, 'pro-profiles.com': 4.595119850134589, 'internsteps.com': 4.595119850134589, 'pipl.com': 4.595119850134589}}\n",
      "INFO:global:Iteration = 3\n",
      "INFO:global:Source weights = {'Name': {'find.jobs': 4.595119850134589, 'pro-profiles.com': 4.595119850134589, 'internsteps.com': 4.595119850134589, 'pipl.com': 4.595119850134589}, 'Education': {'find.jobs': 1.8382794848629482, 'pro-profiles.com': 0.5212969236332861, 'internsteps.com': 0.7827593392496325, 'pipl.com': 1.6817585740137264}, 'Working Experience': {'find.jobs': 4.595119850134589, 'pro-profiles.com': 4.595119850134589, 'internsteps.com': 4.595119850134589, 'pipl.com': 4.595119850134589}, 'Location': {'find.jobs': 4.595119850134589, 'pro-profiles.com': 4.595119850134589, 'internsteps.com': 4.595119850134589, 'pipl.com': 4.595119850134589}}\n",
      "INFO:global:Iteration = 4\n",
      "INFO:global:Source weights = {'Name': {'find.jobs': 4.595119850134589, 'pro-profiles.com': 4.595119850134589, 'internsteps.com': 4.595119850134589, 'pipl.com': 4.595119850134589}, 'Education': {'find.jobs': 1.8382794848629482, 'pro-profiles.com': 0.5212969236332861, 'internsteps.com': 0.7827593392496325, 'pipl.com': 1.6817585740137264}, 'Working Experience': {'find.jobs': 4.595119850134589, 'pro-profiles.com': 4.595119850134589, 'internsteps.com': 4.595119850134589, 'pipl.com': 4.595119850134589}, 'Location': {'find.jobs': 4.595119850134589, 'pro-profiles.com': 4.595119850134589, 'internsteps.com': 4.595119850134589, 'pipl.com': 4.595119850134589}}\n",
      "INFO:global:Iteration = 5\n",
      "INFO:global:Source weights = {'Name': {'find.jobs': 4.595119850134589, 'pro-profiles.com': 4.595119850134589, 'internsteps.com': 4.595119850134589, 'pipl.com': 4.595119850134589}, 'Education': {'find.jobs': 1.8382794848629482, 'pro-profiles.com': 0.5212969236332861, 'internsteps.com': 0.7827593392496325, 'pipl.com': 1.6817585740137264}, 'Working Experience': {'find.jobs': 4.595119850134589, 'pro-profiles.com': 4.595119850134589, 'internsteps.com': 4.595119850134589, 'pipl.com': 4.595119850134589}, 'Location': {'find.jobs': 4.595119850134589, 'pro-profiles.com': 4.595119850134589, 'internsteps.com': 4.595119850134589, 'pipl.com': 4.595119850134589}}\n",
      "INFO:global:Iteration = 6\n",
      "INFO:global:Source weights = {'Name': {'find.jobs': 4.595119850134589, 'pro-profiles.com': 4.595119850134589, 'internsteps.com': 4.595119850134589, 'pipl.com': 4.595119850134589}, 'Education': {'find.jobs': 1.8382794848629482, 'pro-profiles.com': 0.5212969236332861, 'internsteps.com': 0.7827593392496325, 'pipl.com': 1.6817585740137264}, 'Working Experience': {'find.jobs': 4.595119850134589, 'pro-profiles.com': 4.595119850134589, 'internsteps.com': 4.595119850134589, 'pipl.com': 4.595119850134589}, 'Location': {'find.jobs': 4.595119850134589, 'pro-profiles.com': 4.595119850134589, 'internsteps.com': 4.595119850134589, 'pipl.com': 4.595119850134589}}\n",
      "INFO:global:Iteration = 7\n",
      "INFO:global:Source weights = {'Name': {'find.jobs': 4.595119850134589, 'pro-profiles.com': 4.595119850134589, 'internsteps.com': 4.595119850134589, 'pipl.com': 4.595119850134589}, 'Education': {'find.jobs': 1.8382794848629482, 'pro-profiles.com': 0.5212969236332861, 'internsteps.com': 0.7827593392496325, 'pipl.com': 1.6817585740137264}, 'Working Experience': {'find.jobs': 4.595119850134589, 'pro-profiles.com': 4.595119850134589, 'internsteps.com': 4.595119850134589, 'pipl.com': 4.595119850134589}, 'Location': {'find.jobs': 4.595119850134589, 'pro-profiles.com': 4.595119850134589, 'internsteps.com': 4.595119850134589, 'pipl.com': 4.595119850134589}}\n",
      "INFO:global:Iteration = 8\n",
      "INFO:global:Source weights = {'Name': {'find.jobs': 4.595119850134589, 'pro-profiles.com': 4.595119850134589, 'internsteps.com': 4.595119850134589, 'pipl.com': 4.595119850134589}, 'Education': {'find.jobs': 1.8382794848629482, 'pro-profiles.com': 0.5212969236332861, 'internsteps.com': 0.7827593392496325, 'pipl.com': 1.6817585740137264}, 'Working Experience': {'find.jobs': 4.595119850134589, 'pro-profiles.com': 4.595119850134589, 'internsteps.com': 4.595119850134589, 'pipl.com': 4.595119850134589}, 'Location': {'find.jobs': 4.595119850134589, 'pro-profiles.com': 4.595119850134589, 'internsteps.com': 4.595119850134589, 'pipl.com': 4.595119850134589}}\n",
      "INFO:global:Iteration = 9\n",
      "INFO:global:Source weights = {'Name': {'find.jobs': 4.595119850134589, 'pro-profiles.com': 4.595119850134589, 'internsteps.com': 4.595119850134589, 'pipl.com': 4.595119850134589}, 'Education': {'find.jobs': 1.8382794848629482, 'pro-profiles.com': 0.5212969236332861, 'internsteps.com': 0.7827593392496325, 'pipl.com': 1.6817585740137264}, 'Working Experience': {'find.jobs': 4.595119850134589, 'pro-profiles.com': 4.595119850134589, 'internsteps.com': 4.595119850134589, 'pipl.com': 4.595119850134589}, 'Location': {'find.jobs': 4.595119850134589, 'pro-profiles.com': 4.595119850134589, 'internsteps.com': 4.595119850134589, 'pipl.com': 4.595119850134589}}\n"
     ]
    }
   ],
   "source": [
    "tr_clusters = fuse_session.find_true_clusters()\n"
   ]
  },
  {
   "cell_type": "code",
   "execution_count": 7,
   "outputs": [
    {
     "name": "stderr",
     "output_type": "stream",
     "text": [
      "INFO:global:Running fusion for 10 iterations.\n",
      "INFO:global:Iteration = 0\n",
      "INFO:global:Source weights = {'Name': {'find.jobs': 1.0, 'pro-profiles.com': 1.0, 'internsteps.com': 1.0, 'pipl.com': 1.0}, 'Education': {'find.jobs': 1.0, 'pro-profiles.com': 1.0, 'internsteps.com': 1.0, 'pipl.com': 1.0}, 'Working Experience': {'find.jobs': 1.0, 'pro-profiles.com': 1.0, 'internsteps.com': 1.0, 'pipl.com': 1.0}, 'Location': {'find.jobs': 1.0, 'pro-profiles.com': 1.0, 'internsteps.com': 1.0, 'pipl.com': 1.0}}\n",
      "INFO:global:Iteration = 1\n",
      "INFO:global:Source weights = {'Name': {'find.jobs': 4.595119850134589, 'pro-profiles.com': 4.595119850134589, 'internsteps.com': 4.595119850134589, 'pipl.com': 4.595119850134589}, 'Education': {'find.jobs': 4.595119850134589, 'pro-profiles.com': 4.595119850134589, 'internsteps.com': 4.595119850134589, 'pipl.com': 4.595119850134589}, 'Working Experience': {'find.jobs': 5.2832037287380045, 'pro-profiles.com': 5.4116460518550085, 'internsteps.com': 4.595119850134589, 'pipl.com': 4.595119850134589}, 'Location': {'find.jobs': 3.8918202981106256, 'pro-profiles.com': 4.595119850134589, 'internsteps.com': 4.595119850134589, 'pipl.com': 4.595119850134589}}\n",
      "INFO:global:Iteration = 2\n",
      "INFO:global:Source weights = {'Name': {'find.jobs': 4.595119850134589, 'pro-profiles.com': 4.595119850134589, 'internsteps.com': 4.595119850134589, 'pipl.com': 4.595119850134589}, 'Education': {'find.jobs': 4.595119850134589, 'pro-profiles.com': 4.595119850134589, 'internsteps.com': 4.595119850134589, 'pipl.com': 4.595119850134589}, 'Working Experience': {'find.jobs': 5.2832037287380045, 'pro-profiles.com': 5.4116460518550085, 'internsteps.com': 4.595119850134589, 'pipl.com': 4.595119850134589}, 'Location': {'find.jobs': 3.8918202981106256, 'pro-profiles.com': 4.595119850134589, 'internsteps.com': 4.595119850134589, 'pipl.com': 4.595119850134589}}\n",
      "INFO:global:Iteration = 3\n",
      "INFO:global:Source weights = {'Name': {'find.jobs': 4.595119850134589, 'pro-profiles.com': 4.595119850134589, 'internsteps.com': 4.595119850134589, 'pipl.com': 4.595119850134589}, 'Education': {'find.jobs': 4.595119850134589, 'pro-profiles.com': 4.595119850134589, 'internsteps.com': 4.595119850134589, 'pipl.com': 4.595119850134589}, 'Working Experience': {'find.jobs': 5.2832037287380045, 'pro-profiles.com': 5.4116460518550085, 'internsteps.com': 4.595119850134589, 'pipl.com': 4.595119850134589}, 'Location': {'find.jobs': 3.8918202981106256, 'pro-profiles.com': 4.595119850134589, 'internsteps.com': 4.595119850134589, 'pipl.com': 4.595119850134589}}\n",
      "INFO:global:Iteration = 4\n",
      "INFO:global:Source weights = {'Name': {'find.jobs': 4.595119850134589, 'pro-profiles.com': 4.595119850134589, 'internsteps.com': 4.595119850134589, 'pipl.com': 4.595119850134589}, 'Education': {'find.jobs': 4.595119850134589, 'pro-profiles.com': 4.595119850134589, 'internsteps.com': 4.595119850134589, 'pipl.com': 4.595119850134589}, 'Working Experience': {'find.jobs': 5.2832037287380045, 'pro-profiles.com': 5.4116460518550085, 'internsteps.com': 4.595119850134589, 'pipl.com': 4.595119850134589}, 'Location': {'find.jobs': 3.8918202981106256, 'pro-profiles.com': 4.595119850134589, 'internsteps.com': 4.595119850134589, 'pipl.com': 4.595119850134589}}\n",
      "INFO:global:Iteration = 5\n",
      "INFO:global:Source weights = {'Name': {'find.jobs': 4.595119850134589, 'pro-profiles.com': 4.595119850134589, 'internsteps.com': 4.595119850134589, 'pipl.com': 4.595119850134589}, 'Education': {'find.jobs': 4.595119850134589, 'pro-profiles.com': 4.595119850134589, 'internsteps.com': 4.595119850134589, 'pipl.com': 4.595119850134589}, 'Working Experience': {'find.jobs': 5.2832037287380045, 'pro-profiles.com': 5.4116460518550085, 'internsteps.com': 4.595119850134589, 'pipl.com': 4.595119850134589}, 'Location': {'find.jobs': 3.8918202981106256, 'pro-profiles.com': 4.595119850134589, 'internsteps.com': 4.595119850134589, 'pipl.com': 4.595119850134589}}\n",
      "INFO:global:Iteration = 6\n",
      "INFO:global:Source weights = {'Name': {'find.jobs': 4.595119850134589, 'pro-profiles.com': 4.595119850134589, 'internsteps.com': 4.595119850134589, 'pipl.com': 4.595119850134589}, 'Education': {'find.jobs': 4.595119850134589, 'pro-profiles.com': 4.595119850134589, 'internsteps.com': 4.595119850134589, 'pipl.com': 4.595119850134589}, 'Working Experience': {'find.jobs': 5.2832037287380045, 'pro-profiles.com': 5.4116460518550085, 'internsteps.com': 4.595119850134589, 'pipl.com': 4.595119850134589}, 'Location': {'find.jobs': 3.8918202981106256, 'pro-profiles.com': 4.595119850134589, 'internsteps.com': 4.595119850134589, 'pipl.com': 4.595119850134589}}\n",
      "INFO:global:Iteration = 7\n",
      "INFO:global:Source weights = {'Name': {'find.jobs': 4.595119850134589, 'pro-profiles.com': 4.595119850134589, 'internsteps.com': 4.595119850134589, 'pipl.com': 4.595119850134589}, 'Education': {'find.jobs': 4.595119850134589, 'pro-profiles.com': 4.595119850134589, 'internsteps.com': 4.595119850134589, 'pipl.com': 4.595119850134589}, 'Working Experience': {'find.jobs': 5.2832037287380045, 'pro-profiles.com': 5.4116460518550085, 'internsteps.com': 4.595119850134589, 'pipl.com': 4.595119850134589}, 'Location': {'find.jobs': 3.8918202981106256, 'pro-profiles.com': 4.595119850134589, 'internsteps.com': 4.595119850134589, 'pipl.com': 4.595119850134589}}\n",
      "INFO:global:Iteration = 8\n",
      "INFO:global:Source weights = {'Name': {'find.jobs': 4.595119850134589, 'pro-profiles.com': 4.595119850134589, 'internsteps.com': 4.595119850134589, 'pipl.com': 4.595119850134589}, 'Education': {'find.jobs': 4.595119850134589, 'pro-profiles.com': 4.595119850134589, 'internsteps.com': 4.595119850134589, 'pipl.com': 4.595119850134589}, 'Working Experience': {'find.jobs': 5.2832037287380045, 'pro-profiles.com': 5.4116460518550085, 'internsteps.com': 4.595119850134589, 'pipl.com': 4.595119850134589}, 'Location': {'find.jobs': 3.8918202981106256, 'pro-profiles.com': 4.595119850134589, 'internsteps.com': 4.595119850134589, 'pipl.com': 4.595119850134589}}\n",
      "INFO:global:Iteration = 9\n",
      "INFO:global:Source weights = {'Name': {'find.jobs': 4.595119850134589, 'pro-profiles.com': 4.595119850134589, 'internsteps.com': 4.595119850134589, 'pipl.com': 4.595119850134589}, 'Education': {'find.jobs': 4.595119850134589, 'pro-profiles.com': 4.595119850134589, 'internsteps.com': 4.595119850134589, 'pipl.com': 4.595119850134589}, 'Working Experience': {'find.jobs': 5.2832037287380045, 'pro-profiles.com': 5.4116460518550085, 'internsteps.com': 4.595119850134589, 'pipl.com': 4.595119850134589}, 'Location': {'find.jobs': 3.8918202981106256, 'pro-profiles.com': 4.595119850134589, 'internsteps.com': 4.595119850134589, 'pipl.com': 4.595119850134589}}\n"
     ]
    }
   ],
   "source": [
    "true_facts = fuse_session.find_true_facts(persist=True, no_weights=False)"
   ],
   "metadata": {
    "collapsed": false,
    "pycharm": {
     "name": "#%%\n"
    }
   }
  },
  {
   "cell_type": "code",
   "execution_count": 8,
   "metadata": {
    "pycharm": {
     "name": "#%%\n"
    }
   },
   "outputs": [
    {
     "name": "stdout",
     "output_type": "stream",
     "text": [
      "0 Location {'location': 'East P.'}\n",
      "0 Name {'name': 'Mfelissa Johnson'}\n",
      "0 Working Experience {'years': '1992-2006', 'company': 'Banks, Reynolds and Goodwin', 'title': 'doctor'}\n",
      "1 Education {'year': '2017', 'degree': 'Bsc', 'university': 'MIT'}\n",
      "1 Location {'location': 'Aguirreport'}\n",
      "1 Name {'name': 'ALLEN BRANDY'}\n",
      "1 Working Experience {'years': '1991-2005', 'company': 'Hoover-Gonzalez', 'title': 'developer'}\n",
      "2 Education {'year': '2003', 'degree': 'Bsc', 'university': 'UC_Berkley'}\n",
      "2 Location {'location': 'Matthewsmouth'}\n",
      "2 Name {'name': 'REGINALD'}\n",
      "2 Working Experience {'years': '1993-2005', 'company': 'Simpson, Mendoza and Carlson', 'title': 'analyst'}\n",
      "3 Education {'year': '2000', 'degree': 'Bsc', 'university': 'UC_Berkley'}\n",
      "3 Education {'year': '1993', 'degree': 'Msc', 'university': 'MIT'}\n",
      "3 Location {'location': 'Dicksonburgh'}\n",
      "3 Name {'name': 'Lavura Gonzlez'}\n",
      "3 Working Experience {'years': '2006-2016', 'company': 'Pearson LLC', 'title': 'developer'}\n",
      "4 Education {'year': '2020', 'degree': 'Bsc', 'university': 'UMass'}\n",
      "4 Location {'location': 'Jimenezmouth'}\n",
      "4 Name {'name': 'Kimberly Cameron'}\n",
      "4 Working Experience {'years': '1991-1995', 'company': 'Sanchez PLC', 'title': 'doctor'}\n",
      "5 Location {'location': 'Josephview'}\n",
      "5 Name {'name': 'Joseph PPerez'}\n",
      "5 Working Experience {'years': '1991-1998', 'company': 'Blackburn Group', 'title': 'manager'}\n",
      "6 Education {'year': '2011', 'degree': 'Phd', 'university': 'UMass'}\n",
      "6 Location {'location': 'West Brittany'}\n",
      "6 Name {'name': 'R. T.'}\n",
      "6 Working Experience {'years': '1999-2017', 'company': 'Williamson-Jennings', 'title': 'analyst'}\n",
      "7 Education {'year': '2013', 'degree': 'Phd', 'university': 'UMass'}\n",
      "7 Location {'location': 'DOUGLASMOUTH'}\n",
      "7 Name {'name': 'John Williams'}\n",
      "7 Working Experience {'years': '1994-2008', 'company': 'Reyes-Golden', 'title': 'manager'}\n",
      "8 Education {'year': '2014', 'degree': 'Msc', 'university': 'UCSC'}\n",
      "8 Location {'location': 'South Aaron'}\n",
      "8 Name {'name': 'KATIE'}\n",
      "8 Working Experience {'years': '2011-2020', 'company': 'Schwartz PLC', 'title': 'manager'}\n",
      "9 Education {'year': '2014', 'degree': 'Bsc', 'university': 'UC_Berkley'}\n",
      "9 Education {'year': '2010', 'degree': 'Msc', 'university': 'UMass'}\n",
      "9 Location {'location': 'East L.'}\n",
      "9 Name {'name': 'Angelica Jones'}\n",
      "9 Working Experience {'years': '1992-1999', 'company': 'Rivera LLC', 'title': 'analyst'}\n",
      "10 Education {'year': '2019', 'degree': 'Phd', 'university': 'MIT'}\n",
      "10 Location {'location': 'GARCIAVILLE'}\n",
      "10 Name {'name': 'Steven Wood'}\n",
      "10 Working Experience {'years': '1995-2004', 'company': 'Beard-Evans', 'title': 'doctor'}\n",
      "11 Education {'year': '2015', 'degree': 'Phd', 'university': 'MIT'}\n",
      "11 Location {'location': 'New Meganberg'}\n",
      "11 Name {'name': 'Casey Woods'}\n",
      "11 Working Experience {'years': '2005-2013', 'company': 'Hughes-Fitzgerald', 'title': 'developer'}\n",
      "12 Education {'year': '2019', 'degree': 'Bsc', 'university': 'MIT'}\n",
      "12 Location {'location': 'North Mark'}\n",
      "12 Name {'name': 'Amanda Ryan'}\n",
      "12 Working Experience {'years': '1993-1996', 'company': 'Martinez-Duran', 'title': 'manager'}\n",
      "13 Education {'year': '1998', 'degree': 'Bsc', 'university': 'MIT'}\n",
      "13 Education {'year': '2013', 'degree': 'Bsc', 'university': 'MIT'}\n",
      "13 Education {'year': '2020', 'degree': 'Bsc', 'university': 'UC_Berkley'}\n",
      "13 Location {'location': 'Michaelstad'}\n",
      "13 Name {'name': 'Shannon Clark'}\n",
      "13 Working Experience {'years': '1991-2016', 'company': 'Flores LLC', 'title': 'analyst'}\n",
      "14 Education {'year': '2005', 'degree': 'Phd', 'university': 'MIT'}\n",
      "14 Education {'year': '2010', 'degree': 'Phd', 'university': 'UCSC'}\n",
      "14 Location {'location': 'MAXWELLFORT'}\n",
      "14 Name {'name': 'Crystal Rocinson'}\n",
      "14 Working Experience {'years': '2012-2019', 'company': 'Collins, Ortega and Perry', 'title': 'developer'}\n",
      "15 Education {'year': '2016', 'degree': 'Phd', 'university': 'MIT'}\n",
      "15 Location {'location': 'Ramirezton'}\n",
      "15 Name {'name': 'S. Juan'}\n",
      "15 Working Experience {'years': '1996-2012', 'company': 'Johns-Montoya', 'title': 'doctor'}\n",
      "16 Education {'year': '2009', 'degree': 'Phd', 'university': 'UCSC'}\n",
      "16 Location {'location': 'Brownton'}\n",
      "16 Name {'name': 'Aliicia Reyes'}\n",
      "16 Working Experience {'years': '2008-2009', 'company': 'Rogers, Brown and Holmes', 'title': 'doctor'}\n",
      "17 Education {'year': '2013', 'degree': 'Msc', 'university': 'MIT'}\n",
      "17 Location {'location': 'Lake Julie'}\n",
      "17 Name {'name': 'K. J.'}\n",
      "17 Working Experience {'years': '1991-1997', 'company': 'Mendoza LLC', 'title': 'manager'}\n",
      "18 Education {'year': '1999', 'degree': 'Bsc', 'university': 'MIT'}\n",
      "18 Location {'location': 'Lake Courtney'}\n",
      "18 Name {'name': 'Andrew Knapp'}\n",
      "18 Working Experience {'years': '1990-1999', 'company': 'Larson-Welch', 'title': 'manager'}\n",
      "19 Education {'year': '2018', 'degree': 'Bsc', 'university': 'UCSC'}\n",
      "19 Location {'location': 'North M.'}\n",
      "19 Name {'name': 'Ryan Tuurner'}\n",
      "19 Working Experience {'years': '2016-2017', 'company': 'Alvarez, Horton and Roach', 'title': 'analyst'}\n",
      "20 Education {'year': '2018', 'degree': 'Msc', 'university': 'UC_Berkley'}\n",
      "20 Location {'location': 'E. Port'}\n",
      "20 Name {'name': 'Richarrd Campbell'}\n",
      "20 Working Experience {'years': '2015-2017', 'company': 'Smith-Flores', 'title': 'manager'}\n",
      "21 Education {'year': '2003', 'degree': 'Phd', 'university': 'MIT'}\n",
      "21 Location {'location': 'Christinaberg'}\n",
      "21 Name {'name': 'Anthpony iaz'}\n",
      "21 Working Experience {'years': '2004-2018', 'company': 'Moon, Hamilton and Berry', 'title': 'analyst'}\n",
      "22 Education {'year': '2007', 'degree': 'Phd', 'university': 'UMass'}\n",
      "22 Education {'year': '2003', 'degree': 'Bsc', 'university': 'MIT'}\n",
      "22 Education {'year': '1994', 'degree': 'Bsc', 'university': 'MIT'}\n",
      "22 Education {'year': '2006', 'degree': 'Bsc', 'university': 'UC_Berkley'}\n",
      "22 Location {'location': 'West Anthony'}\n",
      "22 Name {'name': 'A. G.'}\n",
      "22 Working Experience {'years': '1999-2012', 'company': 'Atkinson, Nguyyen and Robbins', 'title': 'developer'}\n",
      "23 Education {'year': '2012', 'degree': 'Phd', 'university': 'UCSC'}\n",
      "23 Location {'location': 'Lake Michael'}\n",
      "23 Name {'name': 'E. Michael'}\n",
      "23 Working Experience {'years': '2007-2020', 'company': 'Horn Ltd', 'title': 'doctor'}\n",
      "24 Education {'year': '2002', 'degree': 'Bsc', 'university': 'MIT'}\n",
      "24 Education {'year': '2009', 'degree': 'Msc', 'university': 'UMass'}\n",
      "24 Education {'year': '1992', 'degree': 'Bsc', 'university': 'UC_Berkley'}\n",
      "24 Location {'location': 'East Robert'}\n",
      "24 Name {'name': 'MATHIS'}\n",
      "24 Working Experience {'years': '1999-2009', 'company': 'Williams, Jackson and Castaneda', 'title': 'manager'}\n",
      "25 Education {'year': '1990', 'degree': 'Bsc', 'university': 'UCSC'}\n",
      "25 Location {'location': 'Murraystad'}\n",
      "25 Name {'name': 'Lausenn Valfentine'}\n",
      "25 Working Experience {'years': '1994-2003', 'company': 'Walker Inc', 'title': 'manager'}\n",
      "26 Education {'year': '1992', 'degree': 'Bsc', 'university': 'UMass'}\n",
      "26 Location {'location': 'Erinstad N.'}\n",
      "26 Name {'name': 'Stewart'}\n",
      "26 Working Experience {'years': '1995-2009', 'company': 'Johnson-Robinson', 'title': 'analyst'}\n",
      "27 Education {'year': '2017', 'degree': 'Msc', 'university': 'MIT'}\n",
      "27 Location {'location': 'West Allenport'}\n",
      "27 Name {'name': 'BENJAMINN'}\n",
      "27 Working Experience {'years': '1998-2013', 'company': 'Henderson Ltd', 'title': 'manager'}\n",
      "28 Location {'location': 'Port Crystalport'}\n",
      "28 Name {'name': 'Lauren Pennington'}\n",
      "28 Working Experience {'years': '1991-2007', 'company': 'Campbell, Cruz and Walker', 'title': 'doctor'}\n",
      "29 Education {'year': '1996', 'degree': 'Bsc', 'university': 'UC_Berkley'}\n",
      "29 Location {'location': 'DANIELSBURY'}\n",
      "29 Name {'name': 'Brewer M.'}\n",
      "29 Working Experience {'years': '1993-2003', 'company': 'Hernandez Inc', 'title': 'doctor'}\n",
      "30 Education {'year': '2010', 'degree': 'Msc', 'university': 'UC_Berkley'}\n",
      "30 Location {'location': 'SCOTTTON'}\n",
      "30 Name {'name': 'Christopher Logan'}\n",
      "30 Working Experience {'years': '1997-2007', 'company': 'Brewer and Sons', 'title': 'doctor'}\n",
      "31 Education {'year': '1993', 'degree': 'Msc', 'university': 'UC_Berkley'}\n",
      "31 Location {'location': 'Adkinsmouth'}\n",
      "31 Name {'name': 'LUA ROGER'}\n",
      "31 Working Experience {'years': '1999-2014', 'company': 'Hansen Ltd', 'title': 'doctor'}\n",
      "32 Location {'location': 'Brandonshire'}\n",
      "32 Name {'name': 'KIM'}\n",
      "32 Working Experience {'years': '1995-2017', 'company': 'Luna-Mcneil', 'title': 'analyst'}\n",
      "33 Education {'year': '2018', 'degree': 'Phd', 'university': 'MIT'}\n",
      "33 Location {'location': 'Larryberg'}\n",
      "33 Name {'name': 'JASON'}\n",
      "33 Working Experience {'years': '1997-2018', 'company': 'Collins-Alvarado', 'title': 'manager'}\n",
      "34 Education {'year': '1996', 'degree': 'Bsc', 'university': 'UCSC'}\n",
      "34 Location {'location': 'Lake Latoyaland'}\n",
      "34 Name {'name': 'Lisa Cunningham'}\n",
      "34 Working Experience {'years': '1995-2019', 'company': 'Sullivan-Hammond', 'title': 'developer'}\n",
      "35 Education {'year': '2004', 'degree': 'Bsc', 'university': 'UC_Berkley'}\n",
      "35 Location {'location': 'North Jacqueline'}\n",
      "35 Name {'name': 'Jaton Smith'}\n",
      "35 Working Experience {'years': '1997-2011', 'company': 'Smith-Case', 'title': 'analyst'}\n",
      "36 Education {'year': '2008', 'degree': 'Phd', 'university': 'UMass'}\n",
      "36 Location {'location': 'Rosston'}\n",
      "36 Name {'name': 'Courtnney Marrtinez'}\n",
      "36 Working Experience {'years': '2008-2016', 'company': 'Griffin, Davis and Alvarado', 'title': 'developer'}\n",
      "37 Education {'year': '2006', 'degree': 'Bsc', 'university': 'UCSC'}\n",
      "37 Location {'location': 'Paynehaven'}\n",
      "37 Name {'name': 'WHEELER REBECCA'}\n",
      "37 Working Experience {'years': '1992-2012', 'company': 'Obrien-Jarvis', 'title': 'analyst'}\n",
      "38 Education {'year': '1997', 'degree': 'Phd', 'university': 'MIT'}\n",
      "38 Location {'location': 'New Melissastad'}\n",
      "38 Name {'name': 'Joshua'}\n",
      "38 Working Experience {'years': '1994-2006', 'company': 'Wol, Hunter and Mays', 'title': 'doctor'}\n",
      "39 Education {'year': '2019', 'degree': 'Msc', 'university': 'UMass'}\n",
      "39 Location {'location': 'C. West'}\n",
      "39 Name {'name': 'Pbatricia Krueger'}\n",
      "39 Working Experience {'years': '1995-1999', 'company': 'Russell, Hoffman and Wallace', 'title': 'analyst'}\n",
      "40 Education {'year': '1995', 'degree': 'Phd', 'university': 'UMass'}\n",
      "40 Location {'location': 'JESSICAMOUTH'}\n",
      "40 Name {'name': 'Thomas Frbancis'}\n",
      "40 Working Experience {'years': '2004-2018', 'company': 'Smith, Ferrell and Thompson', 'title': 'analyst'}\n",
      "41 Education {'year': '2008', 'degree': 'Phd', 'university': 'UMass'}\n",
      "41 Education {'year': '2017', 'degree': 'Bsc', 'university': 'MIT'}\n",
      "41 Education {'year': '2003', 'degree': 'Phd', 'university': 'UC_Berkley'}\n",
      "41 Location {'location': 'MORRISMOUTH'}\n",
      "41 Name {'name': 'Richard Jordan'}\n",
      "41 Working Experience {'years': '2003-2004', 'company': 'Jimenez and Sons', 'title': 'manager'}\n",
      "42 Location {'location': 'Ciristopher W.'}\n",
      "42 Name {'name': 'Taylor Grfer'}\n",
      "42 Working Experience {'years': '2004-2019', 'company': 'Garrison-Morton', 'title': 'developer'}\n",
      "43 Education {'year': '2011', 'degree': 'Phd', 'university': 'UC_Berkley'}\n",
      "43 Location {'location': 'South Chase'}\n",
      "43 Name {'name': 'Ryan Mcclure'}\n",
      "43 Working Experience {'years': '1990-2014', 'company': 'Ross, Holloway and Rosario', 'title': 'doctor'}\n",
      "44 Education {'year': '2016', 'degree': 'Phd', 'university': 'UC_Berkley'}\n",
      "44 Location {'location': 'East Mariah'}\n",
      "44 Name {'name': 'April Ross'}\n",
      "44 Working Experience {'years': '1996-2008', 'company': 'Roberts, Wilson and Middleton', 'title': 'developer'}\n",
      "45 Education {'year': '2019', 'degree': 'Bsc', 'university': 'UC_Berkley'}\n",
      "45 Location {'location': 'Chentown'}\n",
      "45 Name {'name': 'ZACHARY'}\n",
      "45 Working Experience {'years': '2018-2020', 'company': 'Powers and Sons', 'title': 'developer'}\n",
      "46 Education {'year': '1996', 'degree': 'Msc', 'university': 'UC_Berkley'}\n",
      "46 Location {'location': 'WILLISTON'}\n",
      "46 Name {'name': 'Dave West'}\n",
      "46 Working Experience {'years': '2010-2013', 'company': 'Valentine, Novak and Sanchez', 'title': 'manager'}\n",
      "47 Education {'year': '2015', 'degree': 'Bsc', 'university': 'UCSC'}\n",
      "47 Education {'year': '1990', 'degree': 'Bsc', 'university': 'UCSC'}\n",
      "47 Location {'location': 'Beckyfort L.'}\n",
      "47 Name {'name': 'Kimberly Delacruz'}\n",
      "47 Working Experience {'years': '2003-2020', 'company': 'Olson, Rogers and Brown', 'title': 'doctor'}\n",
      "48 Location {'location': 'Daltonview'}\n",
      "48 Name {'name': 'Ciindy Simmos'}\n",
      "48 Working Experience {'years': '2005-2008', 'company': 'Anderson Group', 'title': 'analyst'}\n",
      "49 Education {'year': '1992', 'degree': 'Phd', 'university': 'UC_Berkley'}\n",
      "49 Education {'year': '1996', 'degree': 'Msc', 'university': 'MIT'}\n",
      "49 Location {'location': 'East Michael'}\n",
      "49 Name {'name': 'ANDERSON'}\n",
      "49 Working Experience {'years': '2013-2015', 'company': 'Collins, Diaz and Wagner', 'title': 'analyst'}\n"
     ]
    }
   ],
   "source": [
    "true_facts_sort = sorted(true_facts, key=lambda tf: (tf.ent_id, tf.ent_attr), reverse=False)\n",
    "for f in true_facts_sort:\n",
    "    print(f.ent_id, f.ent_attr, f.canonicalTuple)\n",
    "\n",
    "# for f in true_facts:\n",
    "#     print(f.canonicalTuple)"
   ]
  },
  {
   "cell_type": "code",
   "execution_count": 9,
   "metadata": {
    "pycharm": {
     "name": "#%%\n"
    }
   },
   "outputs": [
    {
     "name": "stdout",
     "output_type": "stream",
     "text": [
      "Matched = 207.00, Unmatched true = 22.00, Unmatched inferred = 1.00, Total = 229.00\n",
      "Recall= 0.90\n",
      "Precision = 1.00\n",
      "Accuracy = 0.90\n",
      "f1score = 0.95\n",
      "{'recall': 0.9039301310043668, 'precision': 0.9951923076923077, 'accuracy': 0.9, 'f1score': 0.9473684210526316}\n"
     ]
    }
   ],
   "source": [
    "eval = fuse_session.evaluate(inferred_facts=true_facts, grd_path='../../datasets/current/eval.json')\n",
    "print(eval)"
   ]
  }
 ],
 "metadata": {
  "kernelspec": {
   "display_name": "PyCharm (EntityMatching_Thesis)",
   "language": "python",
   "name": "pycharm-a8ea7e6e"
  },
  "language_info": {
   "codemirror_mode": {
    "name": "ipython",
    "version": 3
   },
   "file_extension": ".py",
   "mimetype": "text/x-python",
   "name": "python",
   "nbconvert_exporter": "python",
   "pygments_lexer": "ipython3",
   "version": "3.8.5"
  }
 },
 "nbformat": 4,
 "nbformat_minor": 2
}
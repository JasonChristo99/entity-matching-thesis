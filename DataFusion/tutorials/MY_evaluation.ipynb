{
 "cells": [
  {
   "cell_type": "code",
   "execution_count": 1,
   "outputs": [
    {
     "name": "stderr",
     "output_type": "stream",
     "text": [
      "C:\\Python38\\lib\\site-packages\\fuzzywuzzy\\fuzz.py:11: UserWarning: Using slow pure-python SequenceMatcher. Install python-Levenshtein to remove this warning\n",
      "  warnings.warn('Using slow pure-python SequenceMatcher. Install python-Levenshtein to remove this warning')\n",
      "C:\\Python38\\lib\\site-packages\\sklearn\\base.py:310: UserWarning: Trying to unpickle estimator LogisticRegression from version 0.23.2 when using version 0.24.2. This might lead to breaking code or invalid results. Use at your own risk.\n",
      "  warnings.warn(\n",
      "C:\\Users\\Iasonas\\AppData\\Roaming\\Python\\Python38\\site-packages\\gensim\\utils.py:1212: UserWarning: detected Windows; aliasing chunkize to chunkize_serial\n",
      "  warnings.warn(\"detected Windows; aliasing chunkize to chunkize_serial\")\n",
      "INFO:summarizer.preprocessing.cleaner:'pattern' package not found; tag filters are not available for English\n",
      "C:\\Python38\\lib\\site-packages\\sklearn\\base.py:310: UserWarning: Trying to unpickle estimator LogisticRegression from version 0.23.2 when using version 0.24.2. This might lead to breaking code or invalid results. Use at your own risk.\n",
      "  warnings.warn(\n",
      "INFO:gensim.models.utils_any2vec:loading projection weights from C:/Users/Iasonas/Downloads/GoogleNews-vectors-negative300.bin\n",
      "INFO:gensim.models.utils_any2vec:loaded (3000000, 300) matrix from C:/Users/Iasonas/Downloads/GoogleNews-vectors-negative300.bin\n",
      "INFO:global:Connection established to database.\n"
     ]
    }
   ],
   "source": [
    "%load_ext autoreload\n",
    "%autoreload 2\n",
    "\n",
    "import os\n",
    "os.chdir('C:/Users/Iasonas/PycharmProjects/EntityMatching_Thesis/DataFusion/tutorials')\n",
    "\n",
    "import fuse\n",
    "fuse_env = fuse.Fuse(verbose=True)\n",
    "fuse_session = fuse_env.get_session('test')\n",
    "\n",
    "# MATCHER='DEDUPE'\n",
    "MATCHER='AHC'"
   ],
   "metadata": {
    "collapsed": false,
    "pycharm": {
     "name": "#%%\n"
    }
   }
  },
  {
   "cell_type": "code",
   "execution_count": 2,
   "outputs": [],
   "source": [
    "if MATCHER=='DEDUPE':\n",
    "    from matching.dedupe import DedupeMatcher\n",
    "    dataset = fuse_session.ingest('../../datasets/current/observed.json',\n",
    "                                  'fusion_test', matching_strategy=DedupeMatcher)\n",
    "\n",
    "if MATCHER=='AHC':\n",
    "    from matching.collective_matching_ahc import CollectiveMatchingAHC\n",
    "    dataset = fuse_session.ingest('../../datasets/current/observed.json',\n",
    "                               'fusion_test', matching_strategy=CollectiveMatchingAHC)\n"
   ],
   "metadata": {
    "collapsed": false,
    "pycharm": {
     "name": "#%%\n"
    }
   }
  },
  {
   "cell_type": "code",
   "execution_count": 3,
   "metadata": {},
   "outputs": [],
   "source": [
    "fuse_session.train_matchers('../../datasets/current/matched.json')"
   ]
  },
  {
   "cell_type": "code",
   "execution_count": 4,
   "metadata": {},
   "outputs": [],
   "source": [
    "fuse_session.match_observations()"
   ]
  },
  {
   "cell_type": "code",
   "execution_count": 5,
   "metadata": {},
   "outputs": [
    {
     "name": "stderr",
     "output_type": "stream",
     "text": [
      "INFO:global:Running truth discovery for 10 iterations.\n",
      "INFO:global:Iteration = 0\n",
      "INFO:global:Source weights = {'Education': {'internsteps.com': 1.0, 'find.jobs': 1.0, 'pro-profiles.com': 1.0, 'pipl.com': 1.0}, 'Location': {'internsteps.com': 1.0, 'find.jobs': 1.0, 'pro-profiles.com': 1.0, 'pipl.com': 1.0}, 'Working Experience': {'internsteps.com': 1.0, 'find.jobs': 1.0, 'pro-profiles.com': 1.0, 'pipl.com': 1.0}, 'Name': {'internsteps.com': 1.0, 'find.jobs': 1.0, 'pro-profiles.com': 1.0, 'pipl.com': 1.0}}\n",
      "INFO:global:Iteration = 1\n",
      "INFO:global:Source weights = {'Education': {'internsteps.com': 2.2735975561207926, 'find.jobs': 2.8763855159214247, 'pro-profiles.com': 1.8718021769015918, 'pipl.com': 3.5973122605884478}, 'Location': {'internsteps.com': 1.7117167615545186, 'find.jobs': 1.2452157628599851, 'pro-profiles.com': 1.7117167615545186, 'pipl.com': 1.1143606456362487}, 'Working Experience': {'internsteps.com': 2.6149597780361975, 'find.jobs': 2.8094026953624986, 'pro-profiles.com': 1.9459101490553132, 'pipl.com': 2.3025850929940455}, 'Name': {'internsteps.com': 1.4240346891027376, 'find.jobs': 0.9267620317414502, 'pro-profiles.com': 2.517696472610991, 'pipl.com': 2.517696472610991}}\n",
      "INFO:global:Iteration = 2\n",
      "INFO:global:Source weights = {'Education': {'internsteps.com': 2.2735975561207926, 'find.jobs': 2.8763855159214247, 'pro-profiles.com': 1.8718021769015918, 'pipl.com': 3.5973122605884478}, 'Location': {'internsteps.com': 2.0149030205422647, 'find.jobs': 1.3143208614948012, 'pro-profiles.com': 1.8055527913603904, 'pipl.com': 0.8194409058842373}, 'Working Experience': {'internsteps.com': 2.6149597780361975, 'find.jobs': 2.8094026953624986, 'pro-profiles.com': 1.9459101490553132, 'pipl.com': 2.3025850929940455}, 'Name': {'internsteps.com': 1.2431935174792175, 'find.jobs': 0.6486954179891115, 'pro-profiles.com': 3.060270794691562, 'pipl.com': 4.1896547420264225}}\n",
      "INFO:global:Iteration = 3\n",
      "INFO:global:Source weights = {'Education': {'internsteps.com': 2.2735975561207926, 'find.jobs': 2.8763855159214247, 'pro-profiles.com': 1.8718021769015918, 'pipl.com': 3.5973122605884478}, 'Location': {'internsteps.com': 2.0149030205422647, 'find.jobs': 1.3143208614948012, 'pro-profiles.com': 1.8055527913603904, 'pipl.com': 0.8194409058842373}, 'Working Experience': {'internsteps.com': 2.6149597780361975, 'find.jobs': 2.8094026953624986, 'pro-profiles.com': 1.9459101490553132, 'pipl.com': 2.3025850929940455}, 'Name': {'internsteps.com': 1.1592369104845444, 'find.jobs': 0.7156200364120041, 'pro-profiles.com': 2.756840365271643, 'pipl.com': 4.595119850134589}}\n",
      "INFO:global:Iteration = 4\n",
      "INFO:global:Source weights = {'Education': {'internsteps.com': 2.2735975561207926, 'find.jobs': 2.8763855159214247, 'pro-profiles.com': 1.8718021769015918, 'pipl.com': 3.5973122605884478}, 'Location': {'internsteps.com': 2.0149030205422647, 'find.jobs': 1.3143208614948012, 'pro-profiles.com': 1.8055527913603904, 'pipl.com': 0.8194409058842373}, 'Working Experience': {'internsteps.com': 2.6149597780361975, 'find.jobs': 2.8094026953624986, 'pro-profiles.com': 1.9459101490553132, 'pipl.com': 2.3025850929940455}, 'Name': {'internsteps.com': 1.1592369104845444, 'find.jobs': 0.7156200364120041, 'pro-profiles.com': 2.756840365271643, 'pipl.com': 4.595119850134589}}\n",
      "INFO:global:Iteration = 5\n",
      "INFO:global:Source weights = {'Education': {'internsteps.com': 2.2735975561207926, 'find.jobs': 2.8763855159214247, 'pro-profiles.com': 1.8718021769015918, 'pipl.com': 3.5973122605884478}, 'Location': {'internsteps.com': 2.0149030205422647, 'find.jobs': 1.3143208614948012, 'pro-profiles.com': 1.8055527913603904, 'pipl.com': 0.8194409058842373}, 'Working Experience': {'internsteps.com': 2.6149597780361975, 'find.jobs': 2.8094026953624986, 'pro-profiles.com': 1.9459101490553132, 'pipl.com': 2.3025850929940455}, 'Name': {'internsteps.com': 1.1592369104845444, 'find.jobs': 0.7156200364120041, 'pro-profiles.com': 2.756840365271643, 'pipl.com': 4.595119850134589}}\n",
      "INFO:global:Iteration = 6\n",
      "INFO:global:Source weights = {'Education': {'internsteps.com': 2.2735975561207926, 'find.jobs': 2.8763855159214247, 'pro-profiles.com': 1.8718021769015918, 'pipl.com': 3.5973122605884478}, 'Location': {'internsteps.com': 2.0149030205422647, 'find.jobs': 1.3143208614948012, 'pro-profiles.com': 1.8055527913603904, 'pipl.com': 0.8194409058842373}, 'Working Experience': {'internsteps.com': 2.6149597780361975, 'find.jobs': 2.8094026953624986, 'pro-profiles.com': 1.9459101490553132, 'pipl.com': 2.3025850929940455}, 'Name': {'internsteps.com': 1.1592369104845444, 'find.jobs': 0.7156200364120041, 'pro-profiles.com': 2.756840365271643, 'pipl.com': 4.595119850134589}}\n",
      "INFO:global:Iteration = 7\n",
      "INFO:global:Source weights = {'Education': {'internsteps.com': 2.2735975561207926, 'find.jobs': 2.8763855159214247, 'pro-profiles.com': 1.8718021769015918, 'pipl.com': 3.5973122605884478}, 'Location': {'internsteps.com': 2.0149030205422647, 'find.jobs': 1.3143208614948012, 'pro-profiles.com': 1.8055527913603904, 'pipl.com': 0.8194409058842373}, 'Working Experience': {'internsteps.com': 2.6149597780361975, 'find.jobs': 2.8094026953624986, 'pro-profiles.com': 1.9459101490553132, 'pipl.com': 2.3025850929940455}, 'Name': {'internsteps.com': 1.1592369104845444, 'find.jobs': 0.7156200364120041, 'pro-profiles.com': 2.756840365271643, 'pipl.com': 4.595119850134589}}\n",
      "INFO:global:Iteration = 8\n",
      "INFO:global:Source weights = {'Education': {'internsteps.com': 2.2735975561207926, 'find.jobs': 2.8763855159214247, 'pro-profiles.com': 1.8718021769015918, 'pipl.com': 3.5973122605884478}, 'Location': {'internsteps.com': 2.0149030205422647, 'find.jobs': 1.3143208614948012, 'pro-profiles.com': 1.8055527913603904, 'pipl.com': 0.8194409058842373}, 'Working Experience': {'internsteps.com': 2.6149597780361975, 'find.jobs': 2.8094026953624986, 'pro-profiles.com': 1.9459101490553132, 'pipl.com': 2.3025850929940455}, 'Name': {'internsteps.com': 1.1592369104845444, 'find.jobs': 0.7156200364120041, 'pro-profiles.com': 2.756840365271643, 'pipl.com': 4.595119850134589}}\n",
      "INFO:global:Iteration = 9\n",
      "INFO:global:Source weights = {'Education': {'internsteps.com': 2.2735975561207926, 'find.jobs': 2.8763855159214247, 'pro-profiles.com': 1.8718021769015918, 'pipl.com': 3.5973122605884478}, 'Location': {'internsteps.com': 2.0149030205422647, 'find.jobs': 1.3143208614948012, 'pro-profiles.com': 1.8055527913603904, 'pipl.com': 0.8194409058842373}, 'Working Experience': {'internsteps.com': 2.6149597780361975, 'find.jobs': 2.8094026953624986, 'pro-profiles.com': 1.9459101490553132, 'pipl.com': 2.3025850929940455}, 'Name': {'internsteps.com': 1.1592369104845444, 'find.jobs': 0.7156200364120041, 'pro-profiles.com': 2.756840365271643, 'pipl.com': 4.595119850134589}}\n"
     ]
    }
   ],
   "source": [
    "tr_clusters = fuse_session.find_true_clusters()"
   ]
  },
  {
   "cell_type": "code",
   "execution_count": 6,
   "metadata": {
    "pycharm": {
     "name": "#%%\n"
    }
   },
   "outputs": [
    {
     "name": "stderr",
     "output_type": "stream",
     "text": [
      "INFO:gensim.models.utils_any2vec:loading projection weights from C:/Users/Iasonas/Downloads/GoogleNews-vectors-negative300.bin\n",
      "INFO:gensim.models.utils_any2vec:loaded (3000000, 300) matrix from C:/Users/Iasonas/Downloads/GoogleNews-vectors-negative300.bin\n",
      "INFO:global:Running fusion for 10 iterations.\n",
      "INFO:global:Iteration = 0\n",
      "INFO:global:Source weights = {'Education': {'internsteps.com': 1.0, 'find.jobs': 1.0, 'pro-profiles.com': 1.0, 'pipl.com': 1.0}, 'Location': {'internsteps.com': 1.0, 'find.jobs': 1.0, 'pro-profiles.com': 1.0, 'pipl.com': 1.0}, 'Working Experience': {'internsteps.com': 1.0, 'find.jobs': 1.0, 'pro-profiles.com': 1.0, 'pipl.com': 1.0}, 'Name': {'internsteps.com': 1.0, 'find.jobs': 1.0, 'pro-profiles.com': 1.0, 'pipl.com': 1.0}}\n",
      "INFO:global:Iteration = 1\n",
      "INFO:global:Source weights = {'Education': {'internsteps.com': 3.0122615755051965, 'find.jobs': 2.6554064676167846, 'pro-profiles.com': 2.607966742545224, 'pipl.com': 3.1060803307228575}, 'Location': {'internsteps.com': 4.595119850134589, 'find.jobs': 4.595119850134589, 'pro-profiles.com': 4.595119850134589, 'pipl.com': 4.595119850134589}, 'Working Experience': {'internsteps.com': 4.595119850134589, 'find.jobs': 4.595119850134589, 'pro-profiles.com': 5.252273428046623, 'pipl.com': 4.595119850134589}, 'Name': {'internsteps.com': 3.7135720667043066, 'find.jobs': 4.595119850134589, 'pro-profiles.com': 4.595119850134589, 'pipl.com': 4.595119850134589}}\n",
      "INFO:global:Iteration = 2\n",
      "INFO:global:Source weights = {'Education': {'internsteps.com': 3.0122615755051965, 'find.jobs': 2.6554064676167846, 'pro-profiles.com': 2.607966742545224, 'pipl.com': 3.1060803307228575}, 'Location': {'internsteps.com': 4.595119850134589, 'find.jobs': 4.595119850134589, 'pro-profiles.com': 4.595119850134589, 'pipl.com': 4.595119850134589}, 'Working Experience': {'internsteps.com': 4.595119850134589, 'find.jobs': 5.220355825078326, 'pro-profiles.com': 5.252273428046623, 'pipl.com': 4.595119850134589}, 'Name': {'internsteps.com': 3.7135720667043066, 'find.jobs': 4.595119850134589, 'pro-profiles.com': 4.595119850134589, 'pipl.com': 4.595119850134589}}\n",
      "INFO:global:Iteration = 3\n",
      "INFO:global:Source weights = {'Education': {'internsteps.com': 3.0122615755051965, 'find.jobs': 2.6554064676167846, 'pro-profiles.com': 2.607966742545224, 'pipl.com': 3.1060803307228575}, 'Location': {'internsteps.com': 4.595119850134589, 'find.jobs': 4.595119850134589, 'pro-profiles.com': 4.595119850134589, 'pipl.com': 4.595119850134589}, 'Working Experience': {'internsteps.com': 4.595119850134589, 'find.jobs': 5.220355825078326, 'pro-profiles.com': 5.252273428046623, 'pipl.com': 4.595119850134589}, 'Name': {'internsteps.com': 3.7135720667043066, 'find.jobs': 4.595119850134589, 'pro-profiles.com': 4.595119850134589, 'pipl.com': 4.595119850134589}}\n",
      "INFO:global:Iteration = 4\n",
      "INFO:global:Source weights = {'Education': {'internsteps.com': 3.0122615755051965, 'find.jobs': 2.6554064676167846, 'pro-profiles.com': 2.607966742545224, 'pipl.com': 3.1060803307228575}, 'Location': {'internsteps.com': 4.595119850134589, 'find.jobs': 4.595119850134589, 'pro-profiles.com': 4.595119850134589, 'pipl.com': 4.595119850134589}, 'Working Experience': {'internsteps.com': 4.595119850134589, 'find.jobs': 5.220355825078326, 'pro-profiles.com': 5.252273428046623, 'pipl.com': 4.595119850134589}, 'Name': {'internsteps.com': 3.7135720667043066, 'find.jobs': 4.595119850134589, 'pro-profiles.com': 4.595119850134589, 'pipl.com': 4.595119850134589}}\n",
      "INFO:global:Iteration = 5\n",
      "INFO:global:Source weights = {'Education': {'internsteps.com': 3.0122615755051965, 'find.jobs': 2.6554064676167846, 'pro-profiles.com': 2.607966742545224, 'pipl.com': 3.1060803307228575}, 'Location': {'internsteps.com': 4.595119850134589, 'find.jobs': 4.595119850134589, 'pro-profiles.com': 4.595119850134589, 'pipl.com': 4.595119850134589}, 'Working Experience': {'internsteps.com': 4.595119850134589, 'find.jobs': 5.220355825078326, 'pro-profiles.com': 5.252273428046623, 'pipl.com': 4.595119850134589}, 'Name': {'internsteps.com': 3.7135720667043066, 'find.jobs': 4.595119850134589, 'pro-profiles.com': 4.595119850134589, 'pipl.com': 4.595119850134589}}\n",
      "INFO:global:Iteration = 6\n",
      "INFO:global:Source weights = {'Education': {'internsteps.com': 3.0122615755051965, 'find.jobs': 2.6554064676167846, 'pro-profiles.com': 2.607966742545224, 'pipl.com': 3.1060803307228575}, 'Location': {'internsteps.com': 4.595119850134589, 'find.jobs': 4.595119850134589, 'pro-profiles.com': 4.595119850134589, 'pipl.com': 4.595119850134589}, 'Working Experience': {'internsteps.com': 4.595119850134589, 'find.jobs': 5.220355825078326, 'pro-profiles.com': 5.252273428046623, 'pipl.com': 4.595119850134589}, 'Name': {'internsteps.com': 3.7135720667043066, 'find.jobs': 4.595119850134589, 'pro-profiles.com': 4.595119850134589, 'pipl.com': 4.595119850134589}}\n",
      "INFO:global:Iteration = 7\n",
      "INFO:global:Source weights = {'Education': {'internsteps.com': 3.0122615755051965, 'find.jobs': 2.6554064676167846, 'pro-profiles.com': 2.607966742545224, 'pipl.com': 3.1060803307228575}, 'Location': {'internsteps.com': 4.595119850134589, 'find.jobs': 4.595119850134589, 'pro-profiles.com': 4.595119850134589, 'pipl.com': 4.595119850134589}, 'Working Experience': {'internsteps.com': 4.595119850134589, 'find.jobs': 5.220355825078326, 'pro-profiles.com': 5.252273428046623, 'pipl.com': 4.595119850134589}, 'Name': {'internsteps.com': 3.7135720667043066, 'find.jobs': 4.595119850134589, 'pro-profiles.com': 4.595119850134589, 'pipl.com': 4.595119850134589}}\n",
      "INFO:global:Iteration = 8\n",
      "INFO:global:Source weights = {'Education': {'internsteps.com': 3.0122615755051965, 'find.jobs': 2.6554064676167846, 'pro-profiles.com': 2.607966742545224, 'pipl.com': 3.1060803307228575}, 'Location': {'internsteps.com': 4.595119850134589, 'find.jobs': 4.595119850134589, 'pro-profiles.com': 4.595119850134589, 'pipl.com': 4.595119850134589}, 'Working Experience': {'internsteps.com': 4.595119850134589, 'find.jobs': 5.220355825078326, 'pro-profiles.com': 5.252273428046623, 'pipl.com': 4.595119850134589}, 'Name': {'internsteps.com': 3.7135720667043066, 'find.jobs': 4.595119850134589, 'pro-profiles.com': 4.595119850134589, 'pipl.com': 4.595119850134589}}\n",
      "INFO:global:Iteration = 9\n",
      "INFO:global:Source weights = {'Education': {'internsteps.com': 3.0122615755051965, 'find.jobs': 2.6554064676167846, 'pro-profiles.com': 2.607966742545224, 'pipl.com': 3.1060803307228575}, 'Location': {'internsteps.com': 4.595119850134589, 'find.jobs': 4.595119850134589, 'pro-profiles.com': 4.595119850134589, 'pipl.com': 4.595119850134589}, 'Working Experience': {'internsteps.com': 4.595119850134589, 'find.jobs': 5.220355825078326, 'pro-profiles.com': 5.252273428046623, 'pipl.com': 4.595119850134589}, 'Name': {'internsteps.com': 3.7135720667043066, 'find.jobs': 4.595119850134589, 'pro-profiles.com': 4.595119850134589, 'pipl.com': 4.595119850134589}}\n"
     ]
    },
    {
     "name": "stdout",
     "output_type": "stream",
     "text": [
      "{'degree': 'Msc', 'university': 'UC_Berkley', 'year': '2010'}\n",
      "{'location': 'Lake Julie'}\n",
      "{'degree': 'Msc', 'university': 'MIT', 'year': '2017'}\n",
      "{'name': 'JJESSICA'}\n",
      "{'title': 'developer', 'years': '1995-2017', 'company': 'Luna-Mcneil'}\n",
      "{'name': 'Andrew Knapp'}\n",
      "{'title': 'manager', 'years': '1997-2018', 'company': 'Collins-Alvarado'}\n",
      "{'location': 'Lake Courtney'}\n",
      "{'degree': 'Msc', 'university': 'UC_Berkley', 'year': '1993'}\n",
      "{'name': 'RYAN'}\n",
      "{'degree': 'Bsc', 'university': 'UC_Berkley', 'year': '1996'}\n",
      "{'location': 'Norh Matthewmouth'}\n",
      "{'title': 'developer', 'years': '1995-2019', 'company': 'Sullivan-Hammond'}\n",
      "{'name': 'Richarrd Campbell'}\n",
      "{'degree': 'Bsc', 'university': 'UCSC', 'year': '1993'}\n",
      "{'location': 'Port E'}\n",
      "{'degree': 'Phd', 'university': 'MIT', 'year': '2018'}\n",
      "{'location': 'Christinaberg'}\n",
      "{'title': 'analyst', 'years': '1997-2011', 'company': 'Smith-Case'}\n",
      "{'name': 'Anthpony iaz'}\n",
      "{'degree': 'Bsc', 'university': 'UCSC', 'year': '1996'}\n",
      "{'location': 'West Anthony'}\n",
      "{'title': 'developer', 'years': '2008-2016', 'company': 'Griffin, Davis and Alvarado'}\n",
      "{'name': 'AMLBERT GUERRRO'}\n",
      "{'degree': 'Bsc', 'university': 'UC_Berkley', 'year': '2004'}\n",
      "{'degree': 'Bsc', 'university': 'MIT', 'year': '1999'}\n",
      "{'title': 'analyst', 'years': '1996-2004', 'company': 'Obrien-Jarvis'}\n",
      "{'location': 'Lake Michael'}\n",
      "{'degree': 'Phd', 'university': 'UMass', 'year': '2008'}\n",
      "{'name': 'E. Michael'}\n",
      "{'title': 'analyst', 'years': '1992-2012', 'company': 'Evans Group'}\n",
      "{'name': 'Christopher Mathis'}\n",
      "{'title': 'developer', 'years': '1991-1992', 'company': 'Rodriguez PLC'}\n",
      "{'location': 'Murraystad'}\n",
      "{'degree': 'Bsc', 'university': 'UCSC', 'year': '2006'}\n",
      "{'name': 'VALENTJINE'}\n",
      "{'title': 'manager', 'years': '1998-2013', 'company': 'Henderson Ltd'}\n",
      "{'degree': 'Phd', 'university': 'MIT', 'year': '1997'}\n",
      "{'degree': 'Msc', 'university': 'UMass', 'year': '2010'}\n",
      "{'title': 'doctor', 'years': '1994-2006', 'company': 'Wol, Hunter and Mays'}\n",
      "{'name': 'Stewart'}\n",
      "{'title': 'doctor', 'years': '1993-2003', 'company': 'Hernandez Inc'}\n",
      "{'degree': 'Msc', 'university': 'UMass', 'year': '2019'}\n",
      "{'name': 'Benjamin Moreno'}\n",
      "{'title': 'analyst', 'years': '1995-1999', 'company': 'Russell, Hoffman and Wallace'}\n",
      "{'location': 'ONew Erinstad'}\n",
      "{'degree': 'Phd', 'university': 'UMass', 'year': '1995'}\n",
      "{'name': 'Lauure Pennington'}\n",
      "{'title': 'analyst', 'years': '2004-2018', 'company': 'Smith, Ferrell and Thompson'}\n",
      "{'location': 'West Allenport'}\n",
      "{'degree': 'Phd', 'university': 'UMass', 'year': '2008'}\n",
      "{'location': 'Crystalport P.'}\n",
      "{'title': 'doctor', 'years': '2003-2017', 'company': 'Baker and Sons'}\n",
      "{'name': 'Mathew Brfwer'}\n",
      "{'degree': 'Phd', 'university': 'UC_Berkley', 'year': '2003'}\n",
      "{'name': 'Logan'}\n",
      "{'title': 'manager', 'years': '2003-2004', 'company': 'Jimenez and Sons'}\n",
      "{'degree': 'Phd', 'university': 'UMass', 'year': '2011'}\n",
      "{'degree': 'Bsc', 'university': 'MIT', 'year': '2017'}\n",
      "{'location': 'DANIELSBURY'}\n",
      "{'title': 'developer', 'years': '2004-2019', 'company': 'Garrison-Morton'}\n",
      "{'name': 'Rooger Luna'}\n",
      "{'degree': 'Msc', 'university': 'UCSC', 'year': '2016'}\n",
      "{'degree': 'Bsc', 'university': 'UC_Berkley', 'year': '2014'}\n",
      "{'title': 'analyst', 'years': '1996-2008', 'company': 'Turner-Robinson'}\n",
      "{'location': 'SCOTTTON'}\n",
      "{'degree': 'Phd', 'university': 'UC_Berkley', 'year': '2011'}\n",
      "{'name': 'KIM'}\n",
      "{'title': 'doctor', 'years': '1990-2014', 'company': 'Ross, Holloway and Rosario'}\n",
      "{'degree': 'Phd', 'university': 'MIT', 'year': '2016'}\n",
      "{'degree': 'Phd', 'university': 'UC_Berkley', 'year': '2016'}\n",
      "{'location': 'Adkinsmouth'}\n",
      "{'location': 'East Robert'}\n",
      "{'name': 'JASON'}\n",
      "{'degree': 'Bsc', 'university': 'UC_Berkley', 'year': '2019'}\n",
      "{'location': 'Brandonshire'}\n",
      "{'title': 'developer', 'years': '1991-2010', 'company': 'Prince LLC'}\n",
      "{'name': 'Lisa Cunningham'}\n",
      "{'degree': 'Msc', 'university': 'UC_Berkley', 'year': '1996'}\n",
      "{'location': 'Larryberg'}\n",
      "{'title': 'developer', 'years': '2007-2018', 'company': 'Roberts, Wilson and Middleton'}\n",
      "{'name': 'Jason S.'}\n",
      "{'title': 'developer', 'years': '2018-2020', 'company': 'Scott, Martin and Quinn'}\n",
      "{'name': 'Martinez'}\n",
      "{'degree': 'Bsc', 'university': 'UC_Berkley', 'year': '1998'}\n",
      "{'degree': 'Msc', 'university': 'MIT', 'year': '1997'}\n",
      "{'degree': 'Bsc', 'university': 'UCSC', 'year': '1990'}\n",
      "{'location': 'Lake Latoyaland'}\n",
      "{'title': 'manager', 'years': '1990-32013', 'company': 'Powers and Sons'}\n",
      "{'name': 'Rebfcca Wheeler'}\n",
      "{'degree': 'Phd', 'university': 'UC_Berkley', 'year': '1992'}\n",
      "{'degree': 'Bsc', 'university': 'UMass', 'year': '2018'}\n",
      "{'location': 'East P.'}\n",
      "{'name': 'Joshua Dorsey'}\n",
      "{'title': 'manager', 'years': '2010-2013', 'company': 'Valentine, Novak and Sanchez'}\n",
      "{'location': 'North Jacqueline'}\n",
      "{'degree': 'Msc', 'university': 'MIT', 'year': '1996'}\n",
      "{'degree': 'Msc', 'university': 'MIT', 'year': '1993'}\n",
      "{'title': 'doctor', 'years': '2003-2020', 'company': 'Olson, Rogers and Brown'}\n",
      "{'location': 'ROSSTON'}\n",
      "{'location': 'TYLERSIDE'}\n",
      "{'name': 'Pbatricia Krueger'}\n",
      "{'title': 'analyst', 'years': '2013-2015', 'company': 'Collins, Diaz and Wagner'}\n",
      "{'location': 'Paynehaven'}\n",
      "{'location': 'Matthewsmouth'}\n",
      "{'name': 'Thomas Frbancis'}\n",
      "{'title': 'analyst', 'years': '2005-2008', 'company': 'Anderson Group'}\n",
      "{'name': 'Richard Jordan'}\n",
      "{'location': 'Dicksonburgh'}\n",
      "{'degree': 'Phd', 'university': 'MIT', 'year': '2005'}\n",
      "{'name': 'Mfelissa Johnson'}\n",
      "{'location': 'New Melissastad'}\n",
      "{'location': 'Jimenezmouth'}\n",
      "{'degree': 'Bsc', 'university': 'UMass', 'year': '2013'}\n",
      "{'name': 'ALLEN BRANNDY'}\n",
      "{'location': 'C. West'}\n",
      "{'name': 'REGINALD JACKSN'}\n",
      "{'name': 'TAYLOR'}\n",
      "{'location': 'MATTHEWHAVEN'}\n",
      "{'location': 'JESSICAMOUTH'}\n",
      "{'name': 'GONZALEZ'}\n",
      "{'name': 'Ryan Mcclure'}\n",
      "{'name': 'Kimberly Cameron'}\n",
      "{'degree': 'Bsc', 'university': 'UMass', 'year': '2020'}\n",
      "{'location': 'West Brittany'}\n",
      "{'degree': 'Msc', 'university': 'UCSC', 'year': '2014'}\n",
      "{'name': 'Joseph PPerez'}\n",
      "{'degree': 'Phd', 'university': 'UCSC', 'year': '2010'}\n",
      "{'location': 'DOUGLASMOUTH'}\n",
      "{'degree': 'Msc', 'university': 'UC_Berkley', 'year': '1995'}\n",
      "{'name': 'R. T.'}\n",
      "{'name': 'April Ross'}\n",
      "{'location': 'South Aaron'}\n",
      "{'degree': 'Bsc', 'university': 'UC_Berkley', 'year': '2000'}\n",
      "{'location': 'East L.'}\n",
      "{'name': 'Zahary Lozano'}\n",
      "{'name': 'John Williams'}\n",
      "{'degree': 'Bsc', 'university': 'UC_Berkley', 'year': '2003'}\n",
      "{'location': 'Garciaville'}\n",
      "{'name': 'Dave West'}\n",
      "{'name': 'Garza'}\n",
      "{'degree': 'Phd', 'university': 'MIT', 'year': '2019'}\n",
      "{'name': 'Angelica Jpones'}\n",
      "{'name': 'Kimberly Delacruz'}\n",
      "{'location': 'North Tylermouth'}\n",
      "{'name': 'Ciindy Simmos'}\n",
      "{'name': 'Steven Wood'}\n",
      "{'degree': 'Bsc', 'university': 'UCSC', 'year': '2018'}\n",
      "{'location': 'North Mike'}\n",
      "{'degree': 'Bsc', 'university': 'MIT', 'year': '2017'}\n",
      "{'name': 'Casey Woods'}\n",
      "{'degree': 'Bsc', 'university': 'MIT', 'year': '2020'}\n",
      "{'location': 'Michaelstad'}\n",
      "{'name': 'TYLERUANDERSON'}\n",
      "{'name': 'Amanda Ryan'}\n",
      "{'degree': 'Bsc', 'university': 'MIT', 'year': '2019'}\n",
      "{'name': 'Shannon Clark'}\n",
      "{'location': 'South Chase'}\n",
      "{'degree': 'Phd', 'university': 'MIT', 'year': '2015'}\n",
      "{'location': 'East Mariah'}\n",
      "{'name': 'Robinson'}\n",
      "{'location': 'CHENTOWN'}\n",
      "{'name': 'S. J.'}\n",
      "{'degree': 'Phd', 'university': 'UCSC', 'year': '2009'}\n",
      "{'location': 'Ramirezton'}\n",
      "{'location': 'WILLISTON'}\n",
      "{'name': 'Alicia'}\n",
      "{'degree': 'Msc', 'university': 'MIT', 'year': '2013'}\n",
      "{'location': 'Brownton'}\n",
      "{'title': 'analyst', 'years': '2004-2014', 'company': 'Gross-Morgan'}\n",
      "{'title': 'analyst', 'years': '1995-2009', 'company': 'Johnson-Robinson'}\n",
      "{'degree': 'Bsc', 'university': 'UC_Berkley', 'year': '2006'}\n",
      "{'degree': 'Msc', 'university': 'UCSC', 'year': '2013'}\n",
      "{'title': 'manager', 'years': '1994-2003', 'company': 'Walker Inc'}\n",
      "{'title': 'developer', 'years': '1991-2005', 'company': 'Hoover-Gonzalez'}\n",
      "{'degree': 'Msc', 'university': 'UC_Berkley', 'year': '1992'}\n",
      "{'title': 'doctor', 'years': '2000-2009', 'company': 'Morgan LLC'}\n",
      "{'location': 'Daltonview'}\n",
      "{'title': 'doctor', 'years': '1991-2007', 'company': 'Campbell, Cruz and Walker'}\n",
      "{'title': 'coder', 'years': '2008-2013', 'company': 'Byrd Group'}\n",
      "{'degree': 'Bsc', 'university': 'MIT', 'year': '2002'}\n",
      "{'title': 'doctor', 'years': '1995-2004', 'company': 'Beard-Evans'}\n",
      "{'location': 'East Michael'}\n",
      "{'degree': 'Phd', 'university': 'MIT', 'year': '1994'}\n",
      "{'title': 'analyst', 'years': '1997-2008', 'company': 'Hansen Ltd'}\n",
      "{'title': 'doctor', 'years': '1992-2006', 'company': 'Banks, Reynolds and Goodwin'}\n",
      "{'degree': 'Phd', 'university': 'UCSC', 'year': '2012'}\n",
      "{'title': 'doctor', 'years': '1997-2007', 'company': 'Brewer and Sons'}\n",
      "{'title': 'analyst', 'years': '1993-2005', 'company': 'Simpson, Mendoza and Carlson'}\n",
      "{'title': 'doctor', 'years': '1999-2014', 'company': 'Henderson PLC'}\n",
      "{'title': 'developer', 'years': '2006-2016', 'company': 'Pearson LLC'}\n",
      "{'title': 'doctor', 'years': '1991-1995', 'company': 'Sanchez PLC'}\n",
      "{'title': 'manager', 'years': '1991-1998', 'company': 'Blackburn Group'}\n",
      "{'title': 'analyst', 'years': '1999-2017', 'company': 'Williamson-Jennings'}\n",
      "{'title': 'manager', 'years': '1994-2008', 'company': 'Reyes-Golden'}\n",
      "{'title': 'manager', 'years': '2011-2020', 'company': 'Schwartz PLC'}\n",
      "{'degree': 'Bsc', 'university': 'UMass', 'year': '1992'}\n",
      "{'title': 'analyst', 'years': '1992-1999', 'company': 'Rivera LLC'}\n",
      "{'degree': 'Msc', 'university': 'UC_Berkley', 'year': '2018'}\n",
      "{'degree': 'Bsc', 'university': 'UCSC', 'year': '1990'}\n",
      "{'title': 'developer', 'years': '2005-2013', 'company': 'Hughes-Fitzgerald'}\n",
      "{'title': 'manager', 'years': '1993-1996', 'company': 'Martinez-Duran'}\n",
      "{'title': 'analyst', 'years': '1991-2016', 'company': 'Brooks, Waters and Kelley'}\n",
      "{'title': 'developer', 'years': '2012-2019', 'company': 'Collins, Ortega and Perry'}\n",
      "{'degree': 'Phd', 'university': 'UC_Berkley', 'year': '2020'}\n",
      "{'title': 'developer', 'years': '1997-2012', 'company': 'Flores LLC'}\n",
      "{'title': 'doctor', 'years': '1996-2012', 'company': 'Johns-Montoya'}\n",
      "{'degree': 'Bsc', 'university': 'UMass', 'year': '2003'}\n",
      "{'title': 'doctor', 'years': '2008-2009', 'company': 'Rogers, Brown and Holmes'}\n",
      "{'title': 'manager', 'years': '1991-1997', 'company': 'Mendoza LLC'}\n",
      "{'title': 'manager', 'years': '1990-1999', 'company': 'Larson-Welch'}\n",
      "{'title': 'analyst', 'years': '2016-2017', 'company': 'Alvarez, Horton and Roach'}\n",
      "{'title': 'manager', 'years': '2015-2017', 'company': 'Smith-Flores'}\n",
      "{'title': 'analyst', 'years': '2004-2018', 'company': 'Moon, Hamilton and Berry'}\n",
      "{'title': 'developer', 'years': '1999-2012', 'company': 'Atkinson, Nguyyen and Robbins'}\n",
      "{'title': 'doctor', 'years': '2007-2020', 'company': 'Horn Ltd'}\n",
      "{'title': 'manager', 'years': '1999-2009', 'company': 'Williams, Jackson and Castaneda'}\n"
     ]
    }
   ],
   "source": [
    "true_facts = fuse_session.find_true_facts(persist=True, no_weights=False)\n",
    "for f in true_facts:\n",
    "    print(f.canonicalTuple)"
   ]
  },
  {
   "cell_type": "code",
   "execution_count": 7,
   "metadata": {
    "pycharm": {
     "name": "#%%\n"
    }
   },
   "outputs": [
    {
     "name": "stderr",
     "output_type": "stream",
     "text": [
      "INFO:gensim.models.utils_any2vec:loading projection weights from C:/Users/Iasonas/Downloads/GoogleNews-vectors-negative300.bin\n",
      "INFO:gensim.models.utils_any2vec:loaded (3000000, 300) matrix from C:/Users/Iasonas/Downloads/GoogleNews-vectors-negative300.bin\n"
     ]
    },
    {
     "name": "stdout",
     "output_type": "stream",
     "text": [
      "Matched = 194.67, Unmatched true = 4.00, Unmatched inferred = 21.00, Total = 200.00\n",
      "recall= 0.97\n",
      "Precision = 0.90\n",
      "Accuracy = 0.88\n",
      "f1score = 0.94\n",
      "{'recall': 0.9733333333333333, 'precision': 0.9026275115919629, 'f1score': 0.9366479550922213}\n"
     ]
    }
   ],
   "source": [
    "eval = fuse_session.evaluate(inferred_facts=true_facts,grd_path='../../datasets/current/eval.json')\n",
    "print(eval)"
   ]
  }
 ],
 "metadata": {
  "kernelspec": {
   "display_name": "PyCharm (EntityMatching_Thesis)",
   "language": "python",
   "name": "pycharm-a8ea7e6e"
  },
  "language_info": {
   "codemirror_mode": {
    "name": "ipython",
    "version": 3
   },
   "file_extension": ".py",
   "mimetype": "text/x-python",
   "name": "python",
   "nbconvert_exporter": "python",
   "pygments_lexer": "ipython3",
   "version": "3.8.5"
  }
 },
 "nbformat": 4,
 "nbformat_minor": 2
}
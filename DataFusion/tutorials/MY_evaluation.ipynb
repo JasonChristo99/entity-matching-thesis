{
 "cells": [
  {
   "cell_type": "code",
   "execution_count": 1,
   "outputs": [
    {
     "name": "stderr",
     "output_type": "stream",
     "text": [
      "C:\\Python38\\lib\\site-packages\\fuzzywuzzy\\fuzz.py:11: UserWarning: Using slow pure-python SequenceMatcher. Install python-Levenshtein to remove this warning\n",
      "  warnings.warn('Using slow pure-python SequenceMatcher. Install python-Levenshtein to remove this warning')\n",
      "C:\\Python38\\lib\\site-packages\\sklearn\\base.py:310: UserWarning: Trying to unpickle estimator LogisticRegression from version 0.23.2 when using version 0.24.2. This might lead to breaking code or invalid results. Use at your own risk.\n",
      "  warnings.warn(\n",
      "C:\\Users\\Iasonas\\AppData\\Roaming\\Python\\Python38\\site-packages\\gensim\\utils.py:1212: UserWarning: detected Windows; aliasing chunkize to chunkize_serial\n",
      "  warnings.warn(\"detected Windows; aliasing chunkize to chunkize_serial\")\n",
      "INFO:summarizer.preprocessing.cleaner:'pattern' package not found; tag filters are not available for English\n",
      "C:\\Python38\\lib\\site-packages\\sklearn\\base.py:310: UserWarning: Trying to unpickle estimator LogisticRegression from version 0.23.2 when using version 0.24.2. This might lead to breaking code or invalid results. Use at your own risk.\n",
      "  warnings.warn(\n",
      "INFO:gensim.models.utils_any2vec:loading projection weights from C:/Users/Iasonas/Downloads/GoogleNews-vectors-negative300.bin\n",
      "INFO:gensim.models.utils_any2vec:loaded (3000000, 300) matrix from C:/Users/Iasonas/Downloads/GoogleNews-vectors-negative300.bin\n",
      "INFO:global:Connection established to database.\n"
     ]
    }
   ],
   "source": [
    "%load_ext autoreload\n",
    "%autoreload 2\n",
    "\n",
    "import os\n",
    "os.chdir('C:/Users/Iasonas/PycharmProjects/EntityMatching_Thesis/DataFusion/tutorials')\n",
    "\n",
    "import fuse\n",
    "fuse_env = fuse.Fuse(verbose=True)\n",
    "fuse_session = fuse_env.get_session('test')\n",
    "\n",
    "# MATCHER='DEDUPE'\n",
    "MATCHER='AHC'"
   ],
   "metadata": {
    "collapsed": false,
    "pycharm": {
     "name": "#%%\n"
    }
   }
  },
  {
   "cell_type": "code",
   "execution_count": 2,
   "outputs": [],
   "source": [
    "if MATCHER=='DEDUPE':\n",
    "    from matching.dedupe import DedupeMatcher\n",
    "    dataset = fuse_session.ingest('../../datasets/current/observed.json',\n",
    "                                  'fusion_test', matching_strategy=DedupeMatcher)\n",
    "\n",
    "if MATCHER=='AHC':\n",
    "    from matching.ahc_matcher import AgglomerativeHierarchicalClustering\n",
    "    dataset = fuse_session.ingest('../../datasets/current/observed.json',\n",
    "                               'fusion_test', matching_strategy=AgglomerativeHierarchicalClustering)\n"
   ],
   "metadata": {
    "collapsed": false,
    "pycharm": {
     "name": "#%%\n"
    }
   }
  },
  {
   "cell_type": "code",
   "execution_count": 3,
   "metadata": {},
   "outputs": [],
   "source": [
    "fuse_session.train_matchers('../../datasets/current/matched.json')"
   ]
  },
  {
   "cell_type": "code",
   "execution_count": null,
   "outputs": [],
   "source": [
    "# x=dataset.entity_attribute_matchers['Education'].attribute_to_simrank_matcher['university'].cluster_simrank_buffer\n",
    "# {k: round(v, 3) for k, v in sorted(x.items(), key=lambda item: item[1], reverse=True)}\n",
    "# dataset.entity_attribute_matchers['Education'].attribute_to_simrank_matcher['university'].get_simrank_score_of_tokens('Bsc','undergraduate_degree')\n",
    "# dataset.entity_attribute_matchers['Education'].attribute_to_simrank_matcher['degree'].get_simrank_score_of_tokens('Bsc','undergraduate_degree')\n",
    "# dataset.entity_attribute_matchers['Education'].attribute_to_simrank_matcher['degree'].get_simrank_score_of_tokens('doctorate','doctoral_degree')\n",
    "# dataset.entity_attribute_matchers['Education'].attribute_to_simrank_matcher['degree'].get_simrank_score_of_tokens('doctorate','Bsc')\n",
    "# dataset.entity_attribute_matchers['Education'].attribute_to_simrank_matcher['degree'].get_simrank_score_of_tokens('Msc','Bsc')\n",
    "# x=dataset.entity_attribute_matchers['Working Experience'].attribute_to_simrank_matcher['title'].cluster_simrank_buffer\n",
    "# {k: round(v, 3) for k, v in sorted(x.items(), key=lambda item: item[1], reverse=True)}\n",
    "# dataset.entity_attribute_matchers['Working Experience'].attribute_to_simrank_matcher['title'].get_simrank_score_of_tokens('manager','developer')\n",
    "# dataset.entity_attribute_matchers['Working Experience'].attribute_to_simrank_matcher['title'].get_simrank_score_of_tokens('coder','developer')\n",
    "# dataset.entity_attribute_matchers['Working Experience'].attribute_to_simrank_matcher['title'].get_simrank_score_of_tokens('analyst','developer')\n",
    "# dataset.entity_attribute_matchers['Working Experience'].attribute_to_simrank_matcher['title'].get_simrank_score_of_tokens('analyst','manager')\n",
    "# dataset.entity_attribute_matchers['Working Experience'].attribute_to_simrank_matcher['title'].get_simrank_score_of_tokens('doctor','manager')\n",
    "# dataset.entity_attribute_matchers['Working Experience'].attribute_to_simrank_matcher['title'].get_simrank_score_of_tokens('clinician','doctor')"
   ],
   "metadata": {
    "collapsed": false,
    "pycharm": {
     "name": "#%%\n"
    }
   }
  },
  {
   "cell_type": "code",
   "execution_count": 4,
   "metadata": {
    "pycharm": {
     "name": "#%%\n"
    }
   },
   "outputs": [],
   "source": [
    "fuse_session.match_observations()"
   ]
  },
  {
   "cell_type": "code",
   "execution_count": 5,
   "metadata": {},
   "outputs": [
    {
     "name": "stderr",
     "output_type": "stream",
     "text": [
      "INFO:global:Running truth discovery for 10 iterations.\n",
      "INFO:global:Iteration = 0\n",
      "INFO:global:Source weights = {'Location': {'internsteps.com': 1.0, 'find.jobs': 1.0, 'pro-profiles.com': 1.0, 'pipl.com': 1.0}, 'Education': {'internsteps.com': 1.0, 'find.jobs': 1.0, 'pro-profiles.com': 1.0, 'pipl.com': 1.0}, 'Name': {'internsteps.com': 1.0, 'find.jobs': 1.0, 'pro-profiles.com': 1.0, 'pipl.com': 1.0}, 'Working Experience': {'internsteps.com': 1.0, 'find.jobs': 1.0, 'pro-profiles.com': 1.0, 'pipl.com': 1.0}}\n",
      "INFO:global:Iteration = 1\n",
      "INFO:global:Source weights = {'Location': {'internsteps.com': 1.7117167615545186, 'find.jobs': 1.2452157628599851, 'pro-profiles.com': 1.7117167615545186, 'pipl.com': 1.1143606456362487}, 'Education': {'internsteps.com': 1.817077277212345, 'find.jobs': 2.674148649426528, 'pro-profiles.com': 1.730390522851763, 'pipl.com': 2.867898902044107}, 'Name': {'internsteps.com': 1.4240346891027376, 'find.jobs': 0.9267620317414502, 'pro-profiles.com': 2.517696472610991, 'pipl.com': 2.517696472610991}, 'Working Experience': {'internsteps.com': 1.6094379124341007, 'find.jobs': 1.285198244248522, 'pro-profiles.com': 1.4392167625742331, 'pipl.com': 1.493925025312256}}\n",
      "INFO:global:Iteration = 2\n",
      "INFO:global:Source weights = {'Location': {'internsteps.com': 2.0149030205422647, 'find.jobs': 1.3143208614948012, 'pro-profiles.com': 1.8055527913603904, 'pipl.com': 0.8194409058842373}, 'Education': {'internsteps.com': 1.817077277212345, 'find.jobs': 2.674148649426528, 'pro-profiles.com': 1.730390522851763, 'pipl.com': 2.867898902044107}, 'Name': {'internsteps.com': 1.2431935174792175, 'find.jobs': 0.6486954179891115, 'pro-profiles.com': 3.060270794691562, 'pipl.com': 4.1896547420264225}, 'Working Experience': {'internsteps.com': 1.8015156441734193, 'find.jobs': 1.0546491652469938, 'pro-profiles.com': 1.493925025312256, 'pipl.com': 1.5505974124111666}}\n",
      "INFO:global:Iteration = 3\n",
      "INFO:global:Source weights = {'Location': {'internsteps.com': 2.0149030205422647, 'find.jobs': 1.3143208614948012, 'pro-profiles.com': 1.8055527913603904, 'pipl.com': 0.8194409058842373}, 'Education': {'internsteps.com': 1.817077277212345, 'find.jobs': 2.674148649426528, 'pro-profiles.com': 1.730390522851763, 'pipl.com': 2.867898902044107}, 'Name': {'internsteps.com': 1.1592369104845444, 'find.jobs': 0.7156200364120041, 'pro-profiles.com': 2.756840365271643, 'pipl.com': 4.595119850134589}, 'Working Experience': {'internsteps.com': 1.8015156441734193, 'find.jobs': 1.0546491652469938, 'pro-profiles.com': 1.493925025312256, 'pipl.com': 1.5505974124111666}}\n",
      "INFO:global:Iteration = 4\n",
      "INFO:global:Source weights = {'Location': {'internsteps.com': 2.0149030205422647, 'find.jobs': 1.3143208614948012, 'pro-profiles.com': 1.8055527913603904, 'pipl.com': 0.8194409058842373}, 'Education': {'internsteps.com': 1.817077277212345, 'find.jobs': 2.674148649426528, 'pro-profiles.com': 1.730390522851763, 'pipl.com': 2.867898902044107}, 'Name': {'internsteps.com': 1.1592369104845444, 'find.jobs': 0.7156200364120041, 'pro-profiles.com': 2.756840365271643, 'pipl.com': 4.595119850134589}, 'Working Experience': {'internsteps.com': 1.8015156441734193, 'find.jobs': 1.0546491652469938, 'pro-profiles.com': 1.493925025312256, 'pipl.com': 1.5505974124111666}}\n",
      "INFO:global:Iteration = 5\n",
      "INFO:global:Source weights = {'Location': {'internsteps.com': 2.0149030205422647, 'find.jobs': 1.3143208614948012, 'pro-profiles.com': 1.8055527913603904, 'pipl.com': 0.8194409058842373}, 'Education': {'internsteps.com': 1.817077277212345, 'find.jobs': 2.674148649426528, 'pro-profiles.com': 1.730390522851763, 'pipl.com': 2.867898902044107}, 'Name': {'internsteps.com': 1.1592369104845444, 'find.jobs': 0.7156200364120041, 'pro-profiles.com': 2.756840365271643, 'pipl.com': 4.595119850134589}, 'Working Experience': {'internsteps.com': 1.8015156441734193, 'find.jobs': 1.0546491652469938, 'pro-profiles.com': 1.493925025312256, 'pipl.com': 1.5505974124111666}}\n",
      "INFO:global:Iteration = 6\n",
      "INFO:global:Source weights = {'Location': {'internsteps.com': 2.0149030205422647, 'find.jobs': 1.3143208614948012, 'pro-profiles.com': 1.8055527913603904, 'pipl.com': 0.8194409058842373}, 'Education': {'internsteps.com': 1.817077277212345, 'find.jobs': 2.674148649426528, 'pro-profiles.com': 1.730390522851763, 'pipl.com': 2.867898902044107}, 'Name': {'internsteps.com': 1.1592369104845444, 'find.jobs': 0.7156200364120041, 'pro-profiles.com': 2.756840365271643, 'pipl.com': 4.595119850134589}, 'Working Experience': {'internsteps.com': 1.8015156441734193, 'find.jobs': 1.0546491652469938, 'pro-profiles.com': 1.493925025312256, 'pipl.com': 1.5505974124111666}}\n",
      "INFO:global:Iteration = 7\n",
      "INFO:global:Source weights = {'Location': {'internsteps.com': 2.0149030205422647, 'find.jobs': 1.3143208614948012, 'pro-profiles.com': 1.8055527913603904, 'pipl.com': 0.8194409058842373}, 'Education': {'internsteps.com': 1.817077277212345, 'find.jobs': 2.674148649426528, 'pro-profiles.com': 1.730390522851763, 'pipl.com': 2.867898902044107}, 'Name': {'internsteps.com': 1.1592369104845444, 'find.jobs': 0.7156200364120041, 'pro-profiles.com': 2.756840365271643, 'pipl.com': 4.595119850134589}, 'Working Experience': {'internsteps.com': 1.8015156441734193, 'find.jobs': 1.0546491652469938, 'pro-profiles.com': 1.493925025312256, 'pipl.com': 1.5505974124111666}}\n",
      "INFO:global:Iteration = 8\n",
      "INFO:global:Source weights = {'Location': {'internsteps.com': 2.0149030205422647, 'find.jobs': 1.3143208614948012, 'pro-profiles.com': 1.8055527913603904, 'pipl.com': 0.8194409058842373}, 'Education': {'internsteps.com': 1.817077277212345, 'find.jobs': 2.674148649426528, 'pro-profiles.com': 1.730390522851763, 'pipl.com': 2.867898902044107}, 'Name': {'internsteps.com': 1.1592369104845444, 'find.jobs': 0.7156200364120041, 'pro-profiles.com': 2.756840365271643, 'pipl.com': 4.595119850134589}, 'Working Experience': {'internsteps.com': 1.8015156441734193, 'find.jobs': 1.0546491652469938, 'pro-profiles.com': 1.493925025312256, 'pipl.com': 1.5505974124111666}}\n",
      "INFO:global:Iteration = 9\n",
      "INFO:global:Source weights = {'Location': {'internsteps.com': 2.0149030205422647, 'find.jobs': 1.3143208614948012, 'pro-profiles.com': 1.8055527913603904, 'pipl.com': 0.8194409058842373}, 'Education': {'internsteps.com': 1.817077277212345, 'find.jobs': 2.674148649426528, 'pro-profiles.com': 1.730390522851763, 'pipl.com': 2.867898902044107}, 'Name': {'internsteps.com': 1.1592369104845444, 'find.jobs': 0.7156200364120041, 'pro-profiles.com': 2.756840365271643, 'pipl.com': 4.595119850134589}, 'Working Experience': {'internsteps.com': 1.8015156441734193, 'find.jobs': 1.0546491652469938, 'pro-profiles.com': 1.493925025312256, 'pipl.com': 1.5505974124111666}}\n"
     ]
    }
   ],
   "source": [
    "tr_clusters = fuse_session.find_true_clusters()"
   ]
  },
  {
   "cell_type": "code",
   "execution_count": null,
   "metadata": {
    "pycharm": {
     "name": "#%%\n",
     "is_executing": true
    }
   },
   "outputs": [
    {
     "name": "stderr",
     "output_type": "stream",
     "text": [
      "INFO:global:Running fusion for 10 iterations.\n",
      "INFO:global:Iteration = 0\n",
      "INFO:global:Source weights = {'Location': {'internsteps.com': 1.0, 'find.jobs': 1.0, 'pro-profiles.com': 1.0, 'pipl.com': 1.0}, 'Education': {'internsteps.com': 1.0, 'find.jobs': 1.0, 'pro-profiles.com': 1.0, 'pipl.com': 1.0}, 'Name': {'internsteps.com': 1.0, 'find.jobs': 1.0, 'pro-profiles.com': 1.0, 'pipl.com': 1.0}, 'Working Experience': {'internsteps.com': 1.0, 'find.jobs': 1.0, 'pro-profiles.com': 1.0, 'pipl.com': 1.0}}\n"
     ]
    }
   ],
   "source": [
    "true_facts = fuse_session.find_true_facts(persist=True, no_weights=False)\n",
    "for f in true_facts:\n",
    "    print(f.canonicalTuple)"
   ]
  },
  {
   "cell_type": "code",
   "execution_count": null,
   "metadata": {
    "pycharm": {
     "name": "#%%\n"
    }
   },
   "outputs": [],
   "source": [
    "eval = fuse_session.evaluate(inferred_facts=true_facts,grd_path='../../datasets/current/eval.json')\n",
    "print(eval)"
   ]
  }
 ],
 "metadata": {
  "kernelspec": {
   "display_name": "PyCharm (EntityMatching_Thesis)",
   "language": "python",
   "name": "pycharm-a8ea7e6e"
  },
  "language_info": {
   "codemirror_mode": {
    "name": "ipython",
    "version": 3
   },
   "file_extension": ".py",
   "mimetype": "text/x-python",
   "name": "python",
   "nbconvert_exporter": "python",
   "pygments_lexer": "ipython3",
   "version": "3.8.5"
  }
 },
 "nbformat": 4,
 "nbformat_minor": 2
}
{
 "cells": [
  {
   "cell_type": "code",
   "execution_count": 1,
   "outputs": [
    {
     "name": "stderr",
     "output_type": "stream",
     "text": [
      "C:\\Python38\\lib\\site-packages\\fuzzywuzzy\\fuzz.py:11: UserWarning: Using slow pure-python SequenceMatcher. Install python-Levenshtein to remove this warning\n",
      "  warnings.warn('Using slow pure-python SequenceMatcher. Install python-Levenshtein to remove this warning')\n",
      "C:\\Python38\\lib\\site-packages\\sklearn\\base.py:310: UserWarning: Trying to unpickle estimator LogisticRegression from version 0.23.2 when using version 0.24.2. This might lead to breaking code or invalid results. Use at your own risk.\n",
      "  warnings.warn(\n",
      "C:\\Users\\Iasonas\\AppData\\Roaming\\Python\\Python38\\site-packages\\gensim\\utils.py:1212: UserWarning: detected Windows; aliasing chunkize to chunkize_serial\n",
      "  warnings.warn(\"detected Windows; aliasing chunkize to chunkize_serial\")\n",
      "INFO:summarizer.preprocessing.cleaner:'pattern' package not found; tag filters are not available for English\n",
      "C:\\Python38\\lib\\site-packages\\sklearn\\base.py:310: UserWarning: Trying to unpickle estimator LogisticRegression from version 0.23.2 when using version 0.24.2. This might lead to breaking code or invalid results. Use at your own risk.\n",
      "  warnings.warn(\n",
      "INFO:gensim.models.utils_any2vec:loading projection weights from C:/Users/Iasonas/Downloads/GoogleNews-vectors-negative300.bin\n",
      "INFO:gensim.models.utils_any2vec:loaded (3000000, 300) matrix from C:/Users/Iasonas/Downloads/GoogleNews-vectors-negative300.bin\n",
      "INFO:global:Connection established to database.\n"
     ]
    }
   ],
   "source": [
    "%load_ext autoreload\n",
    "%autoreload 2\n",
    "\n",
    "import os\n",
    "os.chdir('C:/Users/Iasonas/PycharmProjects/EntityMatching_Thesis/DataFusion/tutorials')\n",
    "\n",
    "import fuse\n",
    "fuse_env = fuse.Fuse(verbose=True)\n",
    "fuse_session = fuse_env.get_session('test')\n",
    "\n",
    "# MATCHER='DEDUPE'\n",
    "MATCHER='AHC'"
   ],
   "metadata": {
    "collapsed": false,
    "pycharm": {
     "name": "#%%\n"
    }
   }
  },
  {
   "cell_type": "code",
   "execution_count": 2,
   "outputs": [],
   "source": [
    "if MATCHER=='DEDUPE':\n",
    "    from matching.dedupe import DedupeMatcher\n",
    "    dataset = fuse_session.ingest('../../datasets/current/observed.json',\n",
    "                                  'fusion_test', matching_strategy=DedupeMatcher)\n",
    "\n",
    "if MATCHER=='AHC':\n",
    "    from matching.collective_matching_ahc import AgglomerativeHierarchicalClustering\n",
    "    dataset = fuse_session.ingest('../../datasets/current/observed.json',\n",
    "                               'fusion_test', matching_strategy=AgglomerativeHierarchicalClustering)\n"
   ],
   "metadata": {
    "collapsed": false,
    "pycharm": {
     "name": "#%%\n"
    }
   }
  },
  {
   "cell_type": "code",
   "execution_count": 3,
   "metadata": {},
   "outputs": [],
   "source": [
    "fuse_session.train_matchers('../../datasets/current/matched.json')"
   ]
  },
  {
   "cell_type": "code",
   "execution_count": 33,
   "outputs": [
    {
     "data": {
      "text/plain": "{frozenset({10, frozenset({frozenset({16, 18})})}): 1,\n frozenset({10, frozenset({frozenset({3, 4, 5, 8, 10, 12, 13})})}): 1,\n frozenset({10, frozenset({frozenset({7, 19})})}): 1,\n frozenset({10, frozenset({frozenset({0, 2, 20})})}): 1,\n frozenset({10, frozenset({frozenset({15})})}): 1,\n frozenset({10, frozenset({frozenset({9})})}): 1,\n frozenset({10, frozenset({frozenset({1})})}): 1,\n frozenset({10, frozenset({frozenset({17})})}): 1,\n frozenset({10, frozenset({frozenset({6})})}): 1,\n frozenset({10, frozenset({frozenset({14})})}): 1,\n frozenset({10, frozenset({frozenset({11})})}): 1,\n frozenset({10, frozenset({frozenset({15}), frozenset({7, 19})})}): 0.36,\n frozenset({10, frozenset({frozenset({14}), frozenset({16, 18})})}): 0.355,\n frozenset({10, frozenset({frozenset({9}), frozenset({0, 2, 20})})}): 0.347,\n frozenset({10, frozenset({frozenset({11}), frozenset({17})})}): 0.34,\n frozenset({10,\n            frozenset({frozenset({11}),\n                       frozenset({3, 4, 5, 8, 10, 12, 13})})}): 0.332,\n frozenset({10,\n            frozenset({frozenset({17}),\n                       frozenset({3, 4, 5, 8, 10, 12, 13})})}): 0.327,\n frozenset({10, frozenset({frozenset({6}), frozenset({0, 2, 20})})}): 0.325,\n frozenset({10, frozenset({frozenset({6}), frozenset({7, 19})})}): 0.309,\n frozenset({10,\n            frozenset({frozenset({1}),\n                       frozenset({3, 4, 5, 8, 10, 12, 13})})}): 0.303,\n frozenset({10, frozenset({frozenset({1}), frozenset({0, 2, 20})})}): 0.299,\n frozenset({10, frozenset({frozenset({15}), frozenset({6})})}): 0.294,\n frozenset({10, frozenset({frozenset({9}), frozenset({6})})}): 0.293,\n frozenset({10, frozenset({frozenset({11}), frozenset({0, 2, 20})})}): 0.29,\n frozenset({10, frozenset({frozenset({9}), frozenset({14})})}): 0.288,\n frozenset({10, frozenset({frozenset({1}), frozenset({11})})}): 0.287,\n frozenset({10,\n            frozenset({frozenset({7, 19}), frozenset({0, 2, 20})})}): 0.286,\n frozenset({10, frozenset({frozenset({1}), frozenset({17})})}): 0.283,\n frozenset({10, frozenset({frozenset({11}), frozenset({7, 19})})}): 0.279,\n frozenset({10, frozenset({frozenset({9}), frozenset({16, 18})})}): 0.277,\n frozenset({10, frozenset({frozenset({9}), frozenset({1})})}): 0.275,\n frozenset({10,\n            frozenset({frozenset({3, 4, 5, 8, 10, 12, 13}),\n                       frozenset({16, 18})})}): 0.274,\n frozenset({10, frozenset({frozenset({1}), frozenset({16, 18})})}): 0.271,\n frozenset({10, frozenset({frozenset({7, 19}), frozenset({16, 18})})}): 0.27,\n frozenset({10,\n            frozenset({frozenset({3, 4, 5, 8, 10, 12, 13}),\n                       frozenset({7, 19})})}): 0.267,\n frozenset({10,\n            frozenset({frozenset({3, 4, 5, 8, 10, 12, 13}),\n                       frozenset({0, 2, 20})})}): 0.262,\n frozenset({10, frozenset({frozenset({14}), frozenset({0, 2, 20})})}): 0.258,\n frozenset({10,\n            frozenset({frozenset({0, 2, 20}), frozenset({16, 18})})}): 0.258,\n frozenset({10, frozenset({frozenset({6}), frozenset({16, 18})})}): 0.258,\n frozenset({10, frozenset({frozenset({17}), frozenset({0, 2, 20})})}): 0.256,\n frozenset({10, frozenset({frozenset({1}), frozenset({7, 19})})}): 0.254,\n frozenset({10, frozenset({frozenset({1}), frozenset({14})})}): 0.252,\n frozenset({10, frozenset({frozenset({1}), frozenset({6})})}): 0.25,\n frozenset({10,\n            frozenset({frozenset({6}),\n                       frozenset({3, 4, 5, 8, 10, 12, 13})})}): 0.245,\n frozenset({10, frozenset({frozenset({6}), frozenset({11})})}): 0.243,\n frozenset({10, frozenset({frozenset({15}), frozenset({0, 2, 20})})}): 0.241,\n frozenset({10,\n            frozenset({frozenset({3, 4, 5, 8, 10, 12, 13}),\n                       frozenset({14})})}): 0.24,\n frozenset({10, frozenset({frozenset({6}), frozenset({14})})}): 0.235,\n frozenset({10, frozenset({frozenset({9}), frozenset({7, 19})})}): 0.232,\n frozenset({10, frozenset({frozenset({9}), frozenset({11})})}): 0.23,\n frozenset({10,\n            frozenset({frozenset({9}),\n                       frozenset({3, 4, 5, 8, 10, 12, 13})})}): 0.228,\n frozenset({10, frozenset({frozenset({11}), frozenset({16, 18})})}): 0.226,\n frozenset({10, frozenset({frozenset({14}), frozenset({7, 19})})}): 0.226,\n frozenset({10, frozenset({frozenset({17}), frozenset({7, 19})})}): 0.222,\n frozenset({10, frozenset({frozenset({15}), frozenset({16, 18})})}): 0.22,\n frozenset({10, frozenset({frozenset({15}), frozenset({11})})}): 0.218,\n frozenset({10, frozenset({frozenset({9}), frozenset({17})})}): 0.216,\n frozenset({10,\n            frozenset({frozenset({15}),\n                       frozenset({3, 4, 5, 8, 10, 12, 13})})}): 0.211,\n frozenset({10, frozenset({frozenset({17}), frozenset({16, 18})})}): 0.21,\n frozenset({10, frozenset({frozenset({6}), frozenset({17})})}): 0.207,\n frozenset({10, frozenset({frozenset({11}), frozenset({14})})}): 0.186,\n frozenset({10, frozenset({frozenset({15}), frozenset({1})})}): 0.183,\n frozenset({10, frozenset({frozenset({17}), frozenset({14})})}): 0.177,\n frozenset({10, frozenset({frozenset({9}), frozenset({15})})}): 0.16,\n frozenset({10, frozenset({frozenset({15}), frozenset({14})})}): 0.156,\n frozenset({10, frozenset({frozenset({15}), frozenset({17})})}): 0.152}"
     },
     "execution_count": 33,
     "metadata": {},
     "output_type": "execute_result"
    }
   ],
   "source": [
    "# x=dataset.entity_attribute_matchers['Education'].attribute_to_simrank_matcher['university'].cluster_simrank_buffer\n",
    "# {k: round(v, 3) for k, v in sorted(x.items(), key=lambda item: item[1], reverse=True)}\n",
    "# dataset.entity_attribute_matchers['Education'].attribute_to_simrank_matcher['university'].get_simrank_score_of_tokens('Bsc','undergraduate_degree')\n",
    "# dataset.entity_attribute_matchers['Education'].attribute_to_simrank_matcher['degree'].get_simrank_score_of_tokens('Bsc','undergraduate_degree')\n",
    "# dataset.entity_attribute_matchers['Education'].attribute_to_simrank_matcher['degree'].get_simrank_score_of_tokens('doctorate','doctoral_degree')\n",
    "# dataset.entity_attribute_matchers['Education'].attribute_to_simrank_matcher['degree'].get_simrank_score_of_tokens('doctorate','Bsc')\n",
    "# dataset.entity_attribute_matchers['Education'].attribute_to_simrank_matcher['degree'].get_simrank_score_of_tokens('Msc','Bsc')\n",
    "x=dataset.entity_attribute_matchers['Working Experience'].attribute_to_simrank_matcher['title'].cluster_simrank_buffer\n",
    "{k: round(v, 3) for k, v in sorted(x.items(), key=lambda item: item[1], reverse=True)}\n",
    "# dataset.entity_attribute_matchers['Working Experience'].attribute_to_simrank_matcher['title'].get_simrank_score_of_tokens('manager','developer')\n",
    "# dataset.entity_attribute_matchers['Working Experience'].attribute_to_simrank_matcher['title'].get_simrank_score_of_tokens('coder','developer')\n",
    "# dataset.entity_attribute_matchers['Working Experience'].attribute_to_simrank_matcher['title'].get_simrank_score_of_tokens('analyst','developer')\n",
    "# dataset.entity_attribute_matchers['Working Experience'].attribute_to_simrank_matcher['title'].get_simrank_score_of_tokens('analyst','manager')\n",
    "# dataset.entity_attribute_matchers['Working Experience'].attribute_to_simrank_matcher['title'].get_simrank_score_of_tokens('doctor','manager')\n",
    "# dataset.entity_attribute_matchers['Working Experience'].attribute_to_simrank_matcher['title'].get_simrank_score_of_tokens('clinician','doctor')"
   ],
   "metadata": {
    "collapsed": false,
    "pycharm": {
     "name": "#%%\n"
    }
   }
  },
  {
   "cell_type": "code",
   "execution_count": null,
   "metadata": {
    "pycharm": {
     "name": "#%%\n"
    }
   },
   "outputs": [],
   "source": [
    "fuse_session.match_observations()"
   ]
  },
  {
   "cell_type": "code",
   "execution_count": null,
   "metadata": {},
   "outputs": [],
   "source": [
    "tr_clusters = fuse_session.find_true_clusters()"
   ]
  },
  {
   "cell_type": "code",
   "execution_count": null,
   "metadata": {
    "pycharm": {
     "name": "#%%\n"
    }
   },
   "outputs": [],
   "source": [
    "true_facts = fuse_session.find_true_facts(persist=True, no_weights=False)\n",
    "for f in true_facts:\n",
    "    print(f.canonicalTuple)"
   ]
  },
  {
   "cell_type": "code",
   "execution_count": null,
   "metadata": {
    "pycharm": {
     "name": "#%%\n"
    }
   },
   "outputs": [],
   "source": [
    "eval = fuse_session.evaluate(inferred_facts=true_facts,grd_path='../../datasets/current/eval.json')\n",
    "print(eval)"
   ]
  }
 ],
 "metadata": {
  "kernelspec": {
   "display_name": "PyCharm (EntityMatching_Thesis)",
   "language": "python",
   "name": "pycharm-a8ea7e6e"
  },
  "language_info": {
   "codemirror_mode": {
    "name": "ipython",
    "version": 3
   },
   "file_extension": ".py",
   "mimetype": "text/x-python",
   "name": "python",
   "nbconvert_exporter": "python",
   "pygments_lexer": "ipython3",
   "version": "3.8.5"
  }
 },
 "nbformat": 4,
 "nbformat_minor": 2
}
{
 "cells": [
  {
   "cell_type": "code",
   "execution_count": 38,
   "outputs": [
    {
     "name": "stderr",
     "output_type": "stream",
     "text": [
      "INFO:global:Connection established to database.\n"
     ]
    },
    {
     "name": "stdout",
     "output_type": "stream",
     "text": [
      "The autoreload extension is already loaded. To reload it, use:\n",
      "  %reload_ext autoreload\n"
     ]
    }
   ],
   "source": [
    "%load_ext autoreload\n",
    "%autoreload 2\n",
    "\n",
    "import os\n",
    "os.chdir('C:/Users/Iasonas/PycharmProjects/EntityMatching_Thesis/DataFusion/tutorials')\n",
    "\n",
    "import fuse\n",
    "fuse_env = fuse.Fuse(verbose=True)\n",
    "fuse_session = fuse_env.get_session('test')\n",
    "\n",
    "MATCHER='DEDUPE'\n",
    "# MATCHER='AHC'"
   ],
   "metadata": {
    "collapsed": false,
    "pycharm": {
     "name": "#%%\n"
    }
   }
  },
  {
   "cell_type": "code",
   "execution_count": 39,
   "outputs": [],
   "source": [
    "# from pprint import pprint\n",
    "# pprint(vars(fuse_env))\n",
    "# pprint(dir(fuse_env.dataengine))\n",
    "# pprint(vars(fuse_env.dataengine.env))\n",
    "# pprint(vars(fuse_session))\n",
    "# pprint(vars(fuse_session.env))"
   ],
   "metadata": {
    "collapsed": false,
    "pycharm": {
     "name": "#%%\n"
    }
   }
  },
  {
   "cell_type": "code",
   "execution_count": 40,
   "outputs": [
    {
     "name": "stderr",
     "output_type": "stream",
     "text": [
      "INFO:dedupe.api:Predicate set:\n",
      "INFO:dedupe.api:(TfidfTextCanopyPredicate: (0.6, year), LevenshteinCanopyPredicate: (3, university), LevenshteinCanopyPredicate: (4, university))\n",
      "INFO:dedupe.api:(TfidfNGramCanopyPredicate: (0.2, university), SimplePredicate: (sameFiveCharStartPredicate, degree))\n",
      "INFO:dedupe.api:(SimplePredicate: (commonFourGram, year), SimplePredicate: (sameThreeCharStartPredicate, degree), LevenshteinCanopyPredicate: (4, university))\n",
      "INFO:dedupe.api:(SimplePredicate: (nearIntegersPredicate, year), SimplePredicate: (suffixArray, university))\n",
      "INFO:dedupe.api:Predicate set:\n",
      "INFO:dedupe.api:(LevenshteinCanopyPredicate: (2, company), TfidfNGramCanopyPredicate: (0.4, year), SimplePredicate: (commonSixGram, company))\n",
      "INFO:dedupe.api:(SimplePredicate: (firstIntegerPredicate, year), TfidfTextCanopyPredicate: (0.6, title))\n",
      "INFO:dedupe.api:Predicate set:\n",
      "INFO:dedupe.api:Predicate set:\n",
      "INFO:dedupe.api:TfidfNGramCanopyPredicate: (0.2, skill)\n",
      "INFO:dedupe.api:LevenshteinCanopyPredicate: (3, skill)\n",
      "INFO:dedupe.api:(TfidfNGramCanopyPredicate: (0.6, skill), SimplePredicate: (commonFourGram, skill), SimplePredicate: (twoGramFingerprint, skill))\n"
     ]
    }
   ],
   "source": [
    "if MATCHER=='DEDUPE':\n",
    "    from matching.dedupe import DedupeMatcher\n",
    "    dataset = fuse_session.ingest('C:/Users/Iasonas/Downloads/MSc_DataInt_Code/Data_fusion/tutorials/cmdline_test/data/observed.json',\n",
    "                                  'fusion_test', matching_strategy=DedupeMatcher)\n",
    "\n",
    "if MATCHER=='AHC':\n",
    "    from matching.collective_matching_ahc import CollectiveMatchingAHC\n",
    "    dataset = fuse_session.ingest('../../datasets/current/observed.json',\n",
    "                               'fusion_test', matching_strategy=CollectiveMatchingAHC)"
   ],
   "metadata": {
    "collapsed": false,
    "pycharm": {
     "name": "#%%\n"
    }
   }
  },
  {
   "cell_type": "code",
   "execution_count": 41,
   "outputs": [],
   "source": [
    "# from matching.collective_matching_ahc.simrank import SimRank\n",
    "# srank=SimRank(dataset, 'Working Experience', 'title')\n",
    "# srank=SimRank(dataset, 'Education', 'degree')\n",
    "# srank=SimRank(dataset, 'Education', 'university')"
   ],
   "metadata": {
    "collapsed": false,
    "pycharm": {
     "name": "#%%\n"
    }
   }
  },
  {
   "cell_type": "code",
   "execution_count": 42,
   "outputs": [],
   "source": [
    "# pprint(vars(dataset))\n",
    "# pprint(dataset.sources)\n",
    "# pprint(dataset.entity_attributes)\n",
    "# pprint(dataset.ent_attr_schema)\n",
    "# pprint(vars(dataset.entity_attribute_matchers['Education']))\n",
    "# pprint(vars(dataset.observed_fact_collections['Education'][0]))\n",
    "# pprint(vars(dataset.observed_fact_collections['Education']))\n",
    "# pprint(len(dataset.observed_fact_collections['Education']))\n",
    "# pprint(vars(dataset.observed_fact_collections['Education'][2]))\n",
    "# pprint(vars(dataset.observed_fact_collections['Education'][2].facts[0]))\n",
    "# pprint(vars(dataset.observed_facts[0]['Education'][0]))\n",
    "# pprint(len(dataset.observed_fact_collections))\n",
    "# pprint(dataset.observed_fact_collections.keys())\n",
    "# pprint(vars(dataset.observed_fact_collections['Education'][0]))\n",
    "# pprint(len(dataset.observed_fact_collections.keys()))\n",
    "# pprint(len(dataset.observed_facts[0].keys()))\n",
    "\n",
    "\n",
    "# pprint(vars(dataset))\n",
    "# pprint(vars(dataset))"
   ],
   "metadata": {
    "collapsed": false,
    "pycharm": {
     "name": "#%%\n"
    }
   }
  },
  {
   "cell_type": "code",
   "execution_count": 43,
   "metadata": {},
   "outputs": [],
   "source": [
    "# fuse_session.train_matchers('C:/Users/Iasonas/Downloads/MSc_DataInt_Code/Data_fusion/tutorials/cmdline_test/data/matched.json')\n",
    "fuse_session.train_matchers('../../datasets/current/matched.json')"
   ]
  },
  {
   "cell_type": "code",
   "execution_count": null,
   "metadata": {
    "pycharm": {
     "is_executing": true
    }
   },
   "outputs": [],
   "source": [
    "fuse_session.match_observations()"
   ]
  },
  {
   "cell_type": "code",
   "execution_count": null,
   "metadata": {
    "pycharm": {
     "is_executing": true
    }
   },
   "outputs": [],
   "source": [
    "tr_clusters = fuse_session.find_true_clusters()"
   ]
  },
  {
   "cell_type": "code",
   "execution_count": null,
   "metadata": {
    "pycharm": {
     "name": "#%%\n",
     "is_executing": true
    }
   },
   "outputs": [],
   "source": [
    "true_facts = fuse_session.find_true_facts(persist=True, no_weights=False)\n",
    "for f in true_facts:\n",
    "    print(f.canonicalTuple)"
   ]
  },
  {
   "cell_type": "code",
   "execution_count": null,
   "metadata": {
    "pycharm": {
     "name": "#%%\n",
     "is_executing": true
    }
   },
   "outputs": [],
   "source": [
    "eval = fuse_session.evaluate(inferred_facts=true_facts,grd_path='../../datasets/current/eval.json')\n",
    "print(eval)"
   ]
  },
  {
   "cell_type": "code",
   "execution_count": null,
   "metadata": {
    "pycharm": {
     "is_executing": true
    }
   },
   "outputs": [],
   "source": [
    "for c in fuse_session.dataset.cluster_map:\n",
    "    c1 = fuse_session.dataset.cluster_map[c]\n",
    "    print (\"\\n\\n New cluster\")\n",
    "    for f in c1.facts:\n",
    "        print (f.fid, f.eid, f.ent_attr, f.src, f.normalized)"
   ]
  },
  {
   "cell_type": "code",
   "execution_count": null,
   "metadata": {
    "pycharm": {
     "is_executing": true
    }
   },
   "outputs": [],
   "source": []
  },
  {
   "cell_type": "code",
   "execution_count": null,
   "metadata": {
    "pycharm": {
     "is_executing": true
    }
   },
   "outputs": [],
   "source": []
  },
  {
   "cell_type": "code",
   "execution_count": null,
   "metadata": {
    "pycharm": {
     "is_executing": true
    }
   },
   "outputs": [],
   "source": []
  }
 ],
 "metadata": {
  "kernelspec": {
   "display_name": "PyCharm (EntityMatching_Thesis)",
   "language": "python",
   "name": "pycharm-a8ea7e6e"
  },
  "language_info": {
   "codemirror_mode": {
    "name": "ipython",
    "version": 3
   },
   "file_extension": ".py",
   "mimetype": "text/x-python",
   "name": "python",
   "nbconvert_exporter": "python",
   "pygments_lexer": "ipython3",
   "version": "3.8.5"
  }
 },
 "nbformat": 4,
 "nbformat_minor": 2
}